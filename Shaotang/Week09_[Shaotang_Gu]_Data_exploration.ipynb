{
  "nbformat": 4,
  "nbformat_minor": 0,
  "metadata": {
    "colab": {
      "name": "Week09-[Shaotang Gu] - Data exploration.ipynb",
      "provenance": [],
      "collapsed_sections": []
    },
    "kernelspec": {
      "name": "python3",
      "display_name": "Python 3"
    },
    "language_info": {
      "name": "python"
    }
  },
  "cells": [
    {
      "cell_type": "code",
      "metadata": {
        "id": "jKMjxfr7bDNk"
      },
      "source": [
        "import pandas as pd\n",
        "import numpy as np"
      ],
      "execution_count": null,
      "outputs": []
    },
    {
      "cell_type": "markdown",
      "metadata": {
        "id": "ZmC6mlwkQ0fw"
      },
      "source": [
        "## 1.  Import the package to help with following analysis process"
      ]
    },
    {
      "cell_type": "code",
      "metadata": {
        "id": "wJEHdjjGcYth"
      },
      "source": [
        "# upload the step count data and store it into dataframe\n",
        "df = pd.read_csv('person1-step-data.csv',index_col = 1,parse_dates=True)"
      ],
      "execution_count": null,
      "outputs": []
    },
    {
      "cell_type": "markdown",
      "metadata": {
        "id": "3yI-IzrIRMmQ"
      },
      "source": [
        "## 2. Upload the data and change the datatype in the cvs file to the datatype of datetime.\n",
        "\n",
        "When transfer the Date's datatype to datetime, it really help us to group the data by years or months and bring a huge improvement in efficient aspect. "
      ]
    },
    {
      "cell_type": "code",
      "metadata": {
        "colab": {
          "base_uri": "https://localhost:8080/",
          "height": 442
        },
        "id": "87fTjmYdcfbA",
        "outputId": "38775c14-b7b3-4064-fbae-9d3125ef8a3e"
      },
      "source": [
        "# observe the data in the df\n",
        "df"
      ],
      "execution_count": null,
      "outputs": [
        {
          "output_type": "execute_result",
          "data": {
            "text/html": [
              "<div>\n",
              "<style scoped>\n",
              "    .dataframe tbody tr th:only-of-type {\n",
              "        vertical-align: middle;\n",
              "    }\n",
              "\n",
              "    .dataframe tbody tr th {\n",
              "        vertical-align: top;\n",
              "    }\n",
              "\n",
              "    .dataframe thead th {\n",
              "        text-align: right;\n",
              "    }\n",
              "</style>\n",
              "<table border=\"1\" class=\"dataframe\">\n",
              "  <thead>\n",
              "    <tr style=\"text-align: right;\">\n",
              "      <th></th>\n",
              "      <th>Source</th>\n",
              "      <th>Hour</th>\n",
              "      <th>Count</th>\n",
              "    </tr>\n",
              "    <tr>\n",
              "      <th>Date</th>\n",
              "      <th></th>\n",
              "      <th></th>\n",
              "      <th></th>\n",
              "    </tr>\n",
              "  </thead>\n",
              "  <tbody>\n",
              "    <tr>\n",
              "      <th>2014-12-07</th>\n",
              "      <td>Person1 iPhone SE</td>\n",
              "      <td>8</td>\n",
              "      <td>13</td>\n",
              "    </tr>\n",
              "    <tr>\n",
              "      <th>2014-12-07</th>\n",
              "      <td>Person1 iPhone SE</td>\n",
              "      <td>8</td>\n",
              "      <td>13</td>\n",
              "    </tr>\n",
              "    <tr>\n",
              "      <th>2014-12-07</th>\n",
              "      <td>Person1 iPhone SE</td>\n",
              "      <td>8</td>\n",
              "      <td>1</td>\n",
              "    </tr>\n",
              "    <tr>\n",
              "      <th>2014-12-07</th>\n",
              "      <td>Person1 iPhone SE</td>\n",
              "      <td>8</td>\n",
              "      <td>9</td>\n",
              "    </tr>\n",
              "    <tr>\n",
              "      <th>2014-12-07</th>\n",
              "      <td>Person1 iPhone SE</td>\n",
              "      <td>8</td>\n",
              "      <td>15</td>\n",
              "    </tr>\n",
              "    <tr>\n",
              "      <th>...</th>\n",
              "      <td>...</td>\n",
              "      <td>...</td>\n",
              "      <td>...</td>\n",
              "    </tr>\n",
              "    <tr>\n",
              "      <th>2021-09-22</th>\n",
              "      <td>Person1 iPhone SE</td>\n",
              "      <td>17</td>\n",
              "      <td>1241</td>\n",
              "    </tr>\n",
              "    <tr>\n",
              "      <th>2021-09-22</th>\n",
              "      <td>Person1 iPhone SE</td>\n",
              "      <td>17</td>\n",
              "      <td>1212</td>\n",
              "    </tr>\n",
              "    <tr>\n",
              "      <th>2021-09-22</th>\n",
              "      <td>Person1 iPhone SE</td>\n",
              "      <td>18</td>\n",
              "      <td>808</td>\n",
              "    </tr>\n",
              "    <tr>\n",
              "      <th>2021-09-22</th>\n",
              "      <td>Person1 iPhone SE</td>\n",
              "      <td>18</td>\n",
              "      <td>392</td>\n",
              "    </tr>\n",
              "    <tr>\n",
              "      <th>2021-09-22</th>\n",
              "      <td>Person1 iPhone SE</td>\n",
              "      <td>18</td>\n",
              "      <td>34</td>\n",
              "    </tr>\n",
              "  </tbody>\n",
              "</table>\n",
              "<p>183787 rows × 3 columns</p>\n",
              "</div>"
            ],
            "text/plain": [
              "                       Source  Hour  Count\n",
              "Date                                      \n",
              "2014-12-07  Person1 iPhone SE     8     13\n",
              "2014-12-07  Person1 iPhone SE     8     13\n",
              "2014-12-07  Person1 iPhone SE     8      1\n",
              "2014-12-07  Person1 iPhone SE     8      9\n",
              "2014-12-07  Person1 iPhone SE     8     15\n",
              "...                       ...   ...    ...\n",
              "2021-09-22  Person1 iPhone SE    17   1241\n",
              "2021-09-22  Person1 iPhone SE    17   1212\n",
              "2021-09-22  Person1 iPhone SE    18    808\n",
              "2021-09-22  Person1 iPhone SE    18    392\n",
              "2021-09-22  Person1 iPhone SE    18     34\n",
              "\n",
              "[183787 rows x 3 columns]"
            ]
          },
          "metadata": {},
          "execution_count": 126
        }
      ]
    },
    {
      "cell_type": "markdown",
      "metadata": {
        "id": "vRhiAJqLRnk4"
      },
      "source": [
        "## 3. To check and observe the nature of data in the dataframe we create\n",
        "\n",
        "We try to do the operation about examin whether the null values exsits in the dataframe"
      ]
    },
    {
      "cell_type": "code",
      "metadata": {
        "colab": {
          "base_uri": "https://localhost:8080/"
        },
        "id": "3mUL4wYicnH2",
        "outputId": "e48e4263-777b-47e8-8569-96dfbbd92c41"
      },
      "source": [
        "# to check whether exist NULL/missing value in the dataframe\n",
        "df.isnull().any().any()"
      ],
      "execution_count": null,
      "outputs": [
        {
          "output_type": "execute_result",
          "data": {
            "text/plain": [
              "False"
            ]
          },
          "metadata": {},
          "execution_count": 127
        }
      ]
    },
    {
      "cell_type": "markdown",
      "metadata": {
        "id": "1f_SGffmSEvk"
      },
      "source": [
        "In all the cells in the dataframe,there do not have the NULL value"
      ]
    },
    {
      "cell_type": "code",
      "metadata": {
        "colab": {
          "base_uri": "https://localhost:8080/"
        },
        "id": "NLA5D_K9e03L",
        "outputId": "58f62e87-b368-4c99-a036-9dbc5aad6f36"
      },
      "source": [
        "# observe the data in count column\n",
        "df[\"Count\"].describe()"
      ],
      "execution_count": null,
      "outputs": [
        {
          "output_type": "execute_result",
          "data": {
            "text/plain": [
              "count    183787.000000\n",
              "mean         79.791558\n",
              "std         358.099285\n",
              "min           1.000000\n",
              "25%           6.000000\n",
              "50%          17.000000\n",
              "75%          35.000000\n",
              "max       88359.000000\n",
              "Name: Count, dtype: float64"
            ]
          },
          "metadata": {},
          "execution_count": 128
        }
      ]
    },
    {
      "cell_type": "markdown",
      "metadata": {
        "id": "xEtQgW6tSP0m"
      },
      "source": [
        "To get the math feature and range of these data in the dataframe, and check whether there are any outliers should be cleaned. From above, it result is pretty normal,though the max step count is reach 88359 in one certain day, however the data is puasible."
      ]
    },
    {
      "cell_type": "markdown",
      "metadata": {
        "id": "bUU9lSM2S3Vg"
      },
      "source": [
        "## 4. we integrate the data and resample the data by months"
      ]
    },
    {
      "cell_type": "code",
      "metadata": {
        "colab": {
          "base_uri": "https://localhost:8080/",
          "height": 442
        },
        "id": "uQvFkAJW7lry",
        "outputId": "e53cf4a9-eefe-4bcb-8d9a-c8fc5b9da7a1"
      },
      "source": [
        "df = df.drop(columns=['Hour'])\n",
        "df = df.resample('M').sum()\n",
        "df"
      ],
      "execution_count": null,
      "outputs": [
        {
          "output_type": "execute_result",
          "data": {
            "text/html": [
              "<div>\n",
              "<style scoped>\n",
              "    .dataframe tbody tr th:only-of-type {\n",
              "        vertical-align: middle;\n",
              "    }\n",
              "\n",
              "    .dataframe tbody tr th {\n",
              "        vertical-align: top;\n",
              "    }\n",
              "\n",
              "    .dataframe thead th {\n",
              "        text-align: right;\n",
              "    }\n",
              "</style>\n",
              "<table border=\"1\" class=\"dataframe\">\n",
              "  <thead>\n",
              "    <tr style=\"text-align: right;\">\n",
              "      <th></th>\n",
              "      <th>Count</th>\n",
              "    </tr>\n",
              "    <tr>\n",
              "      <th>Date</th>\n",
              "      <th></th>\n",
              "    </tr>\n",
              "  </thead>\n",
              "  <tbody>\n",
              "    <tr>\n",
              "      <th>2014-12-31</th>\n",
              "      <td>111590</td>\n",
              "    </tr>\n",
              "    <tr>\n",
              "      <th>2015-01-31</th>\n",
              "      <td>131321</td>\n",
              "    </tr>\n",
              "    <tr>\n",
              "      <th>2015-02-28</th>\n",
              "      <td>106851</td>\n",
              "    </tr>\n",
              "    <tr>\n",
              "      <th>2015-03-31</th>\n",
              "      <td>101621</td>\n",
              "    </tr>\n",
              "    <tr>\n",
              "      <th>2015-04-30</th>\n",
              "      <td>91726</td>\n",
              "    </tr>\n",
              "    <tr>\n",
              "      <th>...</th>\n",
              "      <td>...</td>\n",
              "    </tr>\n",
              "    <tr>\n",
              "      <th>2021-05-31</th>\n",
              "      <td>518898</td>\n",
              "    </tr>\n",
              "    <tr>\n",
              "      <th>2021-06-30</th>\n",
              "      <td>406440</td>\n",
              "    </tr>\n",
              "    <tr>\n",
              "      <th>2021-07-31</th>\n",
              "      <td>360565</td>\n",
              "    </tr>\n",
              "    <tr>\n",
              "      <th>2021-08-31</th>\n",
              "      <td>321087</td>\n",
              "    </tr>\n",
              "    <tr>\n",
              "      <th>2021-09-30</th>\n",
              "      <td>205743</td>\n",
              "    </tr>\n",
              "  </tbody>\n",
              "</table>\n",
              "<p>82 rows × 1 columns</p>\n",
              "</div>"
            ],
            "text/plain": [
              "             Count\n",
              "Date              \n",
              "2014-12-31  111590\n",
              "2015-01-31  131321\n",
              "2015-02-28  106851\n",
              "2015-03-31  101621\n",
              "2015-04-30   91726\n",
              "...            ...\n",
              "2021-05-31  518898\n",
              "2021-06-30  406440\n",
              "2021-07-31  360565\n",
              "2021-08-31  321087\n",
              "2021-09-30  205743\n",
              "\n",
              "[82 rows x 1 columns]"
            ]
          },
          "metadata": {},
          "execution_count": 129
        }
      ]
    },
    {
      "cell_type": "markdown",
      "metadata": {
        "id": "O0pNhBklTI0t"
      },
      "source": [
        "The driving question is try to find whether the tester is more active in the last 12 months than the 12 months before that. However, we find for 2014 and 2021, the data is imcompleted, there are only one month and nine months data relatively in 2214 and 2021. Then we try to drop these data belong to 2014 and 2021, and analysis the completed data from 2015 to 2020 **(6 years)**"
      ]
    },
    {
      "cell_type": "code",
      "metadata": {
        "id": "4X2rXdcA-tRz",
        "colab": {
          "base_uri": "https://localhost:8080/",
          "height": 442
        },
        "outputId": "e9f144dd-375f-45ef-9ecb-54de08d84200"
      },
      "source": [
        "df_6_years = df['2015':'2020']\n",
        "df_6_years"
      ],
      "execution_count": null,
      "outputs": [
        {
          "output_type": "execute_result",
          "data": {
            "text/html": [
              "<div>\n",
              "<style scoped>\n",
              "    .dataframe tbody tr th:only-of-type {\n",
              "        vertical-align: middle;\n",
              "    }\n",
              "\n",
              "    .dataframe tbody tr th {\n",
              "        vertical-align: top;\n",
              "    }\n",
              "\n",
              "    .dataframe thead th {\n",
              "        text-align: right;\n",
              "    }\n",
              "</style>\n",
              "<table border=\"1\" class=\"dataframe\">\n",
              "  <thead>\n",
              "    <tr style=\"text-align: right;\">\n",
              "      <th></th>\n",
              "      <th>Count</th>\n",
              "    </tr>\n",
              "    <tr>\n",
              "      <th>Date</th>\n",
              "      <th></th>\n",
              "    </tr>\n",
              "  </thead>\n",
              "  <tbody>\n",
              "    <tr>\n",
              "      <th>2015-01-31</th>\n",
              "      <td>131321</td>\n",
              "    </tr>\n",
              "    <tr>\n",
              "      <th>2015-02-28</th>\n",
              "      <td>106851</td>\n",
              "    </tr>\n",
              "    <tr>\n",
              "      <th>2015-03-31</th>\n",
              "      <td>101621</td>\n",
              "    </tr>\n",
              "    <tr>\n",
              "      <th>2015-04-30</th>\n",
              "      <td>91726</td>\n",
              "    </tr>\n",
              "    <tr>\n",
              "      <th>2015-05-31</th>\n",
              "      <td>177845</td>\n",
              "    </tr>\n",
              "    <tr>\n",
              "      <th>...</th>\n",
              "      <td>...</td>\n",
              "    </tr>\n",
              "    <tr>\n",
              "      <th>2020-08-31</th>\n",
              "      <td>92018</td>\n",
              "    </tr>\n",
              "    <tr>\n",
              "      <th>2020-09-30</th>\n",
              "      <td>86170</td>\n",
              "    </tr>\n",
              "    <tr>\n",
              "      <th>2020-10-31</th>\n",
              "      <td>88564</td>\n",
              "    </tr>\n",
              "    <tr>\n",
              "      <th>2020-11-30</th>\n",
              "      <td>94503</td>\n",
              "    </tr>\n",
              "    <tr>\n",
              "      <th>2020-12-31</th>\n",
              "      <td>117473</td>\n",
              "    </tr>\n",
              "  </tbody>\n",
              "</table>\n",
              "<p>72 rows × 1 columns</p>\n",
              "</div>"
            ],
            "text/plain": [
              "             Count\n",
              "Date              \n",
              "2015-01-31  131321\n",
              "2015-02-28  106851\n",
              "2015-03-31  101621\n",
              "2015-04-30   91726\n",
              "2015-05-31  177845\n",
              "...            ...\n",
              "2020-08-31   92018\n",
              "2020-09-30   86170\n",
              "2020-10-31   88564\n",
              "2020-11-30   94503\n",
              "2020-12-31  117473\n",
              "\n",
              "[72 rows x 1 columns]"
            ]
          },
          "metadata": {},
          "execution_count": 130
        }
      ]
    },
    {
      "cell_type": "markdown",
      "metadata": {
        "id": "gmPuTNQwUDTa"
      },
      "source": [
        "Only extract the data from 2015 to 2020\n",
        "\n",
        "**Calculalte the total step count for each month by resampling skill**"
      ]
    },
    {
      "cell_type": "code",
      "metadata": {
        "colab": {
          "base_uri": "https://localhost:8080/",
          "height": 442
        },
        "id": "6FMGtIhQH1C5",
        "outputId": "427a2a19-4ea4-47f3-ce23-64478ee0a02e"
      },
      "source": [
        "df_6_years = df_6_years.resample('M').sum()\n",
        "df_6_years"
      ],
      "execution_count": null,
      "outputs": [
        {
          "output_type": "execute_result",
          "data": {
            "text/html": [
              "<div>\n",
              "<style scoped>\n",
              "    .dataframe tbody tr th:only-of-type {\n",
              "        vertical-align: middle;\n",
              "    }\n",
              "\n",
              "    .dataframe tbody tr th {\n",
              "        vertical-align: top;\n",
              "    }\n",
              "\n",
              "    .dataframe thead th {\n",
              "        text-align: right;\n",
              "    }\n",
              "</style>\n",
              "<table border=\"1\" class=\"dataframe\">\n",
              "  <thead>\n",
              "    <tr style=\"text-align: right;\">\n",
              "      <th></th>\n",
              "      <th>Count</th>\n",
              "    </tr>\n",
              "    <tr>\n",
              "      <th>Date</th>\n",
              "      <th></th>\n",
              "    </tr>\n",
              "  </thead>\n",
              "  <tbody>\n",
              "    <tr>\n",
              "      <th>2015-01-31</th>\n",
              "      <td>131321</td>\n",
              "    </tr>\n",
              "    <tr>\n",
              "      <th>2015-02-28</th>\n",
              "      <td>106851</td>\n",
              "    </tr>\n",
              "    <tr>\n",
              "      <th>2015-03-31</th>\n",
              "      <td>101621</td>\n",
              "    </tr>\n",
              "    <tr>\n",
              "      <th>2015-04-30</th>\n",
              "      <td>91726</td>\n",
              "    </tr>\n",
              "    <tr>\n",
              "      <th>2015-05-31</th>\n",
              "      <td>177845</td>\n",
              "    </tr>\n",
              "    <tr>\n",
              "      <th>...</th>\n",
              "      <td>...</td>\n",
              "    </tr>\n",
              "    <tr>\n",
              "      <th>2020-08-31</th>\n",
              "      <td>92018</td>\n",
              "    </tr>\n",
              "    <tr>\n",
              "      <th>2020-09-30</th>\n",
              "      <td>86170</td>\n",
              "    </tr>\n",
              "    <tr>\n",
              "      <th>2020-10-31</th>\n",
              "      <td>88564</td>\n",
              "    </tr>\n",
              "    <tr>\n",
              "      <th>2020-11-30</th>\n",
              "      <td>94503</td>\n",
              "    </tr>\n",
              "    <tr>\n",
              "      <th>2020-12-31</th>\n",
              "      <td>117473</td>\n",
              "    </tr>\n",
              "  </tbody>\n",
              "</table>\n",
              "<p>72 rows × 1 columns</p>\n",
              "</div>"
            ],
            "text/plain": [
              "             Count\n",
              "Date              \n",
              "2015-01-31  131321\n",
              "2015-02-28  106851\n",
              "2015-03-31  101621\n",
              "2015-04-30   91726\n",
              "2015-05-31  177845\n",
              "...            ...\n",
              "2020-08-31   92018\n",
              "2020-09-30   86170\n",
              "2020-10-31   88564\n",
              "2020-11-30   94503\n",
              "2020-12-31  117473\n",
              "\n",
              "[72 rows x 1 columns]"
            ]
          },
          "metadata": {},
          "execution_count": 131
        }
      ]
    },
    {
      "cell_type": "markdown",
      "metadata": {
        "id": "TSc9-SezUfDy"
      },
      "source": [
        "\n",
        "## 5. Plot the data and check the difference between 12 months and the 12 months before it"
      ]
    },
    {
      "cell_type": "code",
      "metadata": {
        "colab": {
          "base_uri": "https://localhost:8080/",
          "height": 621
        },
        "id": "bWAtNYu0KHrt",
        "outputId": "b05fc918-a3ba-400b-950a-077c8b2a67eb"
      },
      "source": [
        "import matplotlib.pyplot as plt\n",
        "df_6_years['Count'].plot(figsize = (20,10))"
      ],
      "execution_count": null,
      "outputs": [
        {
          "output_type": "execute_result",
          "data": {
            "text/plain": [
              "<matplotlib.axes._subplots.AxesSubplot at 0x7f62c17d8dd0>"
            ]
          },
          "metadata": {},
          "execution_count": 132
        },
        {
          "output_type": "display_data",
          "data": {
            "image/png": "[encoded data removed]",
            "text/plain": [
              "<Figure size 1440x720 with 1 Axes>"
            ]
          },
          "metadata": {
            "needs_background": "light"
          }
        }
      ]
    },
    {
      "cell_type": "markdown",
      "metadata": {
        "id": "Pzl0tvbfQzFm"
      },
      "source": [
        "We the result is depend on which two 12 months we are choose\n",
        "**For 2015 and 2016, 2016 is more active than the 2015**. ;\n",
        "**For 2016 and 2017, it seems the active level keep the same** ;\n",
        "**For 2017 and 2018, 2018 is much more active then 2017**\n",
        ".\n",
        ".\n",
        ".\n"
      ]
    }
  ]
}