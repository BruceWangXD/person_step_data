{
 "cells": [
  {
   "cell_type": "code",
   "execution_count": 40,
   "metadata": {},
   "outputs": [
    {
     "data": {
      "text/html": [
       "<div>\n",
       "<style scoped>\n",
       "    .dataframe tbody tr th:only-of-type {\n",
       "        vertical-align: middle;\n",
       "    }\n",
       "\n",
       "    .dataframe tbody tr th {\n",
       "        vertical-align: top;\n",
       "    }\n",
       "\n",
       "    .dataframe thead th {\n",
       "        text-align: right;\n",
       "    }\n",
       "</style>\n",
       "<table border=\"1\" class=\"dataframe\">\n",
       "  <thead>\n",
       "    <tr style=\"text-align: right;\">\n",
       "      <th></th>\n",
       "      <th>Source</th>\n",
       "      <th>Date</th>\n",
       "      <th>Hour</th>\n",
       "      <th>Count</th>\n",
       "    </tr>\n",
       "  </thead>\n",
       "  <tbody>\n",
       "    <tr>\n",
       "      <th>0</th>\n",
       "      <td>Person1 iPhone SE</td>\n",
       "      <td>2014/12/7</td>\n",
       "      <td>8</td>\n",
       "      <td>13</td>\n",
       "    </tr>\n",
       "    <tr>\n",
       "      <th>1</th>\n",
       "      <td>Person1 iPhone SE</td>\n",
       "      <td>2014/12/7</td>\n",
       "      <td>8</td>\n",
       "      <td>13</td>\n",
       "    </tr>\n",
       "    <tr>\n",
       "      <th>2</th>\n",
       "      <td>Person1 iPhone SE</td>\n",
       "      <td>2014/12/7</td>\n",
       "      <td>8</td>\n",
       "      <td>1</td>\n",
       "    </tr>\n",
       "    <tr>\n",
       "      <th>3</th>\n",
       "      <td>Person1 iPhone SE</td>\n",
       "      <td>2014/12/7</td>\n",
       "      <td>8</td>\n",
       "      <td>9</td>\n",
       "    </tr>\n",
       "    <tr>\n",
       "      <th>4</th>\n",
       "      <td>Person1 iPhone SE</td>\n",
       "      <td>2014/12/7</td>\n",
       "      <td>8</td>\n",
       "      <td>15</td>\n",
       "    </tr>\n",
       "  </tbody>\n",
       "</table>\n",
       "</div>"
      ],
      "text/plain": [
       "              Source       Date  Hour  Count\n",
       "0  Person1 iPhone SE  2014/12/7     8     13\n",
       "1  Person1 iPhone SE  2014/12/7     8     13\n",
       "2  Person1 iPhone SE  2014/12/7     8      1\n",
       "3  Person1 iPhone SE  2014/12/7     8      9\n",
       "4  Person1 iPhone SE  2014/12/7     8     15"
      ]
     },
     "execution_count": 40,
     "metadata": {},
     "output_type": "execute_result"
    }
   ],
   "source": [
    "import pandas as pd\n",
    "import numpy as np\n",
    "import datetime\n",
    "df1 = pd.read_csv(\"person1.csv\",header = 0)\n",
    "df1.head()"
   ]
  },
  {
   "cell_type": "code",
   "execution_count": 41,
   "metadata": {},
   "outputs": [
    {
     "data": {
      "text/plain": [
       "False"
      ]
     },
     "execution_count": 41,
     "metadata": {},
     "output_type": "execute_result"
    }
   ],
   "source": [
    "df1.isnull().values.any()"
   ]
  },
  {
   "cell_type": "code",
   "execution_count": 43,
   "metadata": {},
   "outputs": [
    {
     "name": "stdout",
     "output_type": "stream",
     "text": [
      "                       Source  Hour  Count\n",
      "Date                                      \n",
      "2014-12-07  Person1 iPhone SE     8     13\n",
      "2014-12-07  Person1 iPhone SE     8     13\n",
      "                       Source  Hour  Count\n",
      "Date                                      \n",
      "2021-09-22  Person1 iPhone SE    18    392\n",
      "2021-09-22  Person1 iPhone SE    18     34\n",
      "(183787, 3)\n"
     ]
    }
   ],
   "source": [
    "#change the date type and set the date as index\n",
    "df1['Date'] = pd.to_datetime(df1['Date']) \n",
    "df1 = df1.set_index('Date') \n",
    "print(df1.head(2))\n",
    "print(df1.tail(2))\n",
    "print(df1.shape)"
   ]
  },
  {
   "cell_type": "code",
   "execution_count": 45,
   "metadata": {},
   "outputs": [
    {
     "name": "stdout",
     "output_type": "stream",
     "text": [
      "<class 'pandas.core.series.Series'>\n"
     ]
    },
    {
     "data": {
      "text/plain": [
       "Date\n",
       "2014-12-07    13\n",
       "2014-12-07    13\n",
       "Name: Count, dtype: int64"
      ]
     },
     "execution_count": 45,
     "metadata": {},
     "output_type": "execute_result"
    }
   ],
   "source": [
    "#Contribute the Series data structure\n",
    "s = pd.Series(df1['Count'], index=df1.index)\n",
    "print(type(s))\n",
    "s.head(2)"
   ]
  },
  {
   "cell_type": "code",
   "execution_count": 46,
   "metadata": {},
   "outputs": [
    {
     "name": "stdout",
     "output_type": "stream",
     "text": [
      "---------Data 2020-----------\n",
      "                       Source  Hour  Count\n",
      "Date                                      \n",
      "2020-01-02  Person1 iPhone SE     7     10\n",
      "2020-01-02  Person1 iPhone SE     8    338\n",
      "                       Source  Hour  Count\n",
      "Date                                      \n",
      "2020-12-31  Person1 iPhone SE    14     36\n",
      "2020-12-31  Person1 iPhone SE    15     21\n"
     ]
    }
   ],
   "source": [
    "#select the data from 2020\n",
    "print('---------Data 2020-----------')\n",
    "print(df1['2020'].head(2)) \n",
    "print(df1['2020'].tail(2)) "
   ]
  },
  {
   "cell_type": "code",
   "execution_count": 47,
   "metadata": {},
   "outputs": [
    {
     "name": "stdout",
     "output_type": "stream",
     "text": [
      "---------Data 2019-----------\n",
      "                       Source  Hour  Count\n",
      "Date                                      \n",
      "2020-01-02  Person1 iPhone SE     7     10\n",
      "2020-01-02  Person1 iPhone SE     8    338\n",
      "                       Source  Hour  Count\n",
      "Date                                      \n",
      "2020-12-31  Person1 iPhone SE    14     36\n",
      "2020-12-31  Person1 iPhone SE    15     21\n"
     ]
    }
   ],
   "source": [
    "#select the data from 2019\n",
    "print('---------Data 2019-----------')\n",
    "print(df1['2020'].head(2)) \n",
    "print(df1['2020'].tail(2)) "
   ]
  },
  {
   "cell_type": "code",
   "execution_count": 32,
   "metadata": {},
   "outputs": [
    {
     "data": {
      "text/html": [
       "<div>\n",
       "<style scoped>\n",
       "    .dataframe tbody tr th:only-of-type {\n",
       "        vertical-align: middle;\n",
       "    }\n",
       "\n",
       "    .dataframe tbody tr th {\n",
       "        vertical-align: top;\n",
       "    }\n",
       "\n",
       "    .dataframe thead th {\n",
       "        text-align: right;\n",
       "    }\n",
       "</style>\n",
       "<table border=\"1\" class=\"dataframe\">\n",
       "  <thead>\n",
       "    <tr style=\"text-align: right;\">\n",
       "      <th></th>\n",
       "      <th>Count</th>\n",
       "    </tr>\n",
       "    <tr>\n",
       "      <th>Date</th>\n",
       "      <th></th>\n",
       "    </tr>\n",
       "  </thead>\n",
       "  <tbody>\n",
       "    <tr>\n",
       "      <th>2014/12/10</th>\n",
       "      <td>7845</td>\n",
       "    </tr>\n",
       "    <tr>\n",
       "      <th>2014/12/11</th>\n",
       "      <td>916</td>\n",
       "    </tr>\n",
       "    <tr>\n",
       "      <th>2014/12/12</th>\n",
       "      <td>5978</td>\n",
       "    </tr>\n",
       "    <tr>\n",
       "      <th>2014/12/13</th>\n",
       "      <td>8131</td>\n",
       "    </tr>\n",
       "    <tr>\n",
       "      <th>2014/12/14</th>\n",
       "      <td>7549</td>\n",
       "    </tr>\n",
       "  </tbody>\n",
       "</table>\n",
       "</div>"
      ],
      "text/plain": [
       "            Count\n",
       "Date             \n",
       "2014/12/10   7845\n",
       "2014/12/11    916\n",
       "2014/12/12   5978\n",
       "2014/12/13   8131\n",
       "2014/12/14   7549"
      ]
     },
     "execution_count": 32,
     "metadata": {},
     "output_type": "execute_result"
    }
   ],
   "source": [
    "#sum the daily walking step\n",
    "df1 = df1.groupby(\"Date\")\n",
    "df2 = df1.agg({'Count':'sum'})\n",
    "df2.head()"
   ]
  },
  {
   "cell_type": "code",
   "execution_count": null,
   "metadata": {},
   "outputs": [],
   "source": []
  }
 ],
 "metadata": {
  "kernelspec": {
   "display_name": "Python 3",
   "language": "python",
   "name": "python3"
  },
  "language_info": {
   "codemirror_mode": {
    "name": "ipython",
    "version": 3
   },
   "file_extension": ".py",
   "mimetype": "text/x-python",
   "name": "python",
   "nbconvert_exporter": "python",
   "pygments_lexer": "ipython3",
   "version": "3.7.3"
  }
 },
 "nbformat": 4,
 "nbformat_minor": 2
}
