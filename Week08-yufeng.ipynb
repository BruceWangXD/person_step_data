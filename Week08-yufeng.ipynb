{
 "cells": [
  {
   "cell_type": "code",
   "execution_count": 1,
   "id": "unexpected-printer",
   "metadata": {},
   "outputs": [],
   "source": [
    "import pandas as pd\n",
    "import numpy as np\n",
    "import matplotlib.pyplot as plt\n",
    "import seaborn as sns\n",
    "%matplotlib inline\n",
    "from scipy import stats"
   ]
  },
  {
   "cell_type": "code",
   "execution_count": 2,
   "id": "rubber-sigma",
   "metadata": {},
   "outputs": [],
   "source": [
    "data=pd.read_csv(\"person1-step-data.csv\")"
   ]
  },
  {
   "cell_type": "code",
   "execution_count": 3,
   "id": "needed-symposium",
   "metadata": {},
   "outputs": [
    {
     "data": {
      "text/html": [
       "<div>\n",
       "<style scoped>\n",
       "    .dataframe tbody tr th:only-of-type {\n",
       "        vertical-align: middle;\n",
       "    }\n",
       "\n",
       "    .dataframe tbody tr th {\n",
       "        vertical-align: top;\n",
       "    }\n",
       "\n",
       "    .dataframe thead th {\n",
       "        text-align: right;\n",
       "    }\n",
       "</style>\n",
       "<table border=\"1\" class=\"dataframe\">\n",
       "  <thead>\n",
       "    <tr style=\"text-align: right;\">\n",
       "      <th></th>\n",
       "      <th>Source</th>\n",
       "      <th>Date</th>\n",
       "      <th>Hour</th>\n",
       "      <th>Count</th>\n",
       "    </tr>\n",
       "  </thead>\n",
       "  <tbody>\n",
       "    <tr>\n",
       "      <th>0</th>\n",
       "      <td>Person1 iPhone SE</td>\n",
       "      <td>2014-12-07</td>\n",
       "      <td>8</td>\n",
       "      <td>13</td>\n",
       "    </tr>\n",
       "    <tr>\n",
       "      <th>1</th>\n",
       "      <td>Person1 iPhone SE</td>\n",
       "      <td>2014-12-07</td>\n",
       "      <td>8</td>\n",
       "      <td>13</td>\n",
       "    </tr>\n",
       "    <tr>\n",
       "      <th>2</th>\n",
       "      <td>Person1 iPhone SE</td>\n",
       "      <td>2014-12-07</td>\n",
       "      <td>8</td>\n",
       "      <td>1</td>\n",
       "    </tr>\n",
       "    <tr>\n",
       "      <th>3</th>\n",
       "      <td>Person1 iPhone SE</td>\n",
       "      <td>2014-12-07</td>\n",
       "      <td>8</td>\n",
       "      <td>9</td>\n",
       "    </tr>\n",
       "    <tr>\n",
       "      <th>4</th>\n",
       "      <td>Person1 iPhone SE</td>\n",
       "      <td>2014-12-07</td>\n",
       "      <td>8</td>\n",
       "      <td>15</td>\n",
       "    </tr>\n",
       "  </tbody>\n",
       "</table>\n",
       "</div>"
      ],
      "text/plain": [
       "              Source        Date  Hour  Count\n",
       "0  Person1 iPhone SE  2014-12-07     8     13\n",
       "1  Person1 iPhone SE  2014-12-07     8     13\n",
       "2  Person1 iPhone SE  2014-12-07     8      1\n",
       "3  Person1 iPhone SE  2014-12-07     8      9\n",
       "4  Person1 iPhone SE  2014-12-07     8     15"
      ]
     },
     "execution_count": 3,
     "metadata": {},
     "output_type": "execute_result"
    }
   ],
   "source": [
    "data.head(5)"
   ]
  },
  {
   "cell_type": "markdown",
   "id": "fifth-somewhere",
   "metadata": {},
   "source": [
    "firstly I checked the first five rows of the dataset and we can notice that here are basically 4 columns in total. Source (the device that our participants use), data (the date of a walk), hour (the time of a walk), and count (total step of a walk)"
   ]
  },
  {
   "cell_type": "code",
   "execution_count": 4,
   "id": "incoming-result",
   "metadata": {},
   "outputs": [
    {
     "data": {
      "text/plain": [
       "count    183787.00\n",
       "mean         12.71\n",
       "std           4.88\n",
       "min           0.00\n",
       "25%           9.00\n",
       "50%          12.00\n",
       "75%          16.00\n",
       "max          23.00\n",
       "Name: Hour, dtype: float64"
      ]
     },
     "execution_count": 4,
     "metadata": {},
     "output_type": "execute_result"
    }
   ],
   "source": [
    "data['Hour'].describe().round(2)"
   ]
  },
  {
   "cell_type": "code",
   "execution_count": 5,
   "id": "included-midwest",
   "metadata": {},
   "outputs": [
    {
     "data": {
      "text/plain": [
       "count    183787.00\n",
       "mean         79.79\n",
       "std         358.10\n",
       "min           1.00\n",
       "25%           6.00\n",
       "50%          17.00\n",
       "75%          35.00\n",
       "max       88359.00\n",
       "Name: Count, dtype: float64"
      ]
     },
     "execution_count": 5,
     "metadata": {},
     "output_type": "execute_result"
    }
   ],
   "source": [
    "data['Count'].describe().round(2)"
   ]
  },
  {
   "cell_type": "markdown",
   "id": "genuine-alert",
   "metadata": {},
   "source": [
    "Then I briefly investigated the details of the two data hour and count, I come out with their mean, std, min, max and 25%, 50% and 75% data. it offered me a deeper understanding of these two columns data."
   ]
  },
  {
   "cell_type": "code",
   "execution_count": 6,
   "id": "sought-kruger",
   "metadata": {},
   "outputs": [
    {
     "data": {
      "image/png": "[encoded data removed]",
      "text/plain": [
       "<Figure size 432x288 with 1 Axes>"
      ]
     },
     "metadata": {
      "needs_background": "light"
     },
     "output_type": "display_data"
    }
   ],
   "source": [
    "ax = sns.boxplot(y='Hour', data=data, palette='Blues', showmeans=True)"
   ]
  },
  {
   "cell_type": "code",
   "execution_count": 20,
   "id": "minus-maple",
   "metadata": {},
   "outputs": [
    {
     "data": {
      "text/html": [
       "<div>\n",
       "<style scoped>\n",
       "    .dataframe tbody tr th:only-of-type {\n",
       "        vertical-align: middle;\n",
       "    }\n",
       "\n",
       "    .dataframe tbody tr th {\n",
       "        vertical-align: top;\n",
       "    }\n",
       "\n",
       "    .dataframe thead th {\n",
       "        text-align: right;\n",
       "    }\n",
       "</style>\n",
       "<table border=\"1\" class=\"dataframe\">\n",
       "  <thead>\n",
       "    <tr style=\"text-align: right;\">\n",
       "      <th></th>\n",
       "      <th>Count</th>\n",
       "    </tr>\n",
       "    <tr>\n",
       "      <th>Date</th>\n",
       "      <th></th>\n",
       "    </tr>\n",
       "  </thead>\n",
       "  <tbody>\n",
       "    <tr>\n",
       "      <th>2014-12-07</th>\n",
       "      <td>2693</td>\n",
       "    </tr>\n",
       "    <tr>\n",
       "      <th>2014-12-08</th>\n",
       "      <td>6567</td>\n",
       "    </tr>\n",
       "    <tr>\n",
       "      <th>2014-12-09</th>\n",
       "      <td>6879</td>\n",
       "    </tr>\n",
       "    <tr>\n",
       "      <th>2014-12-10</th>\n",
       "      <td>7845</td>\n",
       "    </tr>\n",
       "    <tr>\n",
       "      <th>2014-12-11</th>\n",
       "      <td>916</td>\n",
       "    </tr>\n",
       "    <tr>\n",
       "      <th>...</th>\n",
       "      <td>...</td>\n",
       "    </tr>\n",
       "    <tr>\n",
       "      <th>2021-09-18</th>\n",
       "      <td>11572</td>\n",
       "    </tr>\n",
       "    <tr>\n",
       "      <th>2021-09-19</th>\n",
       "      <td>10789</td>\n",
       "    </tr>\n",
       "    <tr>\n",
       "      <th>2021-09-20</th>\n",
       "      <td>8800</td>\n",
       "    </tr>\n",
       "    <tr>\n",
       "      <th>2021-09-21</th>\n",
       "      <td>17071</td>\n",
       "    </tr>\n",
       "    <tr>\n",
       "      <th>2021-09-22</th>\n",
       "      <td>10220</td>\n",
       "    </tr>\n",
       "  </tbody>\n",
       "</table>\n",
       "<p>2295 rows × 1 columns</p>\n",
       "</div>"
      ],
      "text/plain": [
       "            Count\n",
       "Date             \n",
       "2014-12-07   2693\n",
       "2014-12-08   6567\n",
       "2014-12-09   6879\n",
       "2014-12-10   7845\n",
       "2014-12-11    916\n",
       "...           ...\n",
       "2021-09-18  11572\n",
       "2021-09-19  10789\n",
       "2021-09-20   8800\n",
       "2021-09-21  17071\n",
       "2021-09-22  10220\n",
       "\n",
       "[2295 rows x 1 columns]"
      ]
     },
     "execution_count": 20,
     "metadata": {},
     "output_type": "execute_result"
    }
   ],
   "source": [
    "data['Hour'] = data['Hour'].astype(object)\n",
    "data_day= data.groupby('Date').agg('sum')\n",
    "data_day"
   ]
  },
  {
   "cell_type": "code",
   "execution_count": 21,
   "id": "sunset-desert",
   "metadata": {},
   "outputs": [
    {
     "data": {
      "text/plain": [
       "<AxesSubplot:xlabel='Date'>"
      ]
     },
     "execution_count": 21,
     "metadata": {},
     "output_type": "execute_result"
    },
    {
     "data": {
      "image/png": "[encoded data removed]",
      "text/plain": [
       "<Figure size 432x288 with 1 Axes>"
      ]
     },
     "metadata": {
      "needs_background": "light"
     },
     "output_type": "display_data"
    }
   ],
   "source": [
    "data_day.plot()"
   ]
  },
  {
   "cell_type": "markdown",
   "id": "cognitive-contest",
   "metadata": {},
   "source": [
    "with the help of groupby function, I got the sum of steps on every single data and visulized it in a time series plot."
   ]
  },
  {
   "cell_type": "markdown",
   "id": "seeing-beads",
   "metadata": {},
   "source": [
    "The interquartile range (IQR), also called the midspread or middle 50%, or technically H-spread, is a measure of statistical dispersion, being equal to the difference between 75th and 25th percentiles, or between upper and lower quartiles, IQR = Q3 − Q1.\n",
    "In other words, the IQR is the first quartile subtracted from the third quartile; these quartiles can be clearly seen on a box plot on the data.\n",
    "It is a measure of the dispersion similar to standard deviation or variance, but is much more robust against outliers."
   ]
  },
  {
   "cell_type": "code",
   "execution_count": 57,
   "id": "bound-skating",
   "metadata": {},
   "outputs": [
    {
     "name": "stdout",
     "output_type": "stream",
     "text": [
      "6174.5\n"
     ]
    }
   ],
   "source": [
    "Q1 = data_day['Count'].quantile(0.25)\n",
    "Q3 = data_day['Count'].quantile(0.75)\n",
    "IQR = Q3 - Q1\n",
    "print(IQR)"
   ]
  },
  {
   "cell_type": "markdown",
   "id": "associate-separation",
   "metadata": {},
   "source": [
    "As we now have the IQR scores, it’s time to get hold on outliers. The below code will give an output with some true and false values. The data point where we have False that means these values are valid whereas True indicates presence of an outlier."
   ]
  },
  {
   "cell_type": "code",
   "execution_count": 58,
   "id": "moving-alaska",
   "metadata": {},
   "outputs": [
    {
     "name": "stdout",
     "output_type": "stream",
     "text": [
      "Date\n",
      "2014-12-07    False\n",
      "2014-12-08    False\n",
      "2014-12-09    False\n",
      "2014-12-10    False\n",
      "2014-12-11    False\n",
      "              ...  \n",
      "2021-09-18    False\n",
      "2021-09-19    False\n",
      "2021-09-20    False\n",
      "2021-09-21    False\n",
      "2021-09-22    False\n",
      "Name: Count, Length: 2295, dtype: bool\n"
     ]
    }
   ],
   "source": [
    "try:\n",
    "    \n",
    "    \n",
    "    print(data_day['Count'] < (Q1 - 1.5 * IQR)) |(data_day['Count'] > (Q3 + 1.5 * IQR))\n",
    "except:\n",
    "    pass\n",
    "#a type error occurs here, thats y I used try and catch"
   ]
  },
  {
   "cell_type": "code",
   "execution_count": 64,
   "id": "competitive-correspondence",
   "metadata": {},
   "outputs": [
    {
     "data": {
      "text/plain": [
       "(2189,)"
      ]
     },
     "execution_count": 64,
     "metadata": {},
     "output_type": "execute_result"
    }
   ],
   "source": [
    "data_day_cleaned_raw = data_day['Count'][~((data_day['Count'] < (Q1 - 1.5 * IQR)) |(data_day['Count']> (Q3 + 1.5 * IQR)))]\n",
    "data_day_cleaned_raw.shape\n"
   ]
  },
  {
   "cell_type": "markdown",
   "id": "exceptional-prerequisite",
   "metadata": {},
   "source": [
    "we can IQR score to filter out the outliers by keeping only valid values. as we can see here, only 2189 of 2295 columns are remained while the rest has been romoved as outliers."
   ]
  },
  {
   "cell_type": "code",
   "execution_count": 56,
   "id": "processed-establishment",
   "metadata": {},
   "outputs": [
    {
     "data": {
      "text/plain": [
       "(2295, 1)"
      ]
     },
     "execution_count": 56,
     "metadata": {},
     "output_type": "execute_result"
    }
   ],
   "source": [
    "data_day.shape"
   ]
  },
  {
   "cell_type": "code",
   "execution_count": 61,
   "id": "incomplete-bread",
   "metadata": {},
   "outputs": [
    {
     "data": {
      "text/html": [
       "<div>\n",
       "<style scoped>\n",
       "    .dataframe tbody tr th:only-of-type {\n",
       "        vertical-align: middle;\n",
       "    }\n",
       "\n",
       "    .dataframe tbody tr th {\n",
       "        vertical-align: top;\n",
       "    }\n",
       "\n",
       "    .dataframe thead th {\n",
       "        text-align: right;\n",
       "    }\n",
       "</style>\n",
       "<table border=\"1\" class=\"dataframe\">\n",
       "  <thead>\n",
       "    <tr style=\"text-align: right;\">\n",
       "      <th></th>\n",
       "      <th>Count</th>\n",
       "    </tr>\n",
       "    <tr>\n",
       "      <th>Date</th>\n",
       "      <th></th>\n",
       "    </tr>\n",
       "  </thead>\n",
       "  <tbody>\n",
       "    <tr>\n",
       "      <th>2014-12-07</th>\n",
       "      <td>2693</td>\n",
       "    </tr>\n",
       "    <tr>\n",
       "      <th>2014-12-08</th>\n",
       "      <td>6567</td>\n",
       "    </tr>\n",
       "    <tr>\n",
       "      <th>2014-12-09</th>\n",
       "      <td>6879</td>\n",
       "    </tr>\n",
       "    <tr>\n",
       "      <th>2014-12-10</th>\n",
       "      <td>7845</td>\n",
       "    </tr>\n",
       "    <tr>\n",
       "      <th>2014-12-11</th>\n",
       "      <td>916</td>\n",
       "    </tr>\n",
       "  </tbody>\n",
       "</table>\n",
       "</div>"
      ],
      "text/plain": [
       "            Count\n",
       "Date             \n",
       "2014-12-07   2693\n",
       "2014-12-08   6567\n",
       "2014-12-09   6879\n",
       "2014-12-10   7845\n",
       "2014-12-11    916"
      ]
     },
     "execution_count": 61,
     "metadata": {},
     "output_type": "execute_result"
    }
   ],
   "source": [
    "data_day.head(5)"
   ]
  },
  {
   "cell_type": "code",
   "execution_count": 69,
   "id": "residential-zambia",
   "metadata": {},
   "outputs": [
    {
     "data": {
      "text/html": [
       "<div>\n",
       "<style scoped>\n",
       "    .dataframe tbody tr th:only-of-type {\n",
       "        vertical-align: middle;\n",
       "    }\n",
       "\n",
       "    .dataframe tbody tr th {\n",
       "        vertical-align: top;\n",
       "    }\n",
       "\n",
       "    .dataframe thead th {\n",
       "        text-align: right;\n",
       "    }\n",
       "</style>\n",
       "<table border=\"1\" class=\"dataframe\">\n",
       "  <thead>\n",
       "    <tr style=\"text-align: right;\">\n",
       "      <th></th>\n",
       "      <th>Date</th>\n",
       "      <th>Count</th>\n",
       "    </tr>\n",
       "  </thead>\n",
       "  <tbody>\n",
       "    <tr>\n",
       "      <th>0</th>\n",
       "      <td>2014-12-07</td>\n",
       "      <td>2693</td>\n",
       "    </tr>\n",
       "    <tr>\n",
       "      <th>1</th>\n",
       "      <td>2014-12-08</td>\n",
       "      <td>6567</td>\n",
       "    </tr>\n",
       "    <tr>\n",
       "      <th>2</th>\n",
       "      <td>2014-12-09</td>\n",
       "      <td>6879</td>\n",
       "    </tr>\n",
       "    <tr>\n",
       "      <th>3</th>\n",
       "      <td>2014-12-10</td>\n",
       "      <td>7845</td>\n",
       "    </tr>\n",
       "    <tr>\n",
       "      <th>4</th>\n",
       "      <td>2014-12-11</td>\n",
       "      <td>916</td>\n",
       "    </tr>\n",
       "  </tbody>\n",
       "</table>\n",
       "</div>"
      ],
      "text/plain": [
       "         Date  Count\n",
       "0  2014-12-07   2693\n",
       "1  2014-12-08   6567\n",
       "2  2014-12-09   6879\n",
       "3  2014-12-10   7845\n",
       "4  2014-12-11    916"
      ]
     },
     "execution_count": 69,
     "metadata": {},
     "output_type": "execute_result"
    }
   ],
   "source": [
    "df1 = pd.DataFrame(data=data_day_cleaned_raw.index, columns=['Date'])\n",
    "df2 = pd.DataFrame(data=data_day_cleaned_raw.values, columns=['Count'])\n",
    "data_day_cleaned = pd.merge(df1, df2, left_index=True, right_index=True)\n",
    "data_day_cleaned.head(5)"
   ]
  },
  {
   "cell_type": "markdown",
   "id": "automated-romania",
   "metadata": {},
   "source": [
    "due to the fact that the data type of data_day_raw is pandas series instead of pandas dataframe, so I converted it into pandas dataframe"
   ]
  },
  {
   "cell_type": "code",
   "execution_count": 73,
   "id": "instructional-separate",
   "metadata": {},
   "outputs": [
    {
     "data": {
      "text/html": [
       "<div>\n",
       "<style scoped>\n",
       "    .dataframe tbody tr th:only-of-type {\n",
       "        vertical-align: middle;\n",
       "    }\n",
       "\n",
       "    .dataframe tbody tr th {\n",
       "        vertical-align: top;\n",
       "    }\n",
       "\n",
       "    .dataframe thead th {\n",
       "        text-align: right;\n",
       "    }\n",
       "</style>\n",
       "<table border=\"1\" class=\"dataframe\">\n",
       "  <thead>\n",
       "    <tr style=\"text-align: right;\">\n",
       "      <th></th>\n",
       "      <th>Count</th>\n",
       "    </tr>\n",
       "    <tr>\n",
       "      <th>Date</th>\n",
       "      <th></th>\n",
       "    </tr>\n",
       "  </thead>\n",
       "  <tbody>\n",
       "    <tr>\n",
       "      <th>2014</th>\n",
       "      <td>111590</td>\n",
       "    </tr>\n",
       "    <tr>\n",
       "      <th>2015</th>\n",
       "      <td>1469951</td>\n",
       "    </tr>\n",
       "    <tr>\n",
       "      <th>2016</th>\n",
       "      <td>1630999</td>\n",
       "    </tr>\n",
       "    <tr>\n",
       "      <th>2017</th>\n",
       "      <td>1598809</td>\n",
       "    </tr>\n",
       "    <tr>\n",
       "      <th>2018</th>\n",
       "      <td>1891654</td>\n",
       "    </tr>\n",
       "    <tr>\n",
       "      <th>2019</th>\n",
       "      <td>2135160</td>\n",
       "    </tr>\n",
       "    <tr>\n",
       "      <th>2020</th>\n",
       "      <td>1219518</td>\n",
       "    </tr>\n",
       "    <tr>\n",
       "      <th>2021</th>\n",
       "      <td>2072833</td>\n",
       "    </tr>\n",
       "  </tbody>\n",
       "</table>\n",
       "</div>"
      ],
      "text/plain": [
       "        Count\n",
       "Date         \n",
       "2014   111590\n",
       "2015  1469951\n",
       "2016  1630999\n",
       "2017  1598809\n",
       "2018  1891654\n",
       "2019  2135160\n",
       "2020  1219518\n",
       "2021  2072833"
      ]
     },
     "execution_count": 73,
     "metadata": {},
     "output_type": "execute_result"
    }
   ],
   "source": [
    "data_day_cleaned['Date'] = pd.to_datetime(data_day_cleaned['Date'])\n",
    "data_year = data_day_cleaned.groupby(data_day_cleaned.Date.dt.year).sum()\n",
    "data_year"
   ]
  },
  {
   "cell_type": "markdown",
   "id": "careful-jonathan",
   "metadata": {},
   "source": [
    "I came out with the sum of steps for every year with the help of groupby function and then plot it in the coming two plots."
   ]
  },
  {
   "cell_type": "code",
   "execution_count": 74,
   "id": "saving-pittsburgh",
   "metadata": {},
   "outputs": [
    {
     "name": "stderr",
     "output_type": "stream",
     "text": [
      "<ipython-input-74-971589243cba>:4: UserWarning: Matplotlib is currently using module://ipykernel.pylab.backend_inline, which is a non-GUI backend, so cannot show the figure.\n",
      "  fig.show()\n"
     ]
    },
    {
     "data": {
      "image/png": "[encoded data removed]",
      "text/plain": [
       "<Figure size 648x288 with 1 Axes>"
      ]
     },
     "metadata": {
      "needs_background": "light"
     },
     "output_type": "display_data"
    },
    {
     "data": {
      "image/png": "[encoded data removed]",
      "text/plain": [
       "<Figure size 648x288 with 1 Axes>"
      ]
     },
     "metadata": {
      "needs_background": "light"
     },
     "output_type": "display_data"
    }
   ],
   "source": [
    "fig, ax = plt.subplots(figsize = (9,4))\n",
    "data_year.plot(y='Count', ax=ax)\n",
    "data_year.plot.bar(y=\"Count\", figsize = (9,4))\n",
    "fig.show()"
   ]
  },
  {
   "cell_type": "markdown",
   "id": "proper-genetics",
   "metadata": {},
   "source": [
    "as we can see in the plots, due to the fact that there is only one montes data in 2014, so year 2014 can be regarded as a outlier, so I will drop it then. and then we can also notice that from year 2015 to 2019, the steps number increases gradually but it droped significantly in the year 2020 but still increased in 2021."
   ]
  },
  {
   "cell_type": "code",
   "execution_count": 81,
   "id": "filled-triangle",
   "metadata": {},
   "outputs": [
    {
     "data": {
      "text/html": [
       "<div>\n",
       "<style scoped>\n",
       "    .dataframe tbody tr th:only-of-type {\n",
       "        vertical-align: middle;\n",
       "    }\n",
       "\n",
       "    .dataframe tbody tr th {\n",
       "        vertical-align: top;\n",
       "    }\n",
       "\n",
       "    .dataframe thead th {\n",
       "        text-align: right;\n",
       "    }\n",
       "</style>\n",
       "<table border=\"1\" class=\"dataframe\">\n",
       "  <thead>\n",
       "    <tr style=\"text-align: right;\">\n",
       "      <th></th>\n",
       "      <th>Count</th>\n",
       "    </tr>\n",
       "    <tr>\n",
       "      <th>Date</th>\n",
       "      <th></th>\n",
       "    </tr>\n",
       "  </thead>\n",
       "  <tbody>\n",
       "    <tr>\n",
       "      <th>1</th>\n",
       "      <td>131321</td>\n",
       "    </tr>\n",
       "    <tr>\n",
       "      <th>2</th>\n",
       "      <td>106851</td>\n",
       "    </tr>\n",
       "    <tr>\n",
       "      <th>3</th>\n",
       "      <td>101621</td>\n",
       "    </tr>\n",
       "    <tr>\n",
       "      <th>4</th>\n",
       "      <td>91726</td>\n",
       "    </tr>\n",
       "    <tr>\n",
       "      <th>5</th>\n",
       "      <td>136431</td>\n",
       "    </tr>\n",
       "    <tr>\n",
       "      <th>6</th>\n",
       "      <td>169385</td>\n",
       "    </tr>\n",
       "    <tr>\n",
       "      <th>7</th>\n",
       "      <td>152442</td>\n",
       "    </tr>\n",
       "    <tr>\n",
       "      <th>8</th>\n",
       "      <td>138543</td>\n",
       "    </tr>\n",
       "    <tr>\n",
       "      <th>9</th>\n",
       "      <td>118508</td>\n",
       "    </tr>\n",
       "    <tr>\n",
       "      <th>10</th>\n",
       "      <td>114230</td>\n",
       "    </tr>\n",
       "    <tr>\n",
       "      <th>11</th>\n",
       "      <td>115154</td>\n",
       "    </tr>\n",
       "    <tr>\n",
       "      <th>12</th>\n",
       "      <td>93739</td>\n",
       "    </tr>\n",
       "  </tbody>\n",
       "</table>\n",
       "</div>"
      ],
      "text/plain": [
       "       Count\n",
       "Date        \n",
       "1     131321\n",
       "2     106851\n",
       "3     101621\n",
       "4      91726\n",
       "5     136431\n",
       "6     169385\n",
       "7     152442\n",
       "8     138543\n",
       "9     118508\n",
       "10    114230\n",
       "11    115154\n",
       "12     93739"
      ]
     },
     "execution_count": 81,
     "metadata": {},
     "output_type": "execute_result"
    }
   ],
   "source": [
    "data_2015 = data_day_cleaned['Date'].dt.year == int(2015)\n",
    "data_2015 = data_day_cleaned[data_2015]\n",
    "data_2015\n",
    "data_2015 = data_2015.groupby(data_2015.Date.dt.month).sum()\n",
    "data_2015"
   ]
  },
  {
   "cell_type": "markdown",
   "id": "harmful-obligation",
   "metadata": {},
   "source": [
    "I then get the every single months exact number of step in the year of 2015. then with the help of a while loop, I got the every single months exact number of step for the year from 2015 to 2021"
   ]
  },
  {
   "cell_type": "code",
   "execution_count": 95,
   "id": "steady-credits",
   "metadata": {},
   "outputs": [],
   "source": [
    "t=True\n",
    "year_index=2015\n",
    "year_list=[]\n",
    "while t:\n",
    "    temp=data_day_cleaned['Date'].dt.year == int(year_index)\n",
    "    temp=data_day_cleaned[temp]\n",
    "    temp = temp.groupby(temp.Date.dt.month).sum()\n",
    "    year_list.append(temp)\n",
    "    year_index+=1\n",
    "    if year_index==2022:\n",
    "        t=False\n",
    "        "
   ]
  },
  {
   "cell_type": "code",
   "execution_count": 102,
   "id": "arbitrary-inside",
   "metadata": {},
   "outputs": [
    {
     "data": {
      "image/png": "[encoded data removed]",
      "text/plain": [
       "<Figure size 648x288 with 1 Axes>"
      ]
     },
     "metadata": {
      "needs_background": "light"
     },
     "output_type": "display_data"
    }
   ],
   "source": [
    "fig, ax = plt.subplots(figsize = (9,4))\n",
    "l_2015=plt.plot(year_list[0],label='2015')\n",
    "l_2016=plt.plot(year_list[1],label='2016')\n",
    "l_2017=plt.plot(year_list[2],label='2017')\n",
    "l_2018=plt.plot(year_list[3],label='2018')\n",
    "l_2019=plt.plot(year_list[4],label='2019')\n",
    "l_2020=plt.plot(year_list[5],label='2020')\n",
    "l_2021=plt.plot(year_list[6],label='2021')\n",
    "plt.title('monthly steps from 2015 to 2021')\n",
    "plt.xlabel('months')\n",
    "plt.ylabel('steps')\n",
    "plt.legend()\n",
    "plt.show()"
   ]
  },
  {
   "cell_type": "code",
   "execution_count": 106,
   "id": "rental-oklahoma",
   "metadata": {},
   "outputs": [
    {
     "data": {
      "text/plain": [
       "(30.992378048780495,\n",
       " 2.54343642121795e-05,\n",
       " 132040.0,\n",
       " array([[ 4,  2,  5,  8, 11,  2,  9],\n",
       "        [ 8, 10,  7,  4,  1, 10,  0]]))"
      ]
     },
     "execution_count": 106,
     "metadata": {},
     "output_type": "execute_result"
    }
   ],
   "source": [
    "from scipy.stats import median_test\n",
    "median_test(year_list[0]['Count'],year_list[1]['Count'],year_list[2]['Count'],year_list[3]['Count'],year_list[4]['Count'],year_list[5]['Count'],year_list[6]['Count'], ties = \"above\")"
   ]
  },
  {
   "cell_type": "markdown",
   "id": "eleven-style",
   "metadata": {},
   "source": [
    "H_0: year2015 = year2016=.... = year2021\n",
    "\n",
    "\n",
    "H_1: year2015 < year2016<... < year2021\n",
    "\n",
    "I choose α=0.05 as standard. as we can see here p=2.54343642121795e-05<0.05\n",
    "\n",
    " this is less than 0.05 so we reject the null hypothesis. We conclude that the ...\n",
    " \n",
    " \n",
    "our assumptions here are:\n",
    "\n",
    "- the six groups are independent of each other (they cannot influence each other)\n",
    "- each cell in the contingency table has expected value at least 5 (it is satisfied since there are 12 elements each)\n",
    "- data are i.i.d (we assume this is true even though we can't really know for sure.)\n",
    "- data are at least on the ordinal scale"
   ]
  },
  {
   "cell_type": "code",
   "execution_count": null,
   "id": "infectious-fantasy",
   "metadata": {},
   "outputs": [],
   "source": []
  }
 ],
 "metadata": {
  "kernelspec": {
   "display_name": "Python 3",
   "language": "python",
   "name": "python3"
  },
  "language_info": {
   "codemirror_mode": {
    "name": "ipython",
    "version": 3
   },
   "file_extension": ".py",
   "mimetype": "text/x-python",
   "name": "python",
   "nbconvert_exporter": "python",
   "pygments_lexer": "ipython3",
   "version": "3.8.7"
  }
 },
 "nbformat": 4,
 "nbformat_minor": 5
}
