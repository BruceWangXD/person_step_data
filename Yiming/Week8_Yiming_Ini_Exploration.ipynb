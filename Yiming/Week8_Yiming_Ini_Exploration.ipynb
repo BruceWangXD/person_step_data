{
  "nbformat": 4,
  "nbformat_minor": 5,
  "metadata": {
    "kernelspec": {
      "display_name": "Python 3",
      "language": "python",
      "name": "python3"
    },
    "language_info": {
      "codemirror_mode": {
        "name": "ipython",
        "version": 3
      },
      "file_extension": ".py",
      "mimetype": "text/x-python",
      "name": "python",
      "nbconvert_exporter": "python",
      "pygments_lexer": "ipython3",
      "version": "3.8.8"
    },
    "colab": {
      "name": "Week8-Yiming-Ini_Exploration.ipynb",
      "provenance": [],
      "collapsed_sections": []
    }
  },
  "cells": [
    {
      "cell_type": "markdown",
      "metadata": {
        "id": "28baf66d"
      },
      "source": [
        "# Week8 Mini-Assignment notebook\n",
        "## This notebook is used for the initial data exploration including data cleaning and data wrangling\n",
        "SID:480320449"
      ],
      "id": "28baf66d"
    },
    {
      "cell_type": "markdown",
      "metadata": {
        "id": "63973f6e"
      },
      "source": [
        "Firstly, import necessary libraries for the data analysis. Here, I imported **pandas, NumPy, matplotlib** as they will be enough for this week's exploration. Then import the dataset using the pandas function and named it as rawData."
      ],
      "id": "63973f6e"
    },
    {
      "cell_type": "code",
      "metadata": {
        "id": "2bcca44c"
      },
      "source": [
        "import pandas as pd\n",
        "import numpy as np\n",
        "import matplotlib.pyplot as plt"
      ],
      "id": "2bcca44c",
      "execution_count": null,
      "outputs": []
    },
    {
      "cell_type": "code",
      "metadata": {
        "id": "47834f16",
        "colab": {
          "base_uri": "https://localhost:8080/",
          "height": 424
        },
        "outputId": "2a518cc9-19f4-4f0f-e597-9549279905ce"
      },
      "source": [
        "rawData = pd.read_csv('person1-step-data.csv')\n",
        "rawData"
      ],
      "id": "47834f16",
      "execution_count": null,
      "outputs": [
        {
          "output_type": "execute_result",
          "data": {
            "text/html": [
              "<div>\n",
              "<style scoped>\n",
              "    .dataframe tbody tr th:only-of-type {\n",
              "        vertical-align: middle;\n",
              "    }\n",
              "\n",
              "    .dataframe tbody tr th {\n",
              "        vertical-align: top;\n",
              "    }\n",
              "\n",
              "    .dataframe thead th {\n",
              "        text-align: right;\n",
              "    }\n",
              "</style>\n",
              "<table border=\"1\" class=\"dataframe\">\n",
              "  <thead>\n",
              "    <tr style=\"text-align: right;\">\n",
              "      <th></th>\n",
              "      <th>Source</th>\n",
              "      <th>Date</th>\n",
              "      <th>Hour</th>\n",
              "      <th>Count</th>\n",
              "    </tr>\n",
              "  </thead>\n",
              "  <tbody>\n",
              "    <tr>\n",
              "      <th>0</th>\n",
              "      <td>Person1 iPhone SE</td>\n",
              "      <td>2014-12-07</td>\n",
              "      <td>8</td>\n",
              "      <td>13</td>\n",
              "    </tr>\n",
              "    <tr>\n",
              "      <th>1</th>\n",
              "      <td>Person1 iPhone SE</td>\n",
              "      <td>2014-12-07</td>\n",
              "      <td>8</td>\n",
              "      <td>13</td>\n",
              "    </tr>\n",
              "    <tr>\n",
              "      <th>2</th>\n",
              "      <td>Person1 iPhone SE</td>\n",
              "      <td>2014-12-07</td>\n",
              "      <td>8</td>\n",
              "      <td>1</td>\n",
              "    </tr>\n",
              "    <tr>\n",
              "      <th>3</th>\n",
              "      <td>Person1 iPhone SE</td>\n",
              "      <td>2014-12-07</td>\n",
              "      <td>8</td>\n",
              "      <td>9</td>\n",
              "    </tr>\n",
              "    <tr>\n",
              "      <th>4</th>\n",
              "      <td>Person1 iPhone SE</td>\n",
              "      <td>2014-12-07</td>\n",
              "      <td>8</td>\n",
              "      <td>15</td>\n",
              "    </tr>\n",
              "    <tr>\n",
              "      <th>...</th>\n",
              "      <td>...</td>\n",
              "      <td>...</td>\n",
              "      <td>...</td>\n",
              "      <td>...</td>\n",
              "    </tr>\n",
              "    <tr>\n",
              "      <th>183782</th>\n",
              "      <td>Person1 iPhone SE</td>\n",
              "      <td>2021-09-22</td>\n",
              "      <td>17</td>\n",
              "      <td>1241</td>\n",
              "    </tr>\n",
              "    <tr>\n",
              "      <th>183783</th>\n",
              "      <td>Person1 iPhone SE</td>\n",
              "      <td>2021-09-22</td>\n",
              "      <td>17</td>\n",
              "      <td>1212</td>\n",
              "    </tr>\n",
              "    <tr>\n",
              "      <th>183784</th>\n",
              "      <td>Person1 iPhone SE</td>\n",
              "      <td>2021-09-22</td>\n",
              "      <td>18</td>\n",
              "      <td>808</td>\n",
              "    </tr>\n",
              "    <tr>\n",
              "      <th>183785</th>\n",
              "      <td>Person1 iPhone SE</td>\n",
              "      <td>2021-09-22</td>\n",
              "      <td>18</td>\n",
              "      <td>392</td>\n",
              "    </tr>\n",
              "    <tr>\n",
              "      <th>183786</th>\n",
              "      <td>Person1 iPhone SE</td>\n",
              "      <td>2021-09-22</td>\n",
              "      <td>18</td>\n",
              "      <td>34</td>\n",
              "    </tr>\n",
              "  </tbody>\n",
              "</table>\n",
              "<p>183787 rows × 4 columns</p>\n",
              "</div>"
            ],
            "text/plain": [
              "                   Source        Date  Hour  Count\n",
              "0       Person1 iPhone SE  2014-12-07     8     13\n",
              "1       Person1 iPhone SE  2014-12-07     8     13\n",
              "2       Person1 iPhone SE  2014-12-07     8      1\n",
              "3       Person1 iPhone SE  2014-12-07     8      9\n",
              "4       Person1 iPhone SE  2014-12-07     8     15\n",
              "...                   ...         ...   ...    ...\n",
              "183782  Person1 iPhone SE  2021-09-22    17   1241\n",
              "183783  Person1 iPhone SE  2021-09-22    17   1212\n",
              "183784  Person1 iPhone SE  2021-09-22    18    808\n",
              "183785  Person1 iPhone SE  2021-09-22    18    392\n",
              "183786  Person1 iPhone SE  2021-09-22    18     34\n",
              "\n",
              "[183787 rows x 4 columns]"
            ]
          },
          "metadata": {},
          "execution_count": 64
        }
      ]
    },
    {
      "cell_type": "markdown",
      "metadata": {
        "id": "b2ce3576"
      },
      "source": [
        "As we can see at the above output, there are 183787 rows and 4 columns in this dataset. While the raw data need to be rearranged as there are multiple rows for one day and the step count for one day is scattered among those rows and need to be group by dates."
      ],
      "id": "b2ce3576"
    },
    {
      "cell_type": "code",
      "metadata": {
        "id": "0be45a2c",
        "colab": {
          "base_uri": "https://localhost:8080/"
        },
        "outputId": "91e61915-b6a4-4019-989d-173d71719422"
      },
      "source": [
        "print(rawData['Hour'].max())\n",
        "print(rawData['Hour'].min())"
      ],
      "id": "0be45a2c",
      "execution_count": null,
      "outputs": [
        {
          "output_type": "stream",
          "name": "stdout",
          "text": [
            "23\n",
            "0\n"
          ]
        }
      ]
    },
    {
      "cell_type": "markdown",
      "metadata": {
        "id": "b2c04cf5"
      },
      "source": [
        "The **Hour** column represents the hour interval within a 24-hour time. It has a minimum and maximum value of 0 and 23 respectively."
      ],
      "id": "b2c04cf5"
    },
    {
      "cell_type": "markdown",
      "metadata": {
        "id": "c8557bcb"
      },
      "source": [
        "Now, I start to group the dataset by __*Date*__ and __*Hour*__ to show how many steps did person 1 walked in each time interval within a day. As we can see, the following dataset now categorizes the data by dates and hours in ascending order."
      ],
      "id": "c8557bcb"
    },
    {
      "cell_type": "code",
      "metadata": {
        "id": "3291fda0",
        "colab": {
          "base_uri": "https://localhost:8080/",
          "height": 455
        },
        "outputId": "4832e4ef-aa05-4448-bd80-44503cb29d78"
      },
      "source": [
        "Data_Hour = rawData.groupby(['Date','Hour']).sum()\n",
        "Data_Hour.index\n",
        "Data_Hour.sort_values(by=['Date','Hour'], ascending=True)"
      ],
      "id": "3291fda0",
      "execution_count": null,
      "outputs": [
        {
          "output_type": "execute_result",
          "data": {
            "text/html": [
              "<div>\n",
              "<style scoped>\n",
              "    .dataframe tbody tr th:only-of-type {\n",
              "        vertical-align: middle;\n",
              "    }\n",
              "\n",
              "    .dataframe tbody tr th {\n",
              "        vertical-align: top;\n",
              "    }\n",
              "\n",
              "    .dataframe thead th {\n",
              "        text-align: right;\n",
              "    }\n",
              "</style>\n",
              "<table border=\"1\" class=\"dataframe\">\n",
              "  <thead>\n",
              "    <tr style=\"text-align: right;\">\n",
              "      <th></th>\n",
              "      <th></th>\n",
              "      <th>Count</th>\n",
              "    </tr>\n",
              "    <tr>\n",
              "      <th>Date</th>\n",
              "      <th>Hour</th>\n",
              "      <th></th>\n",
              "    </tr>\n",
              "  </thead>\n",
              "  <tbody>\n",
              "    <tr>\n",
              "      <th rowspan=\"5\" valign=\"top\">2014-12-07</th>\n",
              "      <th>8</th>\n",
              "      <td>941</td>\n",
              "    </tr>\n",
              "    <tr>\n",
              "      <th>9</th>\n",
              "      <td>408</td>\n",
              "    </tr>\n",
              "    <tr>\n",
              "      <th>10</th>\n",
              "      <td>157</td>\n",
              "    </tr>\n",
              "    <tr>\n",
              "      <th>11</th>\n",
              "      <td>1017</td>\n",
              "    </tr>\n",
              "    <tr>\n",
              "      <th>14</th>\n",
              "      <td>137</td>\n",
              "    </tr>\n",
              "    <tr>\n",
              "      <th>...</th>\n",
              "      <th>...</th>\n",
              "      <td>...</td>\n",
              "    </tr>\n",
              "    <tr>\n",
              "      <th rowspan=\"5\" valign=\"top\">2021-09-22</th>\n",
              "      <th>12</th>\n",
              "      <td>305</td>\n",
              "    </tr>\n",
              "    <tr>\n",
              "      <th>13</th>\n",
              "      <td>237</td>\n",
              "    </tr>\n",
              "    <tr>\n",
              "      <th>14</th>\n",
              "      <td>9</td>\n",
              "    </tr>\n",
              "    <tr>\n",
              "      <th>17</th>\n",
              "      <td>3560</td>\n",
              "    </tr>\n",
              "    <tr>\n",
              "      <th>18</th>\n",
              "      <td>1234</td>\n",
              "    </tr>\n",
              "  </tbody>\n",
              "</table>\n",
              "<p>19889 rows × 1 columns</p>\n",
              "</div>"
            ],
            "text/plain": [
              "                 Count\n",
              "Date       Hour       \n",
              "2014-12-07 8       941\n",
              "           9       408\n",
              "           10      157\n",
              "           11     1017\n",
              "           14      137\n",
              "...                ...\n",
              "2021-09-22 12      305\n",
              "           13      237\n",
              "           14        9\n",
              "           17     3560\n",
              "           18     1234\n",
              "\n",
              "[19889 rows x 1 columns]"
            ]
          },
          "metadata": {},
          "execution_count": 66
        }
      ]
    },
    {
      "cell_type": "code",
      "metadata": {
        "colab": {
          "base_uri": "https://localhost:8080/"
        },
        "id": "TTzZvOqRbmBM",
        "outputId": "4f64d477-6bd8-42f5-fa02-16df7d50fab2"
      },
      "source": [
        "Data_Hour.info()"
      ],
      "id": "TTzZvOqRbmBM",
      "execution_count": null,
      "outputs": [
        {
          "output_type": "stream",
          "name": "stdout",
          "text": [
            "<class 'pandas.core.frame.DataFrame'>\n",
            "MultiIndex: 19889 entries, ('2014-12-07', 8) to ('2021-09-22', 18)\n",
            "Data columns (total 1 columns):\n",
            " #   Column  Non-Null Count  Dtype\n",
            "---  ------  --------------  -----\n",
            " 0   Count   19889 non-null  int64\n",
            "dtypes: int64(1)\n",
            "memory usage: 231.9+ KB\n"
          ]
        }
      ]
    },
    {
      "cell_type": "markdown",
      "metadata": {
        "id": "00d9e3c1"
      },
      "source": [
        "While the above dataset is only recording the step count in each hour within a day. I would like to see how many total steps count person 1 has in a day. So, I just simply categorize the dataset again but only by __*Date*__ and use the aggregate function to aggregate them."
      ],
      "id": "00d9e3c1"
    },
    {
      "cell_type": "code",
      "metadata": {
        "id": "d01720a8"
      },
      "source": [
        "rawData['Hour'] = rawData['Hour'].astype(object)"
      ],
      "id": "d01720a8",
      "execution_count": null,
      "outputs": []
    },
    {
      "cell_type": "code",
      "metadata": {
        "id": "d2144614",
        "colab": {
          "base_uri": "https://localhost:8080/",
          "height": 455
        },
        "outputId": "4ec440fa-99e0-4fda-a498-83830db7dbcc"
      },
      "source": [
        "Data_Day= rawData.groupby('Date').agg('sum')\n",
        "Data_Day"
      ],
      "id": "d2144614",
      "execution_count": null,
      "outputs": [
        {
          "output_type": "execute_result",
          "data": {
            "text/html": [
              "<div>\n",
              "<style scoped>\n",
              "    .dataframe tbody tr th:only-of-type {\n",
              "        vertical-align: middle;\n",
              "    }\n",
              "\n",
              "    .dataframe tbody tr th {\n",
              "        vertical-align: top;\n",
              "    }\n",
              "\n",
              "    .dataframe thead th {\n",
              "        text-align: right;\n",
              "    }\n",
              "</style>\n",
              "<table border=\"1\" class=\"dataframe\">\n",
              "  <thead>\n",
              "    <tr style=\"text-align: right;\">\n",
              "      <th></th>\n",
              "      <th>Count</th>\n",
              "    </tr>\n",
              "    <tr>\n",
              "      <th>Date</th>\n",
              "      <th></th>\n",
              "    </tr>\n",
              "  </thead>\n",
              "  <tbody>\n",
              "    <tr>\n",
              "      <th>2014-12-07</th>\n",
              "      <td>2693</td>\n",
              "    </tr>\n",
              "    <tr>\n",
              "      <th>2014-12-08</th>\n",
              "      <td>6567</td>\n",
              "    </tr>\n",
              "    <tr>\n",
              "      <th>2014-12-09</th>\n",
              "      <td>6879</td>\n",
              "    </tr>\n",
              "    <tr>\n",
              "      <th>2014-12-10</th>\n",
              "      <td>7845</td>\n",
              "    </tr>\n",
              "    <tr>\n",
              "      <th>2014-12-11</th>\n",
              "      <td>916</td>\n",
              "    </tr>\n",
              "    <tr>\n",
              "      <th>...</th>\n",
              "      <td>...</td>\n",
              "    </tr>\n",
              "    <tr>\n",
              "      <th>2021-09-18</th>\n",
              "      <td>11572</td>\n",
              "    </tr>\n",
              "    <tr>\n",
              "      <th>2021-09-19</th>\n",
              "      <td>10789</td>\n",
              "    </tr>\n",
              "    <tr>\n",
              "      <th>2021-09-20</th>\n",
              "      <td>8800</td>\n",
              "    </tr>\n",
              "    <tr>\n",
              "      <th>2021-09-21</th>\n",
              "      <td>17071</td>\n",
              "    </tr>\n",
              "    <tr>\n",
              "      <th>2021-09-22</th>\n",
              "      <td>10220</td>\n",
              "    </tr>\n",
              "  </tbody>\n",
              "</table>\n",
              "<p>2295 rows × 1 columns</p>\n",
              "</div>"
            ],
            "text/plain": [
              "            Count\n",
              "Date             \n",
              "2014-12-07   2693\n",
              "2014-12-08   6567\n",
              "2014-12-09   6879\n",
              "2014-12-10   7845\n",
              "2014-12-11    916\n",
              "...           ...\n",
              "2021-09-18  11572\n",
              "2021-09-19  10789\n",
              "2021-09-20   8800\n",
              "2021-09-21  17071\n",
              "2021-09-22  10220\n",
              "\n",
              "[2295 rows x 1 columns]"
            ]
          },
          "metadata": {},
          "execution_count": 69
        }
      ]
    },
    {
      "cell_type": "markdown",
      "metadata": {
        "id": "a2b22b1c"
      },
      "source": [
        "Using **groupby** function to group the whole dataset by attribute __*Date*__. Now the step counts for the same day are merged into one row and they represent the total step count within a day. Then I plot the data into a graph to visualize the whole dataset. After plotting the barplot, we can see that there is an outlier that has a one-day step count far more than the rest of the dataset."
      ],
      "id": "a2b22b1c"
    },
    {
      "cell_type": "code",
      "metadata": {
        "id": "baf793e0",
        "colab": {
          "base_uri": "https://localhost:8080/",
          "height": 296
        },
        "outputId": "54f3d5d1-fdd2-4f0f-e8a1-d983d7ac9160"
      },
      "source": [
        "Data_Day.plot()"
      ],
      "id": "baf793e0",
      "execution_count": null,
      "outputs": [
        {
          "output_type": "execute_result",
          "data": {
            "text/plain": [
              "<matplotlib.axes._subplots.AxesSubplot at 0x7fd5e088ba10>"
            ]
          },
          "metadata": {},
          "execution_count": 70
        },
        {
          "output_type": "display_data",
          "data": {
            "image/png": "[encoded data removed]",
            "text/plain": [
              "<Figure size 432x288 with 1 Axes>"
            ]
          },
          "metadata": {
            "needs_background": "light"
          }
        }
      ]
    },
    {
      "cell_type": "code",
      "metadata": {
        "id": "c0da01fc",
        "colab": {
          "base_uri": "https://localhost:8080/"
        },
        "outputId": "b341e818-02e2-4b8b-fc92-bfdc67b845ca"
      },
      "source": [
        "Data_Day['Count'].max()"
      ],
      "id": "c0da01fc",
      "execution_count": null,
      "outputs": [
        {
          "output_type": "execute_result",
          "data": {
            "text/plain": [
              "88821"
            ]
          },
          "metadata": {},
          "execution_count": 71
        }
      ]
    },
    {
      "cell_type": "code",
      "metadata": {
        "id": "33b6109d",
        "colab": {
          "base_uri": "https://localhost:8080/",
          "height": 112
        },
        "outputId": "66ae29d4-b522-4263-8209-389fb4c2d9d6"
      },
      "source": [
        "Data_Day.loc[Data_Day['Count'] == 88821]"
      ],
      "id": "33b6109d",
      "execution_count": null,
      "outputs": [
        {
          "output_type": "execute_result",
          "data": {
            "text/html": [
              "<div>\n",
              "<style scoped>\n",
              "    .dataframe tbody tr th:only-of-type {\n",
              "        vertical-align: middle;\n",
              "    }\n",
              "\n",
              "    .dataframe tbody tr th {\n",
              "        vertical-align: top;\n",
              "    }\n",
              "\n",
              "    .dataframe thead th {\n",
              "        text-align: right;\n",
              "    }\n",
              "</style>\n",
              "<table border=\"1\" class=\"dataframe\">\n",
              "  <thead>\n",
              "    <tr style=\"text-align: right;\">\n",
              "      <th></th>\n",
              "      <th>Count</th>\n",
              "    </tr>\n",
              "    <tr>\n",
              "      <th>Date</th>\n",
              "      <th></th>\n",
              "    </tr>\n",
              "  </thead>\n",
              "  <tbody>\n",
              "    <tr>\n",
              "      <th>2018-11-08</th>\n",
              "      <td>88821</td>\n",
              "    </tr>\n",
              "  </tbody>\n",
              "</table>\n",
              "</div>"
            ],
            "text/plain": [
              "            Count\n",
              "Date             \n",
              "2018-11-08  88821"
            ]
          },
          "metadata": {},
          "execution_count": 72
        }
      ]
    },
    {
      "cell_type": "markdown",
      "metadata": {
        "id": "33ab63b7"
      },
      "source": [
        "After running the above code, I found that **2018-11-08** has a step count of 88821. I decide to drop this row as this is not making sense for a human to walk 80000+ steps within a day."
      ],
      "id": "33ab63b7"
    },
    {
      "cell_type": "code",
      "metadata": {
        "id": "be8397c5"
      },
      "source": [
        "Data_Day = Data_Day.drop('2018-11-08')\n",
        "Data_Hour = Data_Hour.drop('2018-11-08')"
      ],
      "id": "be8397c5",
      "execution_count": null,
      "outputs": []
    },
    {
      "cell_type": "code",
      "metadata": {
        "id": "6a669523",
        "colab": {
          "base_uri": "https://localhost:8080/"
        },
        "outputId": "3d9224b9-235e-4453-dcda-9b950e0cff16"
      },
      "source": [
        "print(Data_Day['Count'].max())\n",
        "print(Data_Hour['Count'].max())"
      ],
      "id": "6a669523",
      "execution_count": null,
      "outputs": [
        {
          "output_type": "stream",
          "name": "stdout",
          "text": [
            "58726\n",
            "58726\n"
          ]
        }
      ]
    },
    {
      "cell_type": "code",
      "metadata": {
        "id": "d34fc58f",
        "colab": {
          "base_uri": "https://localhost:8080/",
          "height": 296
        },
        "outputId": "8d3843ce-005d-4420-a59b-f74b867a8cdc"
      },
      "source": [
        "Data_Day.plot(kind='line')"
      ],
      "id": "d34fc58f",
      "execution_count": null,
      "outputs": [
        {
          "output_type": "execute_result",
          "data": {
            "text/plain": [
              "<matplotlib.axes._subplots.AxesSubplot at 0x7fd5df102ad0>"
            ]
          },
          "metadata": {},
          "execution_count": 80
        },
        {
          "output_type": "display_data",
          "data": {
            "image/png": "[encoded data removed]",
            "text/plain": [
              "<Figure size 432x288 with 1 Axes>"
            ]
          },
          "metadata": {
            "needs_background": "light"
          }
        }
      ]
    },
    {
      "cell_type": "code",
      "metadata": {
        "id": "290938b6",
        "colab": {
          "base_uri": "https://localhost:8080/",
          "height": 282
        },
        "outputId": "d4a9eb84-3670-453e-a924-550ad48094fa"
      },
      "source": [
        "Data_Day.boxplot()"
      ],
      "id": "290938b6",
      "execution_count": null,
      "outputs": [
        {
          "output_type": "execute_result",
          "data": {
            "text/plain": [
              "<matplotlib.axes._subplots.AxesSubplot at 0x7fd5e06ae0d0>"
            ]
          },
          "metadata": {},
          "execution_count": 76
        },
        {
          "output_type": "display_data",
          "data": {
            "image/png": "[encoded data removed]",
            "text/plain": [
              "<Figure size 432x288 with 1 Axes>"
            ]
          },
          "metadata": {
            "needs_background": "light"
          }
        }
      ]
    },
    {
      "cell_type": "markdown",
      "metadata": {
        "id": "7d4bde24"
      },
      "source": [
        "While the data still has some issues as we can see from the above graph, there are multiple days with step counts over 20000. Which can also be considered as abnormal as for normal people, the daily step wouldn't be that much. This problem needs to be discussed in the next group meeting and find a proper solution."
      ],
      "id": "7d4bde24"
    },
    {
      "cell_type": "markdown",
      "metadata": {
        "id": "f9cc05b7"
      },
      "source": [
        "Then I also try to merge these two datasets into one for future analysis to be easy. However, I've encountered a issue that the __*Hour*__ column cannot be displayed properly. This issue also need to be addressed in the future."
      ],
      "id": "f9cc05b7"
    },
    {
      "cell_type": "code",
      "metadata": {
        "id": "00fce23b",
        "colab": {
          "base_uri": "https://localhost:8080/",
          "height": 455
        },
        "outputId": "f843399e-b1eb-4e04-f438-b421facab86c"
      },
      "source": [
        "Data_merged = pd.merge(Data_Hour, Data_Day, how=\"left\", on=[\"Date\"])\n",
        "Data_merged.rename(columns={'Count_x':'Count in each hour', 'Count_y':'Total count within a day'})\n",
        "#Data_merge['count_y']=Data_merge['Count in each hour']\n",
        "#Data.join(Data1.set_index(\"Date\"), how = \"left\", on=\"Date\")"
      ],
      "id": "00fce23b",
      "execution_count": null,
      "outputs": [
        {
          "output_type": "execute_result",
          "data": {
            "text/html": [
              "<div>\n",
              "<style scoped>\n",
              "    .dataframe tbody tr th:only-of-type {\n",
              "        vertical-align: middle;\n",
              "    }\n",
              "\n",
              "    .dataframe tbody tr th {\n",
              "        vertical-align: top;\n",
              "    }\n",
              "\n",
              "    .dataframe thead th {\n",
              "        text-align: right;\n",
              "    }\n",
              "</style>\n",
              "<table border=\"1\" class=\"dataframe\">\n",
              "  <thead>\n",
              "    <tr style=\"text-align: right;\">\n",
              "      <th></th>\n",
              "      <th>Count in each hour</th>\n",
              "      <th>Total count within a day</th>\n",
              "    </tr>\n",
              "    <tr>\n",
              "      <th>Date</th>\n",
              "      <th></th>\n",
              "      <th></th>\n",
              "    </tr>\n",
              "  </thead>\n",
              "  <tbody>\n",
              "    <tr>\n",
              "      <th>2014-12-07</th>\n",
              "      <td>941</td>\n",
              "      <td>2693</td>\n",
              "    </tr>\n",
              "    <tr>\n",
              "      <th>2014-12-07</th>\n",
              "      <td>408</td>\n",
              "      <td>2693</td>\n",
              "    </tr>\n",
              "    <tr>\n",
              "      <th>2014-12-07</th>\n",
              "      <td>157</td>\n",
              "      <td>2693</td>\n",
              "    </tr>\n",
              "    <tr>\n",
              "      <th>2014-12-07</th>\n",
              "      <td>1017</td>\n",
              "      <td>2693</td>\n",
              "    </tr>\n",
              "    <tr>\n",
              "      <th>2014-12-07</th>\n",
              "      <td>137</td>\n",
              "      <td>2693</td>\n",
              "    </tr>\n",
              "    <tr>\n",
              "      <th>...</th>\n",
              "      <td>...</td>\n",
              "      <td>...</td>\n",
              "    </tr>\n",
              "    <tr>\n",
              "      <th>2021-09-22</th>\n",
              "      <td>305</td>\n",
              "      <td>10220</td>\n",
              "    </tr>\n",
              "    <tr>\n",
              "      <th>2021-09-22</th>\n",
              "      <td>237</td>\n",
              "      <td>10220</td>\n",
              "    </tr>\n",
              "    <tr>\n",
              "      <th>2021-09-22</th>\n",
              "      <td>9</td>\n",
              "      <td>10220</td>\n",
              "    </tr>\n",
              "    <tr>\n",
              "      <th>2021-09-22</th>\n",
              "      <td>3560</td>\n",
              "      <td>10220</td>\n",
              "    </tr>\n",
              "    <tr>\n",
              "      <th>2021-09-22</th>\n",
              "      <td>1234</td>\n",
              "      <td>10220</td>\n",
              "    </tr>\n",
              "  </tbody>\n",
              "</table>\n",
              "<p>19888 rows × 2 columns</p>\n",
              "</div>"
            ],
            "text/plain": [
              "            Count in each hour  Total count within a day\n",
              "Date                                                    \n",
              "2014-12-07                 941                      2693\n",
              "2014-12-07                 408                      2693\n",
              "2014-12-07                 157                      2693\n",
              "2014-12-07                1017                      2693\n",
              "2014-12-07                 137                      2693\n",
              "...                        ...                       ...\n",
              "2021-09-22                 305                     10220\n",
              "2021-09-22                 237                     10220\n",
              "2021-09-22                   9                     10220\n",
              "2021-09-22                3560                     10220\n",
              "2021-09-22                1234                     10220\n",
              "\n",
              "[19888 rows x 2 columns]"
            ]
          },
          "metadata": {},
          "execution_count": 77
        }
      ]
    },
    {
      "cell_type": "code",
      "metadata": {
        "id": "2d233710",
        "colab": {
          "base_uri": "https://localhost:8080/",
          "height": 455
        },
        "outputId": "d1113e7f-66ff-4650-b61b-9b4b1461065b"
      },
      "source": [
        "Data_Day"
      ],
      "id": "2d233710",
      "execution_count": null,
      "outputs": [
        {
          "output_type": "execute_result",
          "data": {
            "text/html": [
              "<div>\n",
              "<style scoped>\n",
              "    .dataframe tbody tr th:only-of-type {\n",
              "        vertical-align: middle;\n",
              "    }\n",
              "\n",
              "    .dataframe tbody tr th {\n",
              "        vertical-align: top;\n",
              "    }\n",
              "\n",
              "    .dataframe thead th {\n",
              "        text-align: right;\n",
              "    }\n",
              "</style>\n",
              "<table border=\"1\" class=\"dataframe\">\n",
              "  <thead>\n",
              "    <tr style=\"text-align: right;\">\n",
              "      <th></th>\n",
              "      <th>Count</th>\n",
              "    </tr>\n",
              "    <tr>\n",
              "      <th>Date</th>\n",
              "      <th></th>\n",
              "    </tr>\n",
              "  </thead>\n",
              "  <tbody>\n",
              "    <tr>\n",
              "      <th>2014-12-07</th>\n",
              "      <td>2693</td>\n",
              "    </tr>\n",
              "    <tr>\n",
              "      <th>2014-12-08</th>\n",
              "      <td>6567</td>\n",
              "    </tr>\n",
              "    <tr>\n",
              "      <th>2014-12-09</th>\n",
              "      <td>6879</td>\n",
              "    </tr>\n",
              "    <tr>\n",
              "      <th>2014-12-10</th>\n",
              "      <td>7845</td>\n",
              "    </tr>\n",
              "    <tr>\n",
              "      <th>2014-12-11</th>\n",
              "      <td>916</td>\n",
              "    </tr>\n",
              "    <tr>\n",
              "      <th>...</th>\n",
              "      <td>...</td>\n",
              "    </tr>\n",
              "    <tr>\n",
              "      <th>2021-09-18</th>\n",
              "      <td>11572</td>\n",
              "    </tr>\n",
              "    <tr>\n",
              "      <th>2021-09-19</th>\n",
              "      <td>10789</td>\n",
              "    </tr>\n",
              "    <tr>\n",
              "      <th>2021-09-20</th>\n",
              "      <td>8800</td>\n",
              "    </tr>\n",
              "    <tr>\n",
              "      <th>2021-09-21</th>\n",
              "      <td>17071</td>\n",
              "    </tr>\n",
              "    <tr>\n",
              "      <th>2021-09-22</th>\n",
              "      <td>10220</td>\n",
              "    </tr>\n",
              "  </tbody>\n",
              "</table>\n",
              "<p>2294 rows × 1 columns</p>\n",
              "</div>"
            ],
            "text/plain": [
              "            Count\n",
              "Date             \n",
              "2014-12-07   2693\n",
              "2014-12-08   6567\n",
              "2014-12-09   6879\n",
              "2014-12-10   7845\n",
              "2014-12-11    916\n",
              "...           ...\n",
              "2021-09-18  11572\n",
              "2021-09-19  10789\n",
              "2021-09-20   8800\n",
              "2021-09-21  17071\n",
              "2021-09-22  10220\n",
              "\n",
              "[2294 rows x 1 columns]"
            ]
          },
          "metadata": {},
          "execution_count": 78
        }
      ]
    },
    {
      "cell_type": "code",
      "metadata": {
        "id": "P8J6I3H9ZRec"
      },
      "source": [
        ""
      ],
      "id": "P8J6I3H9ZRec",
      "execution_count": null,
      "outputs": []
    }
  ]
}