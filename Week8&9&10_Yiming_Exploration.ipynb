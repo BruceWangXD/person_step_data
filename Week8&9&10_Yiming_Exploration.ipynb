{
  "nbformat": 4,
  "nbformat_minor": 5,
  "metadata": {
    "kernelspec": {
      "display_name": "Python 3",
      "language": "python",
      "name": "python3"
    },
    "language_info": {
      "codemirror_mode": {
        "name": "ipython",
        "version": 3
      },
      "file_extension": ".py",
      "mimetype": "text/x-python",
      "name": "python",
      "nbconvert_exporter": "python",
      "pygments_lexer": "ipython3",
      "version": "3.8.8"
    },
    "colab": {
      "name": "Week8&9&10-Yiming-Exploration.ipynb",
      "provenance": [],
      "collapsed_sections": [
        "28baf66d",
        "Et77NlMj8Ns6"
      ]
    }
  },
  "cells": [
    {
      "cell_type": "markdown",
      "metadata": {
        "id": "28baf66d"
      },
      "source": [
        "# Week8 Mini-Assignment notebook\n",
        "## This notebook is used for the initial data exploration including data cleaning and data wrangling\n",
        "SID:480320449"
      ],
      "id": "28baf66d"
    },
    {
      "cell_type": "markdown",
      "metadata": {
        "id": "63973f6e"
      },
      "source": [
        "Firstly, import necessary libraries for the data analysis. Here, I imported **pandas, NumPy, matplotlib** as they will be enough for this week's exploration. Then import the dataset using the pandas function and named it as rawData."
      ],
      "id": "63973f6e"
    },
    {
      "cell_type": "code",
      "metadata": {
        "id": "2bcca44c"
      },
      "source": [
        "import pandas as pd\n",
        "import numpy as np\n",
        "import matplotlib.pyplot as plt\n",
        "import seaborn as sns\n",
        "import plotly.express as px\n",
        "import matplotlib.ticker as ticker"
      ],
      "id": "2bcca44c",
      "execution_count": 82,
      "outputs": []
    },
    {
      "cell_type": "code",
      "metadata": {
        "id": "47834f16",
        "colab": {
          "base_uri": "https://localhost:8080/",
          "height": 0
        },
        "outputId": "191ce658-03d8-4c0e-f23a-ecb24217005a"
      },
      "source": [
        "rawData = pd.read_csv('person1-step-data.csv',error_bad_lines=False)\n",
        "rawData"
      ],
      "id": "47834f16",
      "execution_count": 83,
      "outputs": [
        {
          "output_type": "execute_result",
          "data": {
            "text/html": [
              "<div>\n",
              "<style scoped>\n",
              "    .dataframe tbody tr th:only-of-type {\n",
              "        vertical-align: middle;\n",
              "    }\n",
              "\n",
              "    .dataframe tbody tr th {\n",
              "        vertical-align: top;\n",
              "    }\n",
              "\n",
              "    .dataframe thead th {\n",
              "        text-align: right;\n",
              "    }\n",
              "</style>\n",
              "<table border=\"1\" class=\"dataframe\">\n",
              "  <thead>\n",
              "    <tr style=\"text-align: right;\">\n",
              "      <th></th>\n",
              "      <th>Source</th>\n",
              "      <th>Date</th>\n",
              "      <th>Hour</th>\n",
              "      <th>Count</th>\n",
              "    </tr>\n",
              "  </thead>\n",
              "  <tbody>\n",
              "    <tr>\n",
              "      <th>0</th>\n",
              "      <td>Person1 iPhone SE</td>\n",
              "      <td>2014-12-07</td>\n",
              "      <td>8</td>\n",
              "      <td>13</td>\n",
              "    </tr>\n",
              "    <tr>\n",
              "      <th>1</th>\n",
              "      <td>Person1 iPhone SE</td>\n",
              "      <td>2014-12-07</td>\n",
              "      <td>8</td>\n",
              "      <td>13</td>\n",
              "    </tr>\n",
              "    <tr>\n",
              "      <th>2</th>\n",
              "      <td>Person1 iPhone SE</td>\n",
              "      <td>2014-12-07</td>\n",
              "      <td>8</td>\n",
              "      <td>1</td>\n",
              "    </tr>\n",
              "    <tr>\n",
              "      <th>3</th>\n",
              "      <td>Person1 iPhone SE</td>\n",
              "      <td>2014-12-07</td>\n",
              "      <td>8</td>\n",
              "      <td>9</td>\n",
              "    </tr>\n",
              "    <tr>\n",
              "      <th>4</th>\n",
              "      <td>Person1 iPhone SE</td>\n",
              "      <td>2014-12-07</td>\n",
              "      <td>8</td>\n",
              "      <td>15</td>\n",
              "    </tr>\n",
              "    <tr>\n",
              "      <th>...</th>\n",
              "      <td>...</td>\n",
              "      <td>...</td>\n",
              "      <td>...</td>\n",
              "      <td>...</td>\n",
              "    </tr>\n",
              "    <tr>\n",
              "      <th>183782</th>\n",
              "      <td>Person1 iPhone SE</td>\n",
              "      <td>2021-09-22</td>\n",
              "      <td>17</td>\n",
              "      <td>1241</td>\n",
              "    </tr>\n",
              "    <tr>\n",
              "      <th>183783</th>\n",
              "      <td>Person1 iPhone SE</td>\n",
              "      <td>2021-09-22</td>\n",
              "      <td>17</td>\n",
              "      <td>1212</td>\n",
              "    </tr>\n",
              "    <tr>\n",
              "      <th>183784</th>\n",
              "      <td>Person1 iPhone SE</td>\n",
              "      <td>2021-09-22</td>\n",
              "      <td>18</td>\n",
              "      <td>808</td>\n",
              "    </tr>\n",
              "    <tr>\n",
              "      <th>183785</th>\n",
              "      <td>Person1 iPhone SE</td>\n",
              "      <td>2021-09-22</td>\n",
              "      <td>18</td>\n",
              "      <td>392</td>\n",
              "    </tr>\n",
              "    <tr>\n",
              "      <th>183786</th>\n",
              "      <td>Person1 iPhone SE</td>\n",
              "      <td>2021-09-22</td>\n",
              "      <td>18</td>\n",
              "      <td>34</td>\n",
              "    </tr>\n",
              "  </tbody>\n",
              "</table>\n",
              "<p>183787 rows × 4 columns</p>\n",
              "</div>"
            ],
            "text/plain": [
              "                   Source        Date  Hour  Count\n",
              "0       Person1 iPhone SE  2014-12-07     8     13\n",
              "1       Person1 iPhone SE  2014-12-07     8     13\n",
              "2       Person1 iPhone SE  2014-12-07     8      1\n",
              "3       Person1 iPhone SE  2014-12-07     8      9\n",
              "4       Person1 iPhone SE  2014-12-07     8     15\n",
              "...                   ...         ...   ...    ...\n",
              "183782  Person1 iPhone SE  2021-09-22    17   1241\n",
              "183783  Person1 iPhone SE  2021-09-22    17   1212\n",
              "183784  Person1 iPhone SE  2021-09-22    18    808\n",
              "183785  Person1 iPhone SE  2021-09-22    18    392\n",
              "183786  Person1 iPhone SE  2021-09-22    18     34\n",
              "\n",
              "[183787 rows x 4 columns]"
            ]
          },
          "metadata": {},
          "execution_count": 83
        }
      ]
    },
    {
      "cell_type": "markdown",
      "metadata": {
        "id": "b2ce3576"
      },
      "source": [
        "As we can see at the above output, there are 183787 rows and 4 columns in this dataset. While the raw data need to be rearranged as there are multiple rows for one day and the step count for one day is scattered among those rows and need to be group by dates."
      ],
      "id": "b2ce3576"
    },
    {
      "cell_type": "code",
      "metadata": {
        "id": "0be45a2c",
        "colab": {
          "base_uri": "https://localhost:8080/"
        },
        "outputId": "dda56778-7010-4f7e-ad1d-baca5084cf52"
      },
      "source": [
        "print(rawData['Hour'].max())\n",
        "print(rawData['Hour'].min())"
      ],
      "id": "0be45a2c",
      "execution_count": 84,
      "outputs": [
        {
          "output_type": "stream",
          "name": "stdout",
          "text": [
            "23\n",
            "0\n"
          ]
        }
      ]
    },
    {
      "cell_type": "markdown",
      "metadata": {
        "id": "b2c04cf5"
      },
      "source": [
        "The **Hour** column represents the hour interval within a 24-hour time. It has a minimum and maximum value of 0 and 23 respectively."
      ],
      "id": "b2c04cf5"
    },
    {
      "cell_type": "markdown",
      "metadata": {
        "id": "c8557bcb"
      },
      "source": [
        "Now, I start to group the dataset by __*Date*__ and __*Hour*__ to show how many steps did person 1 walked in each time interval within a day. As we can see, the following dataset now categorizes the data by dates and hours in ascending order."
      ],
      "id": "c8557bcb"
    },
    {
      "cell_type": "code",
      "metadata": {
        "id": "3291fda0",
        "colab": {
          "base_uri": "https://localhost:8080/",
          "height": 0
        },
        "outputId": "35dbe7a7-67fe-4055-f961-93d1be3d6947"
      },
      "source": [
        "Data_Hour = rawData.groupby(['Date','Hour']).sum()\n",
        "Data_Hour.index\n",
        "Data_Hour.sort_values(by=['Date','Hour'], ascending=True)"
      ],
      "id": "3291fda0",
      "execution_count": 85,
      "outputs": [
        {
          "output_type": "execute_result",
          "data": {
            "text/html": [
              "<div>\n",
              "<style scoped>\n",
              "    .dataframe tbody tr th:only-of-type {\n",
              "        vertical-align: middle;\n",
              "    }\n",
              "\n",
              "    .dataframe tbody tr th {\n",
              "        vertical-align: top;\n",
              "    }\n",
              "\n",
              "    .dataframe thead th {\n",
              "        text-align: right;\n",
              "    }\n",
              "</style>\n",
              "<table border=\"1\" class=\"dataframe\">\n",
              "  <thead>\n",
              "    <tr style=\"text-align: right;\">\n",
              "      <th></th>\n",
              "      <th></th>\n",
              "      <th>Count</th>\n",
              "    </tr>\n",
              "    <tr>\n",
              "      <th>Date</th>\n",
              "      <th>Hour</th>\n",
              "      <th></th>\n",
              "    </tr>\n",
              "  </thead>\n",
              "  <tbody>\n",
              "    <tr>\n",
              "      <th rowspan=\"5\" valign=\"top\">2014-12-07</th>\n",
              "      <th>8</th>\n",
              "      <td>941</td>\n",
              "    </tr>\n",
              "    <tr>\n",
              "      <th>9</th>\n",
              "      <td>408</td>\n",
              "    </tr>\n",
              "    <tr>\n",
              "      <th>10</th>\n",
              "      <td>157</td>\n",
              "    </tr>\n",
              "    <tr>\n",
              "      <th>11</th>\n",
              "      <td>1017</td>\n",
              "    </tr>\n",
              "    <tr>\n",
              "      <th>14</th>\n",
              "      <td>137</td>\n",
              "    </tr>\n",
              "    <tr>\n",
              "      <th>...</th>\n",
              "      <th>...</th>\n",
              "      <td>...</td>\n",
              "    </tr>\n",
              "    <tr>\n",
              "      <th rowspan=\"5\" valign=\"top\">2021-09-22</th>\n",
              "      <th>12</th>\n",
              "      <td>305</td>\n",
              "    </tr>\n",
              "    <tr>\n",
              "      <th>13</th>\n",
              "      <td>237</td>\n",
              "    </tr>\n",
              "    <tr>\n",
              "      <th>14</th>\n",
              "      <td>9</td>\n",
              "    </tr>\n",
              "    <tr>\n",
              "      <th>17</th>\n",
              "      <td>3560</td>\n",
              "    </tr>\n",
              "    <tr>\n",
              "      <th>18</th>\n",
              "      <td>1234</td>\n",
              "    </tr>\n",
              "  </tbody>\n",
              "</table>\n",
              "<p>19889 rows × 1 columns</p>\n",
              "</div>"
            ],
            "text/plain": [
              "                 Count\n",
              "Date       Hour       \n",
              "2014-12-07 8       941\n",
              "           9       408\n",
              "           10      157\n",
              "           11     1017\n",
              "           14      137\n",
              "...                ...\n",
              "2021-09-22 12      305\n",
              "           13      237\n",
              "           14        9\n",
              "           17     3560\n",
              "           18     1234\n",
              "\n",
              "[19889 rows x 1 columns]"
            ]
          },
          "metadata": {},
          "execution_count": 85
        }
      ]
    },
    {
      "cell_type": "code",
      "metadata": {
        "colab": {
          "base_uri": "https://localhost:8080/"
        },
        "id": "TTzZvOqRbmBM",
        "outputId": "2eb1b479-69ea-483b-c612-13ca53b5eee9"
      },
      "source": [
        "Data_Hour.info()"
      ],
      "id": "TTzZvOqRbmBM",
      "execution_count": 86,
      "outputs": [
        {
          "output_type": "stream",
          "name": "stdout",
          "text": [
            "<class 'pandas.core.frame.DataFrame'>\n",
            "MultiIndex: 19889 entries, ('2014-12-07', 8) to ('2021-09-22', 18)\n",
            "Data columns (total 1 columns):\n",
            " #   Column  Non-Null Count  Dtype\n",
            "---  ------  --------------  -----\n",
            " 0   Count   19889 non-null  int64\n",
            "dtypes: int64(1)\n",
            "memory usage: 231.9+ KB\n"
          ]
        }
      ]
    },
    {
      "cell_type": "markdown",
      "metadata": {
        "id": "00d9e3c1"
      },
      "source": [
        "While the above dataset is only recording the step count in each hour within a day. I would like to see how many total steps count person 1 has in a day. So, I just simply categorize the dataset again but only by __*Date*__ and use the aggregate function to aggregate them."
      ],
      "id": "00d9e3c1"
    },
    {
      "cell_type": "code",
      "metadata": {
        "id": "d01720a8"
      },
      "source": [
        "rawData['Hour'] = rawData['Hour'].astype(object)"
      ],
      "id": "d01720a8",
      "execution_count": 87,
      "outputs": []
    },
    {
      "cell_type": "code",
      "metadata": {
        "id": "d2144614",
        "colab": {
          "base_uri": "https://localhost:8080/",
          "height": 0
        },
        "outputId": "ca536163-47a4-4ad5-ea3c-d77df22819c2"
      },
      "source": [
        "Data_Day= rawData.groupby('Date').agg('sum')\n",
        "Data_Day"
      ],
      "id": "d2144614",
      "execution_count": 88,
      "outputs": [
        {
          "output_type": "execute_result",
          "data": {
            "text/html": [
              "<div>\n",
              "<style scoped>\n",
              "    .dataframe tbody tr th:only-of-type {\n",
              "        vertical-align: middle;\n",
              "    }\n",
              "\n",
              "    .dataframe tbody tr th {\n",
              "        vertical-align: top;\n",
              "    }\n",
              "\n",
              "    .dataframe thead th {\n",
              "        text-align: right;\n",
              "    }\n",
              "</style>\n",
              "<table border=\"1\" class=\"dataframe\">\n",
              "  <thead>\n",
              "    <tr style=\"text-align: right;\">\n",
              "      <th></th>\n",
              "      <th>Count</th>\n",
              "    </tr>\n",
              "    <tr>\n",
              "      <th>Date</th>\n",
              "      <th></th>\n",
              "    </tr>\n",
              "  </thead>\n",
              "  <tbody>\n",
              "    <tr>\n",
              "      <th>2014-12-07</th>\n",
              "      <td>2693</td>\n",
              "    </tr>\n",
              "    <tr>\n",
              "      <th>2014-12-08</th>\n",
              "      <td>6567</td>\n",
              "    </tr>\n",
              "    <tr>\n",
              "      <th>2014-12-09</th>\n",
              "      <td>6879</td>\n",
              "    </tr>\n",
              "    <tr>\n",
              "      <th>2014-12-10</th>\n",
              "      <td>7845</td>\n",
              "    </tr>\n",
              "    <tr>\n",
              "      <th>2014-12-11</th>\n",
              "      <td>916</td>\n",
              "    </tr>\n",
              "    <tr>\n",
              "      <th>...</th>\n",
              "      <td>...</td>\n",
              "    </tr>\n",
              "    <tr>\n",
              "      <th>2021-09-18</th>\n",
              "      <td>11572</td>\n",
              "    </tr>\n",
              "    <tr>\n",
              "      <th>2021-09-19</th>\n",
              "      <td>10789</td>\n",
              "    </tr>\n",
              "    <tr>\n",
              "      <th>2021-09-20</th>\n",
              "      <td>8800</td>\n",
              "    </tr>\n",
              "    <tr>\n",
              "      <th>2021-09-21</th>\n",
              "      <td>17071</td>\n",
              "    </tr>\n",
              "    <tr>\n",
              "      <th>2021-09-22</th>\n",
              "      <td>10220</td>\n",
              "    </tr>\n",
              "  </tbody>\n",
              "</table>\n",
              "<p>2295 rows × 1 columns</p>\n",
              "</div>"
            ],
            "text/plain": [
              "            Count\n",
              "Date             \n",
              "2014-12-07   2693\n",
              "2014-12-08   6567\n",
              "2014-12-09   6879\n",
              "2014-12-10   7845\n",
              "2014-12-11    916\n",
              "...           ...\n",
              "2021-09-18  11572\n",
              "2021-09-19  10789\n",
              "2021-09-20   8800\n",
              "2021-09-21  17071\n",
              "2021-09-22  10220\n",
              "\n",
              "[2295 rows x 1 columns]"
            ]
          },
          "metadata": {},
          "execution_count": 88
        }
      ]
    },
    {
      "cell_type": "markdown",
      "metadata": {
        "id": "a2b22b1c"
      },
      "source": [
        "Using **groupby** function to group the whole dataset by attribute __*Date*__. Now the step counts for the same day are merged into one row and they represent the total step count within a day. Then I plot the data into a graph to visualize the whole dataset. After plotting the barplot, we can see that there is an outlier that has a one-day step count far more than the rest of the dataset."
      ],
      "id": "a2b22b1c"
    },
    {
      "cell_type": "code",
      "metadata": {
        "id": "baf793e0",
        "colab": {
          "base_uri": "https://localhost:8080/",
          "height": 0
        },
        "outputId": "d4499533-a464-47f3-bc70-b6a24f670422"
      },
      "source": [
        "Data_Day.plot()"
      ],
      "id": "baf793e0",
      "execution_count": 89,
      "outputs": [
        {
          "output_type": "execute_result",
          "data": {
            "text/plain": [
              "<matplotlib.axes._subplots.AxesSubplot at 0x7fe3b0f8cd10>"
            ]
          },
          "metadata": {},
          "execution_count": 89
        },
        {
          "output_type": "display_data",
          "data": {
            "image/png": "[encoded data removed]",
            "text/plain": [
              "<Figure size 432x288 with 1 Axes>"
            ]
          },
          "metadata": {
            "needs_background": "light"
          }
        }
      ]
    },
    {
      "cell_type": "code",
      "metadata": {
        "id": "c0da01fc",
        "colab": {
          "base_uri": "https://localhost:8080/"
        },
        "outputId": "4ade5ebd-76c8-431c-9002-9e98974327a4"
      },
      "source": [
        "Data_Day['Count'].max()"
      ],
      "id": "c0da01fc",
      "execution_count": 90,
      "outputs": [
        {
          "output_type": "execute_result",
          "data": {
            "text/plain": [
              "88821"
            ]
          },
          "metadata": {},
          "execution_count": 90
        }
      ]
    },
    {
      "cell_type": "code",
      "metadata": {
        "id": "33b6109d",
        "colab": {
          "base_uri": "https://localhost:8080/",
          "height": 0
        },
        "outputId": "02a377d6-0dcd-4dc5-97e1-f633a539af64"
      },
      "source": [
        "Data_Day.loc[Data_Day['Count'] == 88821]"
      ],
      "id": "33b6109d",
      "execution_count": 91,
      "outputs": [
        {
          "output_type": "execute_result",
          "data": {
            "text/html": [
              "<div>\n",
              "<style scoped>\n",
              "    .dataframe tbody tr th:only-of-type {\n",
              "        vertical-align: middle;\n",
              "    }\n",
              "\n",
              "    .dataframe tbody tr th {\n",
              "        vertical-align: top;\n",
              "    }\n",
              "\n",
              "    .dataframe thead th {\n",
              "        text-align: right;\n",
              "    }\n",
              "</style>\n",
              "<table border=\"1\" class=\"dataframe\">\n",
              "  <thead>\n",
              "    <tr style=\"text-align: right;\">\n",
              "      <th></th>\n",
              "      <th>Count</th>\n",
              "    </tr>\n",
              "    <tr>\n",
              "      <th>Date</th>\n",
              "      <th></th>\n",
              "    </tr>\n",
              "  </thead>\n",
              "  <tbody>\n",
              "    <tr>\n",
              "      <th>2018-11-08</th>\n",
              "      <td>88821</td>\n",
              "    </tr>\n",
              "  </tbody>\n",
              "</table>\n",
              "</div>"
            ],
            "text/plain": [
              "            Count\n",
              "Date             \n",
              "2018-11-08  88821"
            ]
          },
          "metadata": {},
          "execution_count": 91
        }
      ]
    },
    {
      "cell_type": "markdown",
      "metadata": {
        "id": "33ab63b7"
      },
      "source": [
        "After running the above code, I found that **2018-11-08** has a step count of 88821. I decide to drop this row as this is not making sense for a human to walk 80000+ steps within a day."
      ],
      "id": "33ab63b7"
    },
    {
      "cell_type": "code",
      "metadata": {
        "id": "be8397c5"
      },
      "source": [
        "Data_Day = Data_Day.drop('2018-11-08')\n",
        "Data_Hour = Data_Hour.drop('2018-11-08')"
      ],
      "id": "be8397c5",
      "execution_count": 92,
      "outputs": []
    },
    {
      "cell_type": "code",
      "metadata": {
        "id": "6a669523",
        "colab": {
          "base_uri": "https://localhost:8080/"
        },
        "outputId": "95cf1227-5f50-4505-fcb2-2b077f9d70a1"
      },
      "source": [
        "print(Data_Day['Count'].max())\n",
        "print(Data_Hour['Count'].max())"
      ],
      "id": "6a669523",
      "execution_count": 93,
      "outputs": [
        {
          "output_type": "stream",
          "name": "stdout",
          "text": [
            "58726\n",
            "58726\n"
          ]
        }
      ]
    },
    {
      "cell_type": "code",
      "metadata": {
        "id": "d34fc58f",
        "colab": {
          "base_uri": "https://localhost:8080/",
          "height": 0
        },
        "outputId": "e22705d9-79ab-47e6-c13d-9cbaf931c983"
      },
      "source": [
        "Data_Day.plot(kind='line')"
      ],
      "id": "d34fc58f",
      "execution_count": 94,
      "outputs": [
        {
          "output_type": "execute_result",
          "data": {
            "text/plain": [
              "<matplotlib.axes._subplots.AxesSubplot at 0x7fe3b0f6d850>"
            ]
          },
          "metadata": {},
          "execution_count": 94
        },
        {
          "output_type": "display_data",
          "data": {
            "image/png": "[encoded data removed]",
            "text/plain": [
              "<Figure size 432x288 with 1 Axes>"
            ]
          },
          "metadata": {
            "needs_background": "light"
          }
        }
      ]
    },
    {
      "cell_type": "code",
      "metadata": {
        "id": "290938b6",
        "colab": {
          "base_uri": "https://localhost:8080/",
          "height": 0
        },
        "outputId": "9746de10-9da0-4b82-d5b3-850f25620022"
      },
      "source": [
        "fig, ax = plt.subplots(figsize = (8,10))\n",
        "Data_Day.boxplot()"
      ],
      "id": "290938b6",
      "execution_count": 95,
      "outputs": [
        {
          "output_type": "execute_result",
          "data": {
            "text/plain": [
              "<matplotlib.axes._subplots.AxesSubplot at 0x7fe3b0f803d0>"
            ]
          },
          "metadata": {},
          "execution_count": 95
        },
        {
          "output_type": "display_data",
          "data": {
            "image/png": "[encoded data removed]",
            "text/plain": [
              "<Figure size 576x720 with 1 Axes>"
            ]
          },
          "metadata": {
            "needs_background": "light"
          }
        }
      ]
    },
    {
      "cell_type": "markdown",
      "metadata": {
        "id": "7d4bde24"
      },
      "source": [
        "While the data still has some issues as we can see from the above graph, there are multiple days with step counts over 20000. Which can also be considered as abnormal as for normal people, the daily step wouldn't be that much. This problem needs to be discussed in the next group meeting and find a proper solution."
      ],
      "id": "7d4bde24"
    },
    {
      "cell_type": "markdown",
      "metadata": {
        "id": "f9cc05b7"
      },
      "source": [
        "Then I also try to merge these two datasets into one for future analysis to be easy. However, I've encountered a issue that the __*Hour*__ column cannot be displayed properly. This issue also need to be addressed in the future."
      ],
      "id": "f9cc05b7"
    },
    {
      "cell_type": "code",
      "metadata": {
        "id": "00fce23b"
      },
      "source": [
        "#Data_merged = pd.merge(Data_Hour, Data_Day, how=\"left\", on=[\"Date\"])\n",
        "#Data_merged.rename(columns={'Count_x':'Count in each hour', 'Count_y':'Total count within a day'})\n",
        "#Data_merge['count_y']=Data_merge['Count in each hour']\n",
        "#Data.join(Data1.set_index(\"Date\"), how = \"left\", on=\"Date\")"
      ],
      "id": "00fce23b",
      "execution_count": 96,
      "outputs": []
    },
    {
      "cell_type": "markdown",
      "metadata": {
        "id": "Et77NlMj8Ns6"
      },
      "source": [
        "# Week 9 Mini-Assignment notebook"
      ],
      "id": "Et77NlMj8Ns6"
    },
    {
      "cell_type": "markdown",
      "metadata": {
        "id": "6aEYIxMT486p"
      },
      "source": [
        "As the driving question for our group is \"**Was I more active in the last 12 months than the 12 months before that?**\", I decide to analyze the monthly average step counts for each year from 2014 to 2021 to see if person 1 is more active in the last 12 months than the 12 months before that."
      ],
      "id": "6aEYIxMT486p"
    },
    {
      "cell_type": "markdown",
      "metadata": {
        "id": "0v_4DkEB6gQM"
      },
      "source": [
        "The first step is to reorganize the raw data and categorize step counts by years. Before reorganizing, we need to check if the data type of the column **Date** is \"_**DateTime**_\". Otherwise, we are unable to use the \"**groupby**\" function on the **Date** attribute."
      ],
      "id": "0v_4DkEB6gQM"
    },
    {
      "cell_type": "code",
      "metadata": {
        "id": "5kHa1zQ58uxP",
        "colab": {
          "base_uri": "https://localhost:8080/"
        },
        "outputId": "96a7b0fa-cbd0-43c6-8e47-4f4c52cf592d"
      },
      "source": [
        "rawData.dtypes"
      ],
      "id": "5kHa1zQ58uxP",
      "execution_count": 97,
      "outputs": [
        {
          "output_type": "execute_result",
          "data": {
            "text/plain": [
              "Source    object\n",
              "Date      object\n",
              "Hour      object\n",
              "Count      int64\n",
              "dtype: object"
            ]
          },
          "metadata": {},
          "execution_count": 97
        }
      ]
    },
    {
      "cell_type": "markdown",
      "metadata": {
        "id": "tPBM0fM-9cVT"
      },
      "source": [
        "After checking the data types of each column in the raw data, I found that the type of  _**Date**_ column is \"object\" instead of \"DateTime\". The first step is to transform the object type into **\"DateTime\"**."
      ],
      "id": "tPBM0fM-9cVT"
    },
    {
      "cell_type": "code",
      "metadata": {
        "id": "e5i_POo59zPn",
        "colab": {
          "base_uri": "https://localhost:8080/"
        },
        "outputId": "287b93a4-d59e-4a35-e9d6-4163c6913c85"
      },
      "source": [
        "rawData['Date'] = pd.to_datetime(rawData['Date'])\n",
        "rawData.dtypes"
      ],
      "id": "e5i_POo59zPn",
      "execution_count": 98,
      "outputs": [
        {
          "output_type": "execute_result",
          "data": {
            "text/plain": [
              "Source            object\n",
              "Date      datetime64[ns]\n",
              "Hour              object\n",
              "Count              int64\n",
              "dtype: object"
            ]
          },
          "metadata": {},
          "execution_count": 98
        }
      ]
    },
    {
      "cell_type": "markdown",
      "metadata": {
        "id": "XJ4XjtOu-VGr"
      },
      "source": [
        "Now the type of the _**Date**_ column has been transformed into **\"DateTime\"**. Then we can start to use \"**groupby**\" function to reorganize the dataset. And I create a new data frame to store the total step counts of person 1 for each year."
      ],
      "id": "XJ4XjtOu-VGr"
    },
    {
      "cell_type": "code",
      "metadata": {
        "id": "yFl6AcdL6XP2",
        "colab": {
          "base_uri": "https://localhost:8080/",
          "height": 0
        },
        "outputId": "ba0ca0b0-0482-4fd5-b9fa-87a95f6b1b90"
      },
      "source": [
        "Data_yearTotal = rawData.groupby(rawData.Date.dt.year).sum()\n",
        "Data_yearTotal"
      ],
      "id": "yFl6AcdL6XP2",
      "execution_count": 99,
      "outputs": [
        {
          "output_type": "execute_result",
          "data": {
            "text/html": [
              "<div>\n",
              "<style scoped>\n",
              "    .dataframe tbody tr th:only-of-type {\n",
              "        vertical-align: middle;\n",
              "    }\n",
              "\n",
              "    .dataframe tbody tr th {\n",
              "        vertical-align: top;\n",
              "    }\n",
              "\n",
              "    .dataframe thead th {\n",
              "        text-align: right;\n",
              "    }\n",
              "</style>\n",
              "<table border=\"1\" class=\"dataframe\">\n",
              "  <thead>\n",
              "    <tr style=\"text-align: right;\">\n",
              "      <th></th>\n",
              "      <th>Count</th>\n",
              "    </tr>\n",
              "    <tr>\n",
              "      <th>Date</th>\n",
              "      <th></th>\n",
              "    </tr>\n",
              "  </thead>\n",
              "  <tbody>\n",
              "    <tr>\n",
              "      <th>2014</th>\n",
              "      <td>111590</td>\n",
              "    </tr>\n",
              "    <tr>\n",
              "      <th>2015</th>\n",
              "      <td>1582971</td>\n",
              "    </tr>\n",
              "    <tr>\n",
              "      <th>2016</th>\n",
              "      <td>1742364</td>\n",
              "    </tr>\n",
              "    <tr>\n",
              "      <th>2017</th>\n",
              "      <td>1800474</td>\n",
              "    </tr>\n",
              "    <tr>\n",
              "      <th>2018</th>\n",
              "      <td>2339228</td>\n",
              "    </tr>\n",
              "    <tr>\n",
              "      <th>2019</th>\n",
              "      <td>2824389</td>\n",
              "    </tr>\n",
              "    <tr>\n",
              "      <th>2020</th>\n",
              "      <td>1239702</td>\n",
              "    </tr>\n",
              "    <tr>\n",
              "      <th>2021</th>\n",
              "      <td>3023933</td>\n",
              "    </tr>\n",
              "  </tbody>\n",
              "</table>\n",
              "</div>"
            ],
            "text/plain": [
              "        Count\n",
              "Date         \n",
              "2014   111590\n",
              "2015  1582971\n",
              "2016  1742364\n",
              "2017  1800474\n",
              "2018  2339228\n",
              "2019  2824389\n",
              "2020  1239702\n",
              "2021  3023933"
            ]
          },
          "metadata": {},
          "execution_count": 99
        }
      ]
    },
    {
      "cell_type": "code",
      "metadata": {
        "id": "0YJyiG8ZC9Aw",
        "colab": {
          "base_uri": "https://localhost:8080/"
        },
        "outputId": "3aae476c-ab81-4f79-eed6-566e4b0240a5"
      },
      "source": [
        "Data_yearTotal.dtypes"
      ],
      "id": "0YJyiG8ZC9Aw",
      "execution_count": 100,
      "outputs": [
        {
          "output_type": "execute_result",
          "data": {
            "text/plain": [
              "Count    int64\n",
              "dtype: object"
            ]
          },
          "metadata": {},
          "execution_count": 100
        }
      ]
    },
    {
      "cell_type": "markdown",
      "metadata": {
        "id": "0jAIwhnjOX0-"
      },
      "source": [
        "Before plotting the graph and analyzing it, I need to remove the step count of an outlier in the dataset that I discovered previously to make the new dataset consistent with the others. As we know that outlier is the step count of 88821 steps on **2018-11-08**, we need to use the total step counts in 2018 minus the step counts on that specific day."
      ],
      "id": "0jAIwhnjOX0-"
    },
    {
      "cell_type": "code",
      "metadata": {
        "id": "tFZdlOj1Og6i",
        "colab": {
          "base_uri": "https://localhost:8080/",
          "height": 0
        },
        "outputId": "2cea7879-e94a-4d6c-b4d2-b2026605700a"
      },
      "source": [
        "Data_yearTotal.at[2018,'Count']= 2339228-88821\n",
        "Data_yearTotal"
      ],
      "id": "tFZdlOj1Og6i",
      "execution_count": 101,
      "outputs": [
        {
          "output_type": "execute_result",
          "data": {
            "text/html": [
              "<div>\n",
              "<style scoped>\n",
              "    .dataframe tbody tr th:only-of-type {\n",
              "        vertical-align: middle;\n",
              "    }\n",
              "\n",
              "    .dataframe tbody tr th {\n",
              "        vertical-align: top;\n",
              "    }\n",
              "\n",
              "    .dataframe thead th {\n",
              "        text-align: right;\n",
              "    }\n",
              "</style>\n",
              "<table border=\"1\" class=\"dataframe\">\n",
              "  <thead>\n",
              "    <tr style=\"text-align: right;\">\n",
              "      <th></th>\n",
              "      <th>Count</th>\n",
              "    </tr>\n",
              "    <tr>\n",
              "      <th>Date</th>\n",
              "      <th></th>\n",
              "    </tr>\n",
              "  </thead>\n",
              "  <tbody>\n",
              "    <tr>\n",
              "      <th>2014</th>\n",
              "      <td>111590</td>\n",
              "    </tr>\n",
              "    <tr>\n",
              "      <th>2015</th>\n",
              "      <td>1582971</td>\n",
              "    </tr>\n",
              "    <tr>\n",
              "      <th>2016</th>\n",
              "      <td>1742364</td>\n",
              "    </tr>\n",
              "    <tr>\n",
              "      <th>2017</th>\n",
              "      <td>1800474</td>\n",
              "    </tr>\n",
              "    <tr>\n",
              "      <th>2018</th>\n",
              "      <td>2250407</td>\n",
              "    </tr>\n",
              "    <tr>\n",
              "      <th>2019</th>\n",
              "      <td>2824389</td>\n",
              "    </tr>\n",
              "    <tr>\n",
              "      <th>2020</th>\n",
              "      <td>1239702</td>\n",
              "    </tr>\n",
              "    <tr>\n",
              "      <th>2021</th>\n",
              "      <td>3023933</td>\n",
              "    </tr>\n",
              "  </tbody>\n",
              "</table>\n",
              "</div>"
            ],
            "text/plain": [
              "        Count\n",
              "Date         \n",
              "2014   111590\n",
              "2015  1582971\n",
              "2016  1742364\n",
              "2017  1800474\n",
              "2018  2250407\n",
              "2019  2824389\n",
              "2020  1239702\n",
              "2021  3023933"
            ]
          },
          "metadata": {},
          "execution_count": 101
        }
      ]
    },
    {
      "cell_type": "markdown",
      "metadata": {
        "id": "4r4hTkhQP-I8"
      },
      "source": [
        "Now the total step count of 2018 has been updated to **2250407**. While the data for 2014 only contains the data in December of 2014. The step count before December of 2014 is missing. So in this exploration, I decide to mutiple the step count of December of 2014 by **12** to simulate the total step count in 2014."
      ],
      "id": "4r4hTkhQP-I8"
    },
    {
      "cell_type": "code",
      "metadata": {
        "colab": {
          "base_uri": "https://localhost:8080/",
          "height": 0
        },
        "id": "LTlvFHy8itOj",
        "outputId": "6a202412-e136-4069-919f-2219073ab9ef"
      },
      "source": [
        "Data_yearTotal.at[2014,'Count']= 111590*12\n",
        "Data_yearTotal"
      ],
      "id": "LTlvFHy8itOj",
      "execution_count": 102,
      "outputs": [
        {
          "output_type": "execute_result",
          "data": {
            "text/html": [
              "<div>\n",
              "<style scoped>\n",
              "    .dataframe tbody tr th:only-of-type {\n",
              "        vertical-align: middle;\n",
              "    }\n",
              "\n",
              "    .dataframe tbody tr th {\n",
              "        vertical-align: top;\n",
              "    }\n",
              "\n",
              "    .dataframe thead th {\n",
              "        text-align: right;\n",
              "    }\n",
              "</style>\n",
              "<table border=\"1\" class=\"dataframe\">\n",
              "  <thead>\n",
              "    <tr style=\"text-align: right;\">\n",
              "      <th></th>\n",
              "      <th>Count</th>\n",
              "    </tr>\n",
              "    <tr>\n",
              "      <th>Date</th>\n",
              "      <th></th>\n",
              "    </tr>\n",
              "  </thead>\n",
              "  <tbody>\n",
              "    <tr>\n",
              "      <th>2014</th>\n",
              "      <td>1339080</td>\n",
              "    </tr>\n",
              "    <tr>\n",
              "      <th>2015</th>\n",
              "      <td>1582971</td>\n",
              "    </tr>\n",
              "    <tr>\n",
              "      <th>2016</th>\n",
              "      <td>1742364</td>\n",
              "    </tr>\n",
              "    <tr>\n",
              "      <th>2017</th>\n",
              "      <td>1800474</td>\n",
              "    </tr>\n",
              "    <tr>\n",
              "      <th>2018</th>\n",
              "      <td>2250407</td>\n",
              "    </tr>\n",
              "    <tr>\n",
              "      <th>2019</th>\n",
              "      <td>2824389</td>\n",
              "    </tr>\n",
              "    <tr>\n",
              "      <th>2020</th>\n",
              "      <td>1239702</td>\n",
              "    </tr>\n",
              "    <tr>\n",
              "      <th>2021</th>\n",
              "      <td>3023933</td>\n",
              "    </tr>\n",
              "  </tbody>\n",
              "</table>\n",
              "</div>"
            ],
            "text/plain": [
              "        Count\n",
              "Date         \n",
              "2014  1339080\n",
              "2015  1582971\n",
              "2016  1742364\n",
              "2017  1800474\n",
              "2018  2250407\n",
              "2019  2824389\n",
              "2020  1239702\n",
              "2021  3023933"
            ]
          },
          "metadata": {},
          "execution_count": 102
        }
      ]
    },
    {
      "cell_type": "code",
      "metadata": {
        "colab": {
          "base_uri": "https://localhost:8080/"
        },
        "id": "fqey3KJA68RB",
        "outputId": "b7167994-8d66-4b53-a84a-556e8e206679"
      },
      "source": [
        "Data_yearTotal.index"
      ],
      "id": "fqey3KJA68RB",
      "execution_count": 103,
      "outputs": [
        {
          "output_type": "execute_result",
          "data": {
            "text/plain": [
              "Int64Index([2014, 2015, 2016, 2017, 2018, 2019, 2020, 2021], dtype='int64', name='Date')"
            ]
          },
          "metadata": {},
          "execution_count": 103
        }
      ]
    },
    {
      "cell_type": "markdown",
      "metadata": {
        "id": "Za4z2jr5l94Q"
      },
      "source": [
        "Now, I can calculate the monthly average step counts for each year and start to visualize the data."
      ],
      "id": "Za4z2jr5l94Q"
    },
    {
      "cell_type": "code",
      "metadata": {
        "id": "P8-XcYjeQR-K",
        "colab": {
          "base_uri": "https://localhost:8080/",
          "height": 0
        },
        "outputId": "313c5e28-94c8-42e6-b8a7-3bcba736fc68"
      },
      "source": [
        "Data_yearAvg = Data_yearTotal\n",
        "Data_yearAvg['Count']=Data_yearAvg['Count']/12\n",
        "Data_yearAvg['Count']=Data_yearAvg['Count'].astype(int)\n",
        "Data_yearAvg"
      ],
      "id": "P8-XcYjeQR-K",
      "execution_count": 104,
      "outputs": [
        {
          "output_type": "execute_result",
          "data": {
            "text/html": [
              "<div>\n",
              "<style scoped>\n",
              "    .dataframe tbody tr th:only-of-type {\n",
              "        vertical-align: middle;\n",
              "    }\n",
              "\n",
              "    .dataframe tbody tr th {\n",
              "        vertical-align: top;\n",
              "    }\n",
              "\n",
              "    .dataframe thead th {\n",
              "        text-align: right;\n",
              "    }\n",
              "</style>\n",
              "<table border=\"1\" class=\"dataframe\">\n",
              "  <thead>\n",
              "    <tr style=\"text-align: right;\">\n",
              "      <th></th>\n",
              "      <th>Count</th>\n",
              "    </tr>\n",
              "    <tr>\n",
              "      <th>Date</th>\n",
              "      <th></th>\n",
              "    </tr>\n",
              "  </thead>\n",
              "  <tbody>\n",
              "    <tr>\n",
              "      <th>2014</th>\n",
              "      <td>111590</td>\n",
              "    </tr>\n",
              "    <tr>\n",
              "      <th>2015</th>\n",
              "      <td>131914</td>\n",
              "    </tr>\n",
              "    <tr>\n",
              "      <th>2016</th>\n",
              "      <td>145197</td>\n",
              "    </tr>\n",
              "    <tr>\n",
              "      <th>2017</th>\n",
              "      <td>150039</td>\n",
              "    </tr>\n",
              "    <tr>\n",
              "      <th>2018</th>\n",
              "      <td>187533</td>\n",
              "    </tr>\n",
              "    <tr>\n",
              "      <th>2019</th>\n",
              "      <td>235365</td>\n",
              "    </tr>\n",
              "    <tr>\n",
              "      <th>2020</th>\n",
              "      <td>103308</td>\n",
              "    </tr>\n",
              "    <tr>\n",
              "      <th>2021</th>\n",
              "      <td>251994</td>\n",
              "    </tr>\n",
              "  </tbody>\n",
              "</table>\n",
              "</div>"
            ],
            "text/plain": [
              "       Count\n",
              "Date        \n",
              "2014  111590\n",
              "2015  131914\n",
              "2016  145197\n",
              "2017  150039\n",
              "2018  187533\n",
              "2019  235365\n",
              "2020  103308\n",
              "2021  251994"
            ]
          },
          "metadata": {},
          "execution_count": 104
        }
      ]
    },
    {
      "cell_type": "markdown",
      "metadata": {
        "id": "UUq7PBHhUZeA"
      },
      "source": [
        "Now I can plot a relative graph to analyze the trend of person 1's monthly average step count of each year to see if he/she is more active in the last 12 months than the 12 months before that. Here I plot a trendline and a barplot to visualize the data."
      ],
      "id": "UUq7PBHhUZeA"
    },
    {
      "cell_type": "code",
      "metadata": {
        "id": "pkbOhqe1CYfK",
        "colab": {
          "base_uri": "https://localhost:8080/",
          "height": 0
        },
        "outputId": "c17cc97d-0ae7-4349-e66d-25c74d5af7f0"
      },
      "source": [
        "fig, ax = plt.subplots(figsize = (9,4))\n",
        "Data_yearTotal.plot(y='Count', ax=ax)\n",
        "Data_yearTotal.plot.bar(y=\"Count\", figsize = (9,4))\n",
        "fig.show()"
      ],
      "id": "pkbOhqe1CYfK",
      "execution_count": 105,
      "outputs": [
        {
          "output_type": "display_data",
          "data": {
            "image/png": "[encoded data removed]",
            "text/plain": [
              "<Figure size 648x288 with 1 Axes>"
            ]
          },
          "metadata": {
            "needs_background": "light"
          }
        },
        {
          "output_type": "display_data",
          "data": {
            "image/png": "[encoded data removed]",
            "text/plain": [
              "<Figure size 648x288 with 1 Axes>"
            ]
          },
          "metadata": {
            "needs_background": "light"
          }
        }
      ]
    },
    {
      "cell_type": "markdown",
      "metadata": {
        "id": "CasiuGWQLC5y"
      },
      "source": [
        "Back to the driving question: **\"Was I more active in the last 12 months than the 12 months before that?\"**. As we can see from the trendline and the barplot, the total step counts from 2014 to 2019 is increasing, which implies that person 1 was more active than the previous year from 2014 to 2020. However, the total step counts of 2020 have decreased enormously compared to the total step counts of 2019. I can assume that person 1 has been impacted by the COVID-19 pandemic and became less active. The step count data in 2020 is complete as it records the data from 2020-01-02 to 2020-12-31. Therefore we can eliminate the possibility of inconsistency of the data.\n",
        "While the total step count of 2021 has increased dramatically, which implies person 1 has recovered mostly from the pandemic and become more active compared to any years from 2014 to 2020."
      ],
      "id": "CasiuGWQLC5y"
    },
    {
      "cell_type": "code",
      "metadata": {
        "colab": {
          "base_uri": "https://localhost:8080/",
          "height": 0
        },
        "id": "1RuJb4fpjWes",
        "outputId": "7af35e9a-855f-4a62-f230-126dad7badba"
      },
      "source": [
        "mask = rawData['Date'].dt.year == int(2021)\n",
        "include = rawData[mask]\n",
        "include\n",
        "#exclude = df[~mask]"
      ],
      "id": "1RuJb4fpjWes",
      "execution_count": 150,
      "outputs": [
        {
          "output_type": "execute_result",
          "data": {
            "text/html": [
              "<div>\n",
              "<style scoped>\n",
              "    .dataframe tbody tr th:only-of-type {\n",
              "        vertical-align: middle;\n",
              "    }\n",
              "\n",
              "    .dataframe tbody tr th {\n",
              "        vertical-align: top;\n",
              "    }\n",
              "\n",
              "    .dataframe thead th {\n",
              "        text-align: right;\n",
              "    }\n",
              "</style>\n",
              "<table border=\"1\" class=\"dataframe\">\n",
              "  <thead>\n",
              "    <tr style=\"text-align: right;\">\n",
              "      <th></th>\n",
              "      <th>Source</th>\n",
              "      <th>Date</th>\n",
              "      <th>Hour</th>\n",
              "      <th>Count</th>\n",
              "    </tr>\n",
              "  </thead>\n",
              "  <tbody>\n",
              "    <tr>\n",
              "      <th>156301</th>\n",
              "      <td>Person1 iPhone SE</td>\n",
              "      <td>2021-01-01</td>\n",
              "      <td>6</td>\n",
              "      <td>8</td>\n",
              "    </tr>\n",
              "    <tr>\n",
              "      <th>156302</th>\n",
              "      <td>Person1 iPhone SE</td>\n",
              "      <td>2021-01-01</td>\n",
              "      <td>13</td>\n",
              "      <td>38</td>\n",
              "    </tr>\n",
              "    <tr>\n",
              "      <th>156303</th>\n",
              "      <td>Person1 iPhone SE</td>\n",
              "      <td>2021-01-01</td>\n",
              "      <td>13</td>\n",
              "      <td>14</td>\n",
              "    </tr>\n",
              "    <tr>\n",
              "      <th>156304</th>\n",
              "      <td>Person1 iPhone SE</td>\n",
              "      <td>2021-01-01</td>\n",
              "      <td>13</td>\n",
              "      <td>375</td>\n",
              "    </tr>\n",
              "    <tr>\n",
              "      <th>156305</th>\n",
              "      <td>Person1 iPhone SE</td>\n",
              "      <td>2021-01-01</td>\n",
              "      <td>13</td>\n",
              "      <td>844</td>\n",
              "    </tr>\n",
              "    <tr>\n",
              "      <th>...</th>\n",
              "      <td>...</td>\n",
              "      <td>...</td>\n",
              "      <td>...</td>\n",
              "      <td>...</td>\n",
              "    </tr>\n",
              "    <tr>\n",
              "      <th>183782</th>\n",
              "      <td>Person1 iPhone SE</td>\n",
              "      <td>2021-09-22</td>\n",
              "      <td>17</td>\n",
              "      <td>1241</td>\n",
              "    </tr>\n",
              "    <tr>\n",
              "      <th>183783</th>\n",
              "      <td>Person1 iPhone SE</td>\n",
              "      <td>2021-09-22</td>\n",
              "      <td>17</td>\n",
              "      <td>1212</td>\n",
              "    </tr>\n",
              "    <tr>\n",
              "      <th>183784</th>\n",
              "      <td>Person1 iPhone SE</td>\n",
              "      <td>2021-09-22</td>\n",
              "      <td>18</td>\n",
              "      <td>808</td>\n",
              "    </tr>\n",
              "    <tr>\n",
              "      <th>183785</th>\n",
              "      <td>Person1 iPhone SE</td>\n",
              "      <td>2021-09-22</td>\n",
              "      <td>18</td>\n",
              "      <td>392</td>\n",
              "    </tr>\n",
              "    <tr>\n",
              "      <th>183786</th>\n",
              "      <td>Person1 iPhone SE</td>\n",
              "      <td>2021-09-22</td>\n",
              "      <td>18</td>\n",
              "      <td>34</td>\n",
              "    </tr>\n",
              "  </tbody>\n",
              "</table>\n",
              "<p>27486 rows × 4 columns</p>\n",
              "</div>"
            ],
            "text/plain": [
              "                   Source       Date Hour  Count\n",
              "156301  Person1 iPhone SE 2021-01-01    6      8\n",
              "156302  Person1 iPhone SE 2021-01-01   13     38\n",
              "156303  Person1 iPhone SE 2021-01-01   13     14\n",
              "156304  Person1 iPhone SE 2021-01-01   13    375\n",
              "156305  Person1 iPhone SE 2021-01-01   13    844\n",
              "...                   ...        ...  ...    ...\n",
              "183782  Person1 iPhone SE 2021-09-22   17   1241\n",
              "183783  Person1 iPhone SE 2021-09-22   17   1212\n",
              "183784  Person1 iPhone SE 2021-09-22   18    808\n",
              "183785  Person1 iPhone SE 2021-09-22   18    392\n",
              "183786  Person1 iPhone SE 2021-09-22   18     34\n",
              "\n",
              "[27486 rows x 4 columns]"
            ]
          },
          "metadata": {},
          "execution_count": 150
        }
      ]
    },
    {
      "cell_type": "markdown",
      "metadata": {
        "id": "F4tZSFGGViNh"
      },
      "source": [
        "# Week 10 Mini-Assignment notebook"
      ],
      "id": "F4tZSFGGViNh"
    },
    {
      "cell_type": "markdown",
      "metadata": {
        "id": "QThFX2DBI-WN"
      },
      "source": [
        "In last week's exploration, I simply grouped the raw data by years and the outputs are the monthly average step count for each year. It is easy to analyze and interpret. However, the time interval is 12 months from the start of the year to the end of the year. If a person wants to compare the activeness from the middle of the year to the middle of the next year(i.e. which is also an interval of 12 months). This model cannot help. Therefore, I want to establish a new way to help stakeholders to analyze the activeness no matter which month they want to start to compare with."
      ],
      "id": "QThFX2DBI-WN"
    },
    {
      "cell_type": "markdown",
      "metadata": {
        "id": "PUhinQyUNDCF"
      },
      "source": [
        "Instead of grouping the data only by year, I decide to group the data by both year and month."
      ],
      "id": "PUhinQyUNDCF"
    },
    {
      "cell_type": "code",
      "metadata": {
        "colab": {
          "base_uri": "https://localhost:8080/",
          "height": 450
        },
        "id": "t8hfZv9QJIwR",
        "outputId": "fe5dc3c2-d8ac-4bea-f482-fe0d9d133303"
      },
      "source": [
        "MonthlyData = rawData.groupby([rawData.Date.dt.year, rawData.Date.dt.month]).sum()\n",
        "MonthlyData"
      ],
      "id": "t8hfZv9QJIwR",
      "execution_count": 173,
      "outputs": [
        {
          "output_type": "execute_result",
          "data": {
            "text/html": [
              "<div>\n",
              "<style scoped>\n",
              "    .dataframe tbody tr th:only-of-type {\n",
              "        vertical-align: middle;\n",
              "    }\n",
              "\n",
              "    .dataframe tbody tr th {\n",
              "        vertical-align: top;\n",
              "    }\n",
              "\n",
              "    .dataframe thead th {\n",
              "        text-align: right;\n",
              "    }\n",
              "</style>\n",
              "<table border=\"1\" class=\"dataframe\">\n",
              "  <thead>\n",
              "    <tr style=\"text-align: right;\">\n",
              "      <th></th>\n",
              "      <th></th>\n",
              "      <th>Count</th>\n",
              "    </tr>\n",
              "    <tr>\n",
              "      <th>Date</th>\n",
              "      <th>Date</th>\n",
              "      <th></th>\n",
              "    </tr>\n",
              "  </thead>\n",
              "  <tbody>\n",
              "    <tr>\n",
              "      <th>2014</th>\n",
              "      <th>12</th>\n",
              "      <td>111590</td>\n",
              "    </tr>\n",
              "    <tr>\n",
              "      <th rowspan=\"4\" valign=\"top\">2015</th>\n",
              "      <th>1</th>\n",
              "      <td>131321</td>\n",
              "    </tr>\n",
              "    <tr>\n",
              "      <th>2</th>\n",
              "      <td>106851</td>\n",
              "    </tr>\n",
              "    <tr>\n",
              "      <th>3</th>\n",
              "      <td>101621</td>\n",
              "    </tr>\n",
              "    <tr>\n",
              "      <th>4</th>\n",
              "      <td>91726</td>\n",
              "    </tr>\n",
              "    <tr>\n",
              "      <th>...</th>\n",
              "      <th>...</th>\n",
              "      <td>...</td>\n",
              "    </tr>\n",
              "    <tr>\n",
              "      <th rowspan=\"5\" valign=\"top\">2021</th>\n",
              "      <th>5</th>\n",
              "      <td>518898</td>\n",
              "    </tr>\n",
              "    <tr>\n",
              "      <th>6</th>\n",
              "      <td>406440</td>\n",
              "    </tr>\n",
              "    <tr>\n",
              "      <th>7</th>\n",
              "      <td>360565</td>\n",
              "    </tr>\n",
              "    <tr>\n",
              "      <th>8</th>\n",
              "      <td>321087</td>\n",
              "    </tr>\n",
              "    <tr>\n",
              "      <th>9</th>\n",
              "      <td>205743</td>\n",
              "    </tr>\n",
              "  </tbody>\n",
              "</table>\n",
              "<p>82 rows × 1 columns</p>\n",
              "</div>"
            ],
            "text/plain": [
              "            Count\n",
              "Date Date        \n",
              "2014 12    111590\n",
              "2015 1     131321\n",
              "     2     106851\n",
              "     3     101621\n",
              "     4      91726\n",
              "...           ...\n",
              "2021 5     518898\n",
              "     6     406440\n",
              "     7     360565\n",
              "     8     321087\n",
              "     9     205743\n",
              "\n",
              "[82 rows x 1 columns]"
            ]
          },
          "metadata": {},
          "execution_count": 173
        }
      ]
    },
    {
      "cell_type": "markdown",
      "metadata": {
        "id": "U4PsWymsPDb2"
      },
      "source": [
        "After reorganizing the dataset, I can start plotting the trendline of this dataset. It shows the walking pattern of person 1 from 2014 to 2021. It illustrates that there are three peaks that the step counts increase enormously compared to the last month. While this isn't finished as it is hard to compare and interpret the activeness of 12 months intervals."
      ],
      "id": "U4PsWymsPDb2"
    },
    {
      "cell_type": "code",
      "metadata": {
        "colab": {
          "base_uri": "https://localhost:8080/",
          "height": 568
        },
        "id": "qMlZ3Huqd9g3",
        "outputId": "89dc6282-8a2c-4b79-f2ad-e4a41029c835"
      },
      "source": [
        "fig, ax = plt.subplots(figsize=(20,9))\n",
        "tickspacing = 6\n",
        "Mintickspacing = 1\n",
        "ax.xaxis.set_major_locator(ticker.MultipleLocator(tickspacing))\n",
        "ax.xaxis.set_minor_locator(ticker.MultipleLocator(Mintickspacing))\n",
        "MonthlyData.plot(ax=ax)\n",
        "#plt.xticks(rotation = 45)\n"
      ],
      "id": "qMlZ3Huqd9g3",
      "execution_count": 174,
      "outputs": [
        {
          "output_type": "execute_result",
          "data": {
            "text/plain": [
              "<matplotlib.axes._subplots.AxesSubplot at 0x7fe3accb8bd0>"
            ]
          },
          "metadata": {},
          "execution_count": 174
        },
        {
          "output_type": "display_data",
          "data": {
            "image/png": "[encoded data removed]",
            "text/plain": [
              "<Figure size 1440x648 with 1 Axes>"
            ]
          },
          "metadata": {
            "needs_background": "light"
          }
        }
      ]
    },
    {
      "cell_type": "code",
      "metadata": {
        "colab": {
          "base_uri": "https://localhost:8080/"
        },
        "id": "P9aWnlsRQNZo",
        "outputId": "48e1f986-a0b7-42bb-fd8a-f0f390c2a7a9"
      },
      "source": [
        "MonthlyData.index"
      ],
      "id": "P9aWnlsRQNZo",
      "execution_count": 175,
      "outputs": [
        {
          "output_type": "execute_result",
          "data": {
            "text/plain": [
              "MultiIndex([(2014, 12),\n",
              "            (2015,  1),\n",
              "            (2015,  2),\n",
              "            (2015,  3),\n",
              "            (2015,  4),\n",
              "            (2015,  5),\n",
              "            (2015,  6),\n",
              "            (2015,  7),\n",
              "            (2015,  8),\n",
              "            (2015,  9),\n",
              "            (2015, 10),\n",
              "            (2015, 11),\n",
              "            (2015, 12),\n",
              "            (2016,  1),\n",
              "            (2016,  2),\n",
              "            (2016,  3),\n",
              "            (2016,  4),\n",
              "            (2016,  5),\n",
              "            (2016,  6),\n",
              "            (2016,  7),\n",
              "            (2016,  8),\n",
              "            (2016,  9),\n",
              "            (2016, 10),\n",
              "            (2016, 11),\n",
              "            (2016, 12),\n",
              "            (2017,  1),\n",
              "            (2017,  2),\n",
              "            (2017,  3),\n",
              "            (2017,  4),\n",
              "            (2017,  5),\n",
              "            (2017,  6),\n",
              "            (2017,  7),\n",
              "            (2017,  8),\n",
              "            (2017,  9),\n",
              "            (2017, 10),\n",
              "            (2017, 11),\n",
              "            (2017, 12),\n",
              "            (2018,  1),\n",
              "            (2018,  2),\n",
              "            (2018,  3),\n",
              "            (2018,  4),\n",
              "            (2018,  5),\n",
              "            (2018,  6),\n",
              "            (2018,  7),\n",
              "            (2018,  8),\n",
              "            (2018,  9),\n",
              "            (2018, 10),\n",
              "            (2018, 11),\n",
              "            (2018, 12),\n",
              "            (2019,  1),\n",
              "            (2019,  2),\n",
              "            (2019,  3),\n",
              "            (2019,  4),\n",
              "            (2019,  5),\n",
              "            (2019,  6),\n",
              "            (2019,  7),\n",
              "            (2019,  8),\n",
              "            (2019,  9),\n",
              "            (2019, 10),\n",
              "            (2019, 11),\n",
              "            (2019, 12),\n",
              "            (2020,  1),\n",
              "            (2020,  2),\n",
              "            (2020,  3),\n",
              "            (2020,  4),\n",
              "            (2020,  5),\n",
              "            (2020,  6),\n",
              "            (2020,  7),\n",
              "            (2020,  8),\n",
              "            (2020,  9),\n",
              "            (2020, 10),\n",
              "            (2020, 11),\n",
              "            (2020, 12),\n",
              "            (2021,  1),\n",
              "            (2021,  2),\n",
              "            (2021,  3),\n",
              "            (2021,  4),\n",
              "            (2021,  5),\n",
              "            (2021,  6),\n",
              "            (2021,  7),\n",
              "            (2021,  8),\n",
              "            (2021,  9)],\n",
              "           names=['Date', 'Date'])"
            ]
          },
          "metadata": {},
          "execution_count": 175
        }
      ]
    },
    {
      "cell_type": "markdown",
      "metadata": {
        "id": "YaRwZ2w3V0-f"
      },
      "source": [
        "The indexes of the dataset \"__MonthlyData__\" are **MultiIndex**. Using MultiIndex is harder to do data wrangling than a single index. Therefore, I use the \"**_.unstack_**\" function to pivot a level of the index labels. It returns a DataFrame having a new level of column labels whose inner-most level consists of the pivoted index labels. "
      ],
      "id": "YaRwZ2w3V0-f"
    },
    {
      "cell_type": "code",
      "metadata": {
        "colab": {
          "base_uri": "https://localhost:8080/",
          "height": 359
        },
        "id": "Rd7koUfdRiGi",
        "outputId": "e64d18ae-75d0-48f8-ed13-05a1caf12c96"
      },
      "source": [
        "MonthlyData_unstack = MonthlyData.unstack(1)\n",
        "MonthlyData_unstack.rename(columns = {'Count':'Month'}, inplace=True)\n",
        "MonthlyData_unstack"
      ],
      "id": "Rd7koUfdRiGi",
      "execution_count": 128,
      "outputs": [
        {
          "output_type": "execute_result",
          "data": {
            "text/html": [
              "<div>\n",
              "<style scoped>\n",
              "    .dataframe tbody tr th:only-of-type {\n",
              "        vertical-align: middle;\n",
              "    }\n",
              "\n",
              "    .dataframe tbody tr th {\n",
              "        vertical-align: top;\n",
              "    }\n",
              "\n",
              "    .dataframe thead tr th {\n",
              "        text-align: left;\n",
              "    }\n",
              "\n",
              "    .dataframe thead tr:last-of-type th {\n",
              "        text-align: right;\n",
              "    }\n",
              "</style>\n",
              "<table border=\"1\" class=\"dataframe\">\n",
              "  <thead>\n",
              "    <tr>\n",
              "      <th></th>\n",
              "      <th colspan=\"12\" halign=\"left\">Month</th>\n",
              "    </tr>\n",
              "    <tr>\n",
              "      <th>Date</th>\n",
              "      <th>1</th>\n",
              "      <th>2</th>\n",
              "      <th>3</th>\n",
              "      <th>4</th>\n",
              "      <th>5</th>\n",
              "      <th>6</th>\n",
              "      <th>7</th>\n",
              "      <th>8</th>\n",
              "      <th>9</th>\n",
              "      <th>10</th>\n",
              "      <th>11</th>\n",
              "      <th>12</th>\n",
              "    </tr>\n",
              "    <tr>\n",
              "      <th>Date</th>\n",
              "      <th></th>\n",
              "      <th></th>\n",
              "      <th></th>\n",
              "      <th></th>\n",
              "      <th></th>\n",
              "      <th></th>\n",
              "      <th></th>\n",
              "      <th></th>\n",
              "      <th></th>\n",
              "      <th></th>\n",
              "      <th></th>\n",
              "      <th></th>\n",
              "    </tr>\n",
              "  </thead>\n",
              "  <tbody>\n",
              "    <tr>\n",
              "      <th>2014</th>\n",
              "      <td>NaN</td>\n",
              "      <td>NaN</td>\n",
              "      <td>NaN</td>\n",
              "      <td>NaN</td>\n",
              "      <td>NaN</td>\n",
              "      <td>NaN</td>\n",
              "      <td>NaN</td>\n",
              "      <td>NaN</td>\n",
              "      <td>NaN</td>\n",
              "      <td>NaN</td>\n",
              "      <td>NaN</td>\n",
              "      <td>111590.0</td>\n",
              "    </tr>\n",
              "    <tr>\n",
              "      <th>2015</th>\n",
              "      <td>131321.0</td>\n",
              "      <td>106851.0</td>\n",
              "      <td>101621.0</td>\n",
              "      <td>91726.0</td>\n",
              "      <td>177845.0</td>\n",
              "      <td>169385.0</td>\n",
              "      <td>202681.0</td>\n",
              "      <td>138543.0</td>\n",
              "      <td>118508.0</td>\n",
              "      <td>114230.0</td>\n",
              "      <td>136521.0</td>\n",
              "      <td>93739.0</td>\n",
              "    </tr>\n",
              "    <tr>\n",
              "      <th>2016</th>\n",
              "      <td>123366.0</td>\n",
              "      <td>109612.0</td>\n",
              "      <td>326088.0</td>\n",
              "      <td>262838.0</td>\n",
              "      <td>136031.0</td>\n",
              "      <td>119474.0</td>\n",
              "      <td>86969.0</td>\n",
              "      <td>120755.0</td>\n",
              "      <td>131355.0</td>\n",
              "      <td>106339.0</td>\n",
              "      <td>104795.0</td>\n",
              "      <td>114742.0</td>\n",
              "    </tr>\n",
              "    <tr>\n",
              "      <th>2017</th>\n",
              "      <td>90613.0</td>\n",
              "      <td>52991.0</td>\n",
              "      <td>108961.0</td>\n",
              "      <td>116040.0</td>\n",
              "      <td>132040.0</td>\n",
              "      <td>104550.0</td>\n",
              "      <td>274898.0</td>\n",
              "      <td>146180.0</td>\n",
              "      <td>121933.0</td>\n",
              "      <td>218839.0</td>\n",
              "      <td>114464.0</td>\n",
              "      <td>318965.0</td>\n",
              "    </tr>\n",
              "    <tr>\n",
              "      <th>2018</th>\n",
              "      <td>224852.0</td>\n",
              "      <td>145428.0</td>\n",
              "      <td>123369.0</td>\n",
              "      <td>146704.0</td>\n",
              "      <td>102932.0</td>\n",
              "      <td>191002.0</td>\n",
              "      <td>200916.0</td>\n",
              "      <td>228258.0</td>\n",
              "      <td>114421.0</td>\n",
              "      <td>227409.0</td>\n",
              "      <td>239160.0</td>\n",
              "      <td>394777.0</td>\n",
              "    </tr>\n",
              "    <tr>\n",
              "      <th>2019</th>\n",
              "      <td>378698.0</td>\n",
              "      <td>384654.0</td>\n",
              "      <td>463604.0</td>\n",
              "      <td>431606.0</td>\n",
              "      <td>62203.0</td>\n",
              "      <td>191545.0</td>\n",
              "      <td>156318.0</td>\n",
              "      <td>161227.0</td>\n",
              "      <td>137874.0</td>\n",
              "      <td>145937.0</td>\n",
              "      <td>149279.0</td>\n",
              "      <td>161444.0</td>\n",
              "    </tr>\n",
              "    <tr>\n",
              "      <th>2020</th>\n",
              "      <td>113927.0</td>\n",
              "      <td>125089.0</td>\n",
              "      <td>79801.0</td>\n",
              "      <td>32527.0</td>\n",
              "      <td>90651.0</td>\n",
              "      <td>138863.0</td>\n",
              "      <td>180116.0</td>\n",
              "      <td>92018.0</td>\n",
              "      <td>86170.0</td>\n",
              "      <td>88564.0</td>\n",
              "      <td>94503.0</td>\n",
              "      <td>117473.0</td>\n",
              "    </tr>\n",
              "    <tr>\n",
              "      <th>2021</th>\n",
              "      <td>275575.0</td>\n",
              "      <td>138177.0</td>\n",
              "      <td>286459.0</td>\n",
              "      <td>510989.0</td>\n",
              "      <td>518898.0</td>\n",
              "      <td>406440.0</td>\n",
              "      <td>360565.0</td>\n",
              "      <td>321087.0</td>\n",
              "      <td>205743.0</td>\n",
              "      <td>NaN</td>\n",
              "      <td>NaN</td>\n",
              "      <td>NaN</td>\n",
              "    </tr>\n",
              "  </tbody>\n",
              "</table>\n",
              "</div>"
            ],
            "text/plain": [
              "         Month                      ...                              \n",
              "Date        1         2         3   ...        10        11        12\n",
              "Date                                ...                              \n",
              "2014       NaN       NaN       NaN  ...       NaN       NaN  111590.0\n",
              "2015  131321.0  106851.0  101621.0  ...  114230.0  136521.0   93739.0\n",
              "2016  123366.0  109612.0  326088.0  ...  106339.0  104795.0  114742.0\n",
              "2017   90613.0   52991.0  108961.0  ...  218839.0  114464.0  318965.0\n",
              "2018  224852.0  145428.0  123369.0  ...  227409.0  239160.0  394777.0\n",
              "2019  378698.0  384654.0  463604.0  ...  145937.0  149279.0  161444.0\n",
              "2020  113927.0  125089.0   79801.0  ...   88564.0   94503.0  117473.0\n",
              "2021  275575.0  138177.0  286459.0  ...       NaN       NaN       NaN\n",
              "\n",
              "[8 rows x 12 columns]"
            ]
          },
          "metadata": {},
          "execution_count": 128
        }
      ]
    },
    {
      "cell_type": "markdown",
      "metadata": {
        "id": "Gc9sjdnFRrWp"
      },
      "source": [
        "Now, the dataset has a brand new layout that the years are the row and the months are the columns. I want to transpose the rows and the columns that the rows are the months and the columns are the years. So, I use the \"_**.T**_\" function to rearrange the dataset into a new format."
      ],
      "id": "Gc9sjdnFRrWp"
    },
    {
      "cell_type": "code",
      "metadata": {
        "id": "7Do9gNtjZ2DA"
      },
      "source": [
        "MonthlyData_tr = MonthlyData_unstack.T"
      ],
      "id": "7Do9gNtjZ2DA",
      "execution_count": 129,
      "outputs": []
    },
    {
      "cell_type": "code",
      "metadata": {
        "colab": {
          "base_uri": "https://localhost:8080/",
          "height": 452
        },
        "id": "LJ7RtdCqcbGw",
        "outputId": "97bc0a7c-ffa2-47e7-a7af-b4647a068a3f"
      },
      "source": [
        "MonthlyData_tr.columns\n",
        "MonthlyData_tr"
      ],
      "id": "LJ7RtdCqcbGw",
      "execution_count": 140,
      "outputs": [
        {
          "output_type": "execute_result",
          "data": {
            "text/html": [
              "<div>\n",
              "<style scoped>\n",
              "    .dataframe tbody tr th:only-of-type {\n",
              "        vertical-align: middle;\n",
              "    }\n",
              "\n",
              "    .dataframe tbody tr th {\n",
              "        vertical-align: top;\n",
              "    }\n",
              "\n",
              "    .dataframe thead th {\n",
              "        text-align: right;\n",
              "    }\n",
              "</style>\n",
              "<table border=\"1\" class=\"dataframe\">\n",
              "  <thead>\n",
              "    <tr style=\"text-align: right;\">\n",
              "      <th></th>\n",
              "      <th>Date</th>\n",
              "      <th>2014</th>\n",
              "      <th>2015</th>\n",
              "      <th>2016</th>\n",
              "      <th>2017</th>\n",
              "      <th>2018</th>\n",
              "      <th>2019</th>\n",
              "      <th>2020</th>\n",
              "      <th>2021</th>\n",
              "    </tr>\n",
              "    <tr>\n",
              "      <th></th>\n",
              "      <th>Date</th>\n",
              "      <th></th>\n",
              "      <th></th>\n",
              "      <th></th>\n",
              "      <th></th>\n",
              "      <th></th>\n",
              "      <th></th>\n",
              "      <th></th>\n",
              "      <th></th>\n",
              "    </tr>\n",
              "  </thead>\n",
              "  <tbody>\n",
              "    <tr>\n",
              "      <th rowspan=\"12\" valign=\"top\">Month</th>\n",
              "      <th>1</th>\n",
              "      <td>NaN</td>\n",
              "      <td>131321.0</td>\n",
              "      <td>123366.0</td>\n",
              "      <td>90613.0</td>\n",
              "      <td>224852.0</td>\n",
              "      <td>378698.0</td>\n",
              "      <td>113927.0</td>\n",
              "      <td>275575.0</td>\n",
              "    </tr>\n",
              "    <tr>\n",
              "      <th>2</th>\n",
              "      <td>NaN</td>\n",
              "      <td>106851.0</td>\n",
              "      <td>109612.0</td>\n",
              "      <td>52991.0</td>\n",
              "      <td>145428.0</td>\n",
              "      <td>384654.0</td>\n",
              "      <td>125089.0</td>\n",
              "      <td>138177.0</td>\n",
              "    </tr>\n",
              "    <tr>\n",
              "      <th>3</th>\n",
              "      <td>NaN</td>\n",
              "      <td>101621.0</td>\n",
              "      <td>326088.0</td>\n",
              "      <td>108961.0</td>\n",
              "      <td>123369.0</td>\n",
              "      <td>463604.0</td>\n",
              "      <td>79801.0</td>\n",
              "      <td>286459.0</td>\n",
              "    </tr>\n",
              "    <tr>\n",
              "      <th>4</th>\n",
              "      <td>NaN</td>\n",
              "      <td>91726.0</td>\n",
              "      <td>262838.0</td>\n",
              "      <td>116040.0</td>\n",
              "      <td>146704.0</td>\n",
              "      <td>431606.0</td>\n",
              "      <td>32527.0</td>\n",
              "      <td>510989.0</td>\n",
              "    </tr>\n",
              "    <tr>\n",
              "      <th>5</th>\n",
              "      <td>NaN</td>\n",
              "      <td>177845.0</td>\n",
              "      <td>136031.0</td>\n",
              "      <td>132040.0</td>\n",
              "      <td>102932.0</td>\n",
              "      <td>62203.0</td>\n",
              "      <td>90651.0</td>\n",
              "      <td>518898.0</td>\n",
              "    </tr>\n",
              "    <tr>\n",
              "      <th>6</th>\n",
              "      <td>NaN</td>\n",
              "      <td>169385.0</td>\n",
              "      <td>119474.0</td>\n",
              "      <td>104550.0</td>\n",
              "      <td>191002.0</td>\n",
              "      <td>191545.0</td>\n",
              "      <td>138863.0</td>\n",
              "      <td>406440.0</td>\n",
              "    </tr>\n",
              "    <tr>\n",
              "      <th>7</th>\n",
              "      <td>NaN</td>\n",
              "      <td>202681.0</td>\n",
              "      <td>86969.0</td>\n",
              "      <td>274898.0</td>\n",
              "      <td>200916.0</td>\n",
              "      <td>156318.0</td>\n",
              "      <td>180116.0</td>\n",
              "      <td>360565.0</td>\n",
              "    </tr>\n",
              "    <tr>\n",
              "      <th>8</th>\n",
              "      <td>NaN</td>\n",
              "      <td>138543.0</td>\n",
              "      <td>120755.0</td>\n",
              "      <td>146180.0</td>\n",
              "      <td>228258.0</td>\n",
              "      <td>161227.0</td>\n",
              "      <td>92018.0</td>\n",
              "      <td>321087.0</td>\n",
              "    </tr>\n",
              "    <tr>\n",
              "      <th>9</th>\n",
              "      <td>NaN</td>\n",
              "      <td>118508.0</td>\n",
              "      <td>131355.0</td>\n",
              "      <td>121933.0</td>\n",
              "      <td>114421.0</td>\n",
              "      <td>137874.0</td>\n",
              "      <td>86170.0</td>\n",
              "      <td>205743.0</td>\n",
              "    </tr>\n",
              "    <tr>\n",
              "      <th>10</th>\n",
              "      <td>NaN</td>\n",
              "      <td>114230.0</td>\n",
              "      <td>106339.0</td>\n",
              "      <td>218839.0</td>\n",
              "      <td>227409.0</td>\n",
              "      <td>145937.0</td>\n",
              "      <td>88564.0</td>\n",
              "      <td>NaN</td>\n",
              "    </tr>\n",
              "    <tr>\n",
              "      <th>11</th>\n",
              "      <td>NaN</td>\n",
              "      <td>136521.0</td>\n",
              "      <td>104795.0</td>\n",
              "      <td>114464.0</td>\n",
              "      <td>239160.0</td>\n",
              "      <td>149279.0</td>\n",
              "      <td>94503.0</td>\n",
              "      <td>NaN</td>\n",
              "    </tr>\n",
              "    <tr>\n",
              "      <th>12</th>\n",
              "      <td>111590.0</td>\n",
              "      <td>93739.0</td>\n",
              "      <td>114742.0</td>\n",
              "      <td>318965.0</td>\n",
              "      <td>394777.0</td>\n",
              "      <td>161444.0</td>\n",
              "      <td>117473.0</td>\n",
              "      <td>NaN</td>\n",
              "    </tr>\n",
              "  </tbody>\n",
              "</table>\n",
              "</div>"
            ],
            "text/plain": [
              "Date            2014      2015      2016  ...      2019      2020      2021\n",
              "      Date                                ...                              \n",
              "Month 1          NaN  131321.0  123366.0  ...  378698.0  113927.0  275575.0\n",
              "      2          NaN  106851.0  109612.0  ...  384654.0  125089.0  138177.0\n",
              "      3          NaN  101621.0  326088.0  ...  463604.0   79801.0  286459.0\n",
              "      4          NaN   91726.0  262838.0  ...  431606.0   32527.0  510989.0\n",
              "      5          NaN  177845.0  136031.0  ...   62203.0   90651.0  518898.0\n",
              "      6          NaN  169385.0  119474.0  ...  191545.0  138863.0  406440.0\n",
              "      7          NaN  202681.0   86969.0  ...  156318.0  180116.0  360565.0\n",
              "      8          NaN  138543.0  120755.0  ...  161227.0   92018.0  321087.0\n",
              "      9          NaN  118508.0  131355.0  ...  137874.0   86170.0  205743.0\n",
              "      10         NaN  114230.0  106339.0  ...  145937.0   88564.0       NaN\n",
              "      11         NaN  136521.0  104795.0  ...  149279.0   94503.0       NaN\n",
              "      12    111590.0   93739.0  114742.0  ...  161444.0  117473.0       NaN\n",
              "\n",
              "[12 rows x 8 columns]"
            ]
          },
          "metadata": {},
          "execution_count": 140
        }
      ]
    },
    {
      "cell_type": "code",
      "metadata": {
        "id": "3A7RPgkYZ_Bj",
        "colab": {
          "base_uri": "https://localhost:8080/",
          "height": 568
        },
        "outputId": "8feb7d31-3ea7-429b-c19f-ded9faea3dab"
      },
      "source": [
        "fig, ax = plt.subplots(figsize=(20,9))\n",
        "tickspacing = 1\n",
        "Mintickspacing = 1\n",
        "ax.xaxis.set_major_locator(ticker.MultipleLocator(tickspacing))\n",
        "ax.xaxis.set_minor_locator(ticker.MultipleLocator(Mintickspacing))\n",
        "MonthlyData_tr.plot(ax=ax) "
      ],
      "id": "3A7RPgkYZ_Bj",
      "execution_count": 148,
      "outputs": [
        {
          "output_type": "execute_result",
          "data": {
            "text/plain": [
              "<matplotlib.axes._subplots.AxesSubplot at 0x7fe3aef8a0d0>"
            ]
          },
          "metadata": {},
          "execution_count": 148
        },
        {
          "output_type": "display_data",
          "data": {
            "image/png": "[encoded data removed]",
            "text/plain": [
              "<Figure size 1440x648 with 1 Axes>"
            ]
          },
          "metadata": {
            "needs_background": "light"
          }
        }
      ]
    },
    {
      "cell_type": "markdown",
      "metadata": {
        "id": "Q50d5a_-SJqA"
      },
      "source": [
        "After rearranging the dataset, I can now plot the trendline of each year's step account into one plot and enable stakeholders to compare the activeness from any time they want. However, it is still hard to interpret as the lines are intertwined together and there is no marker for each months step counts. Hence, I imported the \"**plotly**\" library to enhance the visualization effect of the plot and add the interaction feature that allows stakeholders to read the exact step count when the cursor moves to any markers."
      ],
      "id": "Q50d5a_-SJqA"
    },
    {
      "cell_type": "code",
      "metadata": {
        "colab": {
          "base_uri": "https://localhost:8080/",
          "height": 542
        },
        "id": "x1_PWTzbAJCp",
        "outputId": "4523561e-c26b-4714-de5f-57c4f9717cf7"
      },
      "source": [
        "Month = ['JAN','FEB','MAR','APR','MAY','JUN','JUL','AUG','SEP','OCT','NOV','DEC']\n",
        "fig = px.line()\n",
        "try:\n",
        "  for i,n in enumerate(MonthlyData_tr[1:7]):\n",
        "    fig.add_scatter(x=Month, y=MonthlyData_tr[MonthlyData_tr.columns[i+1]], name = str(MonthlyData_tr.columns[i+1]))\n",
        "except:\n",
        "  pass\n",
        "#fig.show()\n",
        "fig.update_traces(mode='markers+lines') \n",
        "fig.update_layout(  \n",
        "title = 'Monthly Step Count for each year from 2014 to 2021'  \n",
        ",xaxis_title = 'Month'  \n",
        ",yaxis_title = 'Number of steps'  \n",
        ",font = dict(size = 25)  \n",
        ",template = 'plotly_dark' #\"plotly\", \"plotly_white\", \"plotly_dark\", \"ggplot2\", \"seaborn\", \"simple_white\", \"none\"  \n",
        ")  "
      ],
      "id": "x1_PWTzbAJCp",
      "execution_count": 172,
      "outputs": [
        {
          "output_type": "display_data",
          "data": {
            "text/html": [
              "<html>\n",
              "<head><meta charset=\"utf-8\" /></head>\n",
              "<body>\n",
              "    <div>\n",
              "            <script src=\"https://cdnjs.cloudflare.com/ajax/libs/mathjax/2.7.5/MathJax.js?config=TeX-AMS-MML_SVG\"></script><script type=\"text/javascript\">if (window.MathJax) {MathJax.Hub.Config({SVG: {font: \"STIX-Web\"}});}</script>\n",
              "                <script type=\"text/javascript\">window.PlotlyConfig = {MathJaxConfig: 'local'};</script>\n",
              "        <script src=\"https://cdn.plot.ly/plotly-latest.min.js\"></script>    \n",
              "            <div id=\"da3ed97c-9aa0-46ab-8624-78bb7f899d73\" class=\"plotly-graph-div\" style=\"height:525px; width:100%;\"></div>\n",
              "            <script type=\"text/javascript\">\n",
              "                \n",
              "                    window.PLOTLYENV=window.PLOTLYENV || {};\n",
              "                    \n",
              "                if (document.getElementById(\"da3ed97c-9aa0-46ab-8624-78bb7f899d73\")) {\n",
              "                    Plotly.newPlot(\n",
              "                        'da3ed97c-9aa0-46ab-8624-78bb7f899d73',\n",
              "                        [{\"mode\": \"markers+lines\", \"name\": \"2015\", \"type\": \"scatter\", \"x\": [\"JAN\", \"FEB\", \"MAR\", \"APR\", \"MAY\", \"JUN\", \"JUL\", \"AUG\", \"SEP\", \"OCT\", \"NOV\", \"DEC\"], \"y\": [131321.0, 106851.0, 101621.0, 91726.0, 177845.0, 169385.0, 202681.0, 138543.0, 118508.0, 114230.0, 136521.0, 93739.0]}, {\"mode\": \"markers+lines\", \"name\": \"2016\", \"type\": \"scatter\", \"x\": [\"JAN\", \"FEB\", \"MAR\", \"APR\", \"MAY\", \"JUN\", \"JUL\", \"AUG\", \"SEP\", \"OCT\", \"NOV\", \"DEC\"], \"y\": [123366.0, 109612.0, 326088.0, 262838.0, 136031.0, 119474.0, 86969.0, 120755.0, 131355.0, 106339.0, 104795.0, 114742.0]}, {\"mode\": \"markers+lines\", \"name\": \"2017\", \"type\": \"scatter\", \"x\": [\"JAN\", \"FEB\", \"MAR\", \"APR\", \"MAY\", \"JUN\", \"JUL\", \"AUG\", \"SEP\", \"OCT\", \"NOV\", \"DEC\"], \"y\": [90613.0, 52991.0, 108961.0, 116040.0, 132040.0, 104550.0, 274898.0, 146180.0, 121933.0, 218839.0, 114464.0, 318965.0]}, {\"mode\": \"markers+lines\", \"name\": \"2018\", \"type\": \"scatter\", \"x\": [\"JAN\", \"FEB\", \"MAR\", \"APR\", \"MAY\", \"JUN\", \"JUL\", \"AUG\", \"SEP\", \"OCT\", \"NOV\", \"DEC\"], \"y\": [224852.0, 145428.0, 123369.0, 146704.0, 102932.0, 191002.0, 200916.0, 228258.0, 114421.0, 227409.0, 239160.0, 394777.0]}, {\"mode\": \"markers+lines\", \"name\": \"2019\", \"type\": \"scatter\", \"x\": [\"JAN\", \"FEB\", \"MAR\", \"APR\", \"MAY\", \"JUN\", \"JUL\", \"AUG\", \"SEP\", \"OCT\", \"NOV\", \"DEC\"], \"y\": [378698.0, 384654.0, 463604.0, 431606.0, 62203.0, 191545.0, 156318.0, 161227.0, 137874.0, 145937.0, 149279.0, 161444.0]}, {\"mode\": \"markers+lines\", \"name\": \"2020\", \"type\": \"scatter\", \"x\": [\"JAN\", \"FEB\", \"MAR\", \"APR\", \"MAY\", \"JUN\", \"JUL\", \"AUG\", \"SEP\", \"OCT\", \"NOV\", \"DEC\"], \"y\": [113927.0, 125089.0, 79801.0, 32527.0, 90651.0, 138863.0, 180116.0, 92018.0, 86170.0, 88564.0, 94503.0, 117473.0]}, {\"mode\": \"markers+lines\", \"name\": \"2021\", \"type\": \"scatter\", \"x\": [\"JAN\", \"FEB\", \"MAR\", \"APR\", \"MAY\", \"JUN\", \"JUL\", \"AUG\", \"SEP\", \"OCT\", \"NOV\", \"DEC\"], \"y\": [275575.0, 138177.0, 286459.0, 510989.0, 518898.0, 406440.0, 360565.0, 321087.0, 205743.0, null, null, null]}],\n",
              "                        {\"font\": {\"size\": 25}, \"legend\": {\"tracegroupgap\": 0}, \"margin\": {\"t\": 60}, \"template\": {\"data\": {\"bar\": [{\"error_x\": {\"color\": \"#f2f5fa\"}, \"error_y\": {\"color\": \"#f2f5fa\"}, \"marker\": {\"line\": {\"color\": \"rgb(17,17,17)\", \"width\": 0.5}}, \"type\": \"bar\"}], \"barpolar\": [{\"marker\": {\"line\": {\"color\": \"rgb(17,17,17)\", \"width\": 0.5}}, \"type\": \"barpolar\"}], \"carpet\": [{\"aaxis\": {\"endlinecolor\": \"#A2B1C6\", \"gridcolor\": \"#506784\", \"linecolor\": \"#506784\", \"minorgridcolor\": \"#506784\", \"startlinecolor\": \"#A2B1C6\"}, \"baxis\": {\"endlinecolor\": \"#A2B1C6\", \"gridcolor\": \"#506784\", \"linecolor\": \"#506784\", \"minorgridcolor\": \"#506784\", \"startlinecolor\": \"#A2B1C6\"}, \"type\": \"carpet\"}], \"choropleth\": [{\"colorbar\": {\"outlinewidth\": 0, \"ticks\": \"\"}, \"type\": \"choropleth\"}], \"contour\": [{\"colorbar\": {\"outlinewidth\": 0, \"ticks\": \"\"}, \"colorscale\": [[0.0, \"#0d0887\"], [0.1111111111111111, \"#46039f\"], [0.2222222222222222, \"#7201a8\"], [0.3333333333333333, \"#9c179e\"], [0.4444444444444444, \"#bd3786\"], [0.5555555555555556, \"#d8576b\"], [0.6666666666666666, \"#ed7953\"], [0.7777777777777778, \"#fb9f3a\"], [0.8888888888888888, \"#fdca26\"], [1.0, \"#f0f921\"]], \"type\": \"contour\"}], \"contourcarpet\": [{\"colorbar\": {\"outlinewidth\": 0, \"ticks\": \"\"}, \"type\": \"contourcarpet\"}], \"heatmap\": [{\"colorbar\": {\"outlinewidth\": 0, \"ticks\": \"\"}, \"colorscale\": [[0.0, \"#0d0887\"], [0.1111111111111111, \"#46039f\"], [0.2222222222222222, \"#7201a8\"], [0.3333333333333333, \"#9c179e\"], [0.4444444444444444, \"#bd3786\"], [0.5555555555555556, \"#d8576b\"], [0.6666666666666666, \"#ed7953\"], [0.7777777777777778, \"#fb9f3a\"], [0.8888888888888888, \"#fdca26\"], [1.0, \"#f0f921\"]], \"type\": \"heatmap\"}], \"heatmapgl\": [{\"colorbar\": {\"outlinewidth\": 0, \"ticks\": \"\"}, \"colorscale\": [[0.0, \"#0d0887\"], [0.1111111111111111, \"#46039f\"], [0.2222222222222222, \"#7201a8\"], [0.3333333333333333, \"#9c179e\"], [0.4444444444444444, \"#bd3786\"], [0.5555555555555556, \"#d8576b\"], [0.6666666666666666, \"#ed7953\"], [0.7777777777777778, \"#fb9f3a\"], [0.8888888888888888, \"#fdca26\"], [1.0, \"#f0f921\"]], \"type\": \"heatmapgl\"}], \"histogram\": [{\"marker\": {\"colorbar\": {\"outlinewidth\": 0, \"ticks\": \"\"}}, \"type\": \"histogram\"}], \"histogram2d\": [{\"colorbar\": {\"outlinewidth\": 0, \"ticks\": \"\"}, \"colorscale\": [[0.0, \"#0d0887\"], [0.1111111111111111, \"#46039f\"], [0.2222222222222222, \"#7201a8\"], [0.3333333333333333, \"#9c179e\"], [0.4444444444444444, \"#bd3786\"], [0.5555555555555556, \"#d8576b\"], [0.6666666666666666, \"#ed7953\"], [0.7777777777777778, \"#fb9f3a\"], [0.8888888888888888, \"#fdca26\"], [1.0, \"#f0f921\"]], \"type\": \"histogram2d\"}], \"histogram2dcontour\": [{\"colorbar\": {\"outlinewidth\": 0, \"ticks\": \"\"}, \"colorscale\": [[0.0, \"#0d0887\"], [0.1111111111111111, \"#46039f\"], [0.2222222222222222, \"#7201a8\"], [0.3333333333333333, \"#9c179e\"], [0.4444444444444444, \"#bd3786\"], [0.5555555555555556, \"#d8576b\"], [0.6666666666666666, \"#ed7953\"], [0.7777777777777778, \"#fb9f3a\"], [0.8888888888888888, \"#fdca26\"], [1.0, \"#f0f921\"]], \"type\": \"histogram2dcontour\"}], \"mesh3d\": [{\"colorbar\": {\"outlinewidth\": 0, \"ticks\": \"\"}, \"type\": \"mesh3d\"}], \"parcoords\": [{\"line\": {\"colorbar\": {\"outlinewidth\": 0, \"ticks\": \"\"}}, \"type\": \"parcoords\"}], \"pie\": [{\"automargin\": true, \"type\": \"pie\"}], \"scatter\": [{\"marker\": {\"line\": {\"color\": \"#283442\"}}, \"type\": \"scatter\"}], \"scatter3d\": [{\"line\": {\"colorbar\": {\"outlinewidth\": 0, \"ticks\": \"\"}}, \"marker\": {\"colorbar\": {\"outlinewidth\": 0, \"ticks\": \"\"}}, \"type\": \"scatter3d\"}], \"scattercarpet\": [{\"marker\": {\"colorbar\": {\"outlinewidth\": 0, \"ticks\": \"\"}}, \"type\": \"scattercarpet\"}], \"scattergeo\": [{\"marker\": {\"colorbar\": {\"outlinewidth\": 0, \"ticks\": \"\"}}, \"type\": \"scattergeo\"}], \"scattergl\": [{\"marker\": {\"line\": {\"color\": \"#283442\"}}, \"type\": \"scattergl\"}], \"scattermapbox\": [{\"marker\": {\"colorbar\": {\"outlinewidth\": 0, \"ticks\": \"\"}}, \"type\": \"scattermapbox\"}], \"scatterpolar\": [{\"marker\": {\"colorbar\": {\"outlinewidth\": 0, \"ticks\": \"\"}}, \"type\": \"scatterpolar\"}], \"scatterpolargl\": [{\"marker\": {\"colorbar\": {\"outlinewidth\": 0, \"ticks\": \"\"}}, \"type\": \"scatterpolargl\"}], \"scatterternary\": [{\"marker\": {\"colorbar\": {\"outlinewidth\": 0, \"ticks\": \"\"}}, \"type\": \"scatterternary\"}], \"surface\": [{\"colorbar\": {\"outlinewidth\": 0, \"ticks\": \"\"}, \"colorscale\": [[0.0, \"#0d0887\"], [0.1111111111111111, \"#46039f\"], [0.2222222222222222, \"#7201a8\"], [0.3333333333333333, \"#9c179e\"], [0.4444444444444444, \"#bd3786\"], [0.5555555555555556, \"#d8576b\"], [0.6666666666666666, \"#ed7953\"], [0.7777777777777778, \"#fb9f3a\"], [0.8888888888888888, \"#fdca26\"], [1.0, \"#f0f921\"]], \"type\": \"surface\"}], \"table\": [{\"cells\": {\"fill\": {\"color\": \"#506784\"}, \"line\": {\"color\": \"rgb(17,17,17)\"}}, \"header\": {\"fill\": {\"color\": \"#2a3f5f\"}, \"line\": {\"color\": \"rgb(17,17,17)\"}}, \"type\": \"table\"}]}, \"layout\": {\"annotationdefaults\": {\"arrowcolor\": \"#f2f5fa\", \"arrowhead\": 0, \"arrowwidth\": 1}, \"coloraxis\": {\"colorbar\": {\"outlinewidth\": 0, \"ticks\": \"\"}}, \"colorscale\": {\"diverging\": [[0, \"#8e0152\"], [0.1, \"#c51b7d\"], [0.2, \"#de77ae\"], [0.3, \"#f1b6da\"], [0.4, \"#fde0ef\"], [0.5, \"#f7f7f7\"], [0.6, \"#e6f5d0\"], [0.7, \"#b8e186\"], [0.8, \"#7fbc41\"], [0.9, \"#4d9221\"], [1, \"#276419\"]], \"sequential\": [[0.0, \"#0d0887\"], [0.1111111111111111, \"#46039f\"], [0.2222222222222222, \"#7201a8\"], [0.3333333333333333, \"#9c179e\"], [0.4444444444444444, \"#bd3786\"], [0.5555555555555556, \"#d8576b\"], [0.6666666666666666, \"#ed7953\"], [0.7777777777777778, \"#fb9f3a\"], [0.8888888888888888, \"#fdca26\"], [1.0, \"#f0f921\"]], \"sequentialminus\": [[0.0, \"#0d0887\"], [0.1111111111111111, \"#46039f\"], [0.2222222222222222, \"#7201a8\"], [0.3333333333333333, \"#9c179e\"], [0.4444444444444444, \"#bd3786\"], [0.5555555555555556, \"#d8576b\"], [0.6666666666666666, \"#ed7953\"], [0.7777777777777778, \"#fb9f3a\"], [0.8888888888888888, \"#fdca26\"], [1.0, \"#f0f921\"]]}, \"colorway\": [\"#636efa\", \"#EF553B\", \"#00cc96\", \"#ab63fa\", \"#FFA15A\", \"#19d3f3\", \"#FF6692\", \"#B6E880\", \"#FF97FF\", \"#FECB52\"], \"font\": {\"color\": \"#f2f5fa\"}, \"geo\": {\"bgcolor\": \"rgb(17,17,17)\", \"lakecolor\": \"rgb(17,17,17)\", \"landcolor\": \"rgb(17,17,17)\", \"showlakes\": true, \"showland\": true, \"subunitcolor\": \"#506784\"}, \"hoverlabel\": {\"align\": \"left\"}, \"hovermode\": \"closest\", \"mapbox\": {\"style\": \"dark\"}, \"paper_bgcolor\": \"rgb(17,17,17)\", \"plot_bgcolor\": \"rgb(17,17,17)\", \"polar\": {\"angularaxis\": {\"gridcolor\": \"#506784\", \"linecolor\": \"#506784\", \"ticks\": \"\"}, \"bgcolor\": \"rgb(17,17,17)\", \"radialaxis\": {\"gridcolor\": \"#506784\", \"linecolor\": \"#506784\", \"ticks\": \"\"}}, \"scene\": {\"xaxis\": {\"backgroundcolor\": \"rgb(17,17,17)\", \"gridcolor\": \"#506784\", \"gridwidth\": 2, \"linecolor\": \"#506784\", \"showbackground\": true, \"ticks\": \"\", \"zerolinecolor\": \"#C8D4E3\"}, \"yaxis\": {\"backgroundcolor\": \"rgb(17,17,17)\", \"gridcolor\": \"#506784\", \"gridwidth\": 2, \"linecolor\": \"#506784\", \"showbackground\": true, \"ticks\": \"\", \"zerolinecolor\": \"#C8D4E3\"}, \"zaxis\": {\"backgroundcolor\": \"rgb(17,17,17)\", \"gridcolor\": \"#506784\", \"gridwidth\": 2, \"linecolor\": \"#506784\", \"showbackground\": true, \"ticks\": \"\", \"zerolinecolor\": \"#C8D4E3\"}}, \"shapedefaults\": {\"line\": {\"color\": \"#f2f5fa\"}}, \"sliderdefaults\": {\"bgcolor\": \"#C8D4E3\", \"bordercolor\": \"rgb(17,17,17)\", \"borderwidth\": 1, \"tickwidth\": 0}, \"ternary\": {\"aaxis\": {\"gridcolor\": \"#506784\", \"linecolor\": \"#506784\", \"ticks\": \"\"}, \"baxis\": {\"gridcolor\": \"#506784\", \"linecolor\": \"#506784\", \"ticks\": \"\"}, \"bgcolor\": \"rgb(17,17,17)\", \"caxis\": {\"gridcolor\": \"#506784\", \"linecolor\": \"#506784\", \"ticks\": \"\"}}, \"title\": {\"x\": 0.05}, \"updatemenudefaults\": {\"bgcolor\": \"#506784\", \"borderwidth\": 0}, \"xaxis\": {\"automargin\": true, \"gridcolor\": \"#283442\", \"linecolor\": \"#506784\", \"ticks\": \"\", \"title\": {\"standoff\": 15}, \"zerolinecolor\": \"#283442\", \"zerolinewidth\": 2}, \"yaxis\": {\"automargin\": true, \"gridcolor\": \"#283442\", \"linecolor\": \"#506784\", \"ticks\": \"\", \"title\": {\"standoff\": 15}, \"zerolinecolor\": \"#283442\", \"zerolinewidth\": 2}}}, \"title\": {\"text\": \"Monthly Step Count for each year from 2014 to 2021\"}, \"xaxis\": {\"anchor\": \"y\", \"domain\": [0.0, 1.0], \"title\": {\"text\": \"Month\"}}, \"yaxis\": {\"anchor\": \"x\", \"domain\": [0.0, 1.0], \"title\": {\"text\": \"Number of steps\"}}},\n",
              "                        {\"responsive\": true}\n",
              "                    ).then(function(){\n",
              "                            \n",
              "var gd = document.getElementById('da3ed97c-9aa0-46ab-8624-78bb7f899d73');\n",
              "var x = new MutationObserver(function (mutations, observer) {{\n",
              "        var display = window.getComputedStyle(gd).display;\n",
              "        if (!display || display === 'none') {{\n",
              "            console.log([gd, 'removed!']);\n",
              "            Plotly.purge(gd);\n",
              "            observer.disconnect();\n",
              "        }}\n",
              "}});\n",
              "\n",
              "// Listen for the removal of the full notebook cells\n",
              "var notebookContainer = gd.closest('#notebook-container');\n",
              "if (notebookContainer) {{\n",
              "    x.observe(notebookContainer, {childList: true});\n",
              "}}\n",
              "\n",
              "// Listen for the clearing of the current output cell\n",
              "var outputEl = gd.closest('.output');\n",
              "if (outputEl) {{\n",
              "    x.observe(outputEl, {childList: true});\n",
              "}}\n",
              "\n",
              "                        })\n",
              "                };\n",
              "                \n",
              "            </script>\n",
              "        </div>\n",
              "</body>\n",
              "</html>"
            ]
          },
          "metadata": {}
        }
      ]
    }
  ]
}