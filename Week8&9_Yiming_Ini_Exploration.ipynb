{
  "nbformat": 4,
  "nbformat_minor": 5,
  "metadata": {
    "kernelspec": {
      "display_name": "Python 3",
      "language": "python",
      "name": "python3"
    },
    "language_info": {
      "codemirror_mode": {
        "name": "ipython",
        "version": 3
      },
      "file_extension": ".py",
      "mimetype": "text/x-python",
      "name": "python",
      "nbconvert_exporter": "python",
      "pygments_lexer": "ipython3",
      "version": "3.8.8"
    },
    "colab": {
      "name": "Week8&9-Yiming-Ini_Exploration.ipynb",
      "provenance": [],
      "collapsed_sections": []
    }
  },
  "cells": [
    {
      "cell_type": "markdown",
      "metadata": {
        "id": "28baf66d"
      },
      "source": [
        "# Week8 Mini-Assignment notebook\n",
        "## This notebook is used for the initial data exploration including data cleaning and data wrangling\n",
        "SID:480320449"
      ],
      "id": "28baf66d"
    },
    {
      "cell_type": "markdown",
      "metadata": {
        "id": "63973f6e"
      },
      "source": [
        "Firstly, import necessary libraries for the data analysis. Here, I imported **pandas, NumPy, matplotlib** as they will be enough for this week's exploration. Then import the dataset using the pandas function and named it as rawData."
      ],
      "id": "63973f6e"
    },
    {
      "cell_type": "code",
      "metadata": {
        "id": "2bcca44c"
      },
      "source": [
        "import pandas as pd\n",
        "import numpy as np\n",
        "import matplotlib.pyplot as plt\n",
        "import seaborn as sns"
      ],
      "id": "2bcca44c",
      "execution_count": null,
      "outputs": []
    },
    {
      "cell_type": "code",
      "metadata": {
        "id": "47834f16",
        "colab": {
          "base_uri": "https://localhost:8080/"
        },
        "outputId": "7b6c573c-c990-4a61-8858-3f95fefc9b9d"
      },
      "source": [
        "rawData = pd.read_csv('person1-step-data.csv',error_bad_lines=False)\n",
        "rawData"
      ],
      "id": "47834f16",
      "execution_count": null,
      "outputs": [
        {
          "output_type": "execute_result",
          "data": {
            "text/html": [
              "<div>\n",
              "<style scoped>\n",
              "    .dataframe tbody tr th:only-of-type {\n",
              "        vertical-align: middle;\n",
              "    }\n",
              "\n",
              "    .dataframe tbody tr th {\n",
              "        vertical-align: top;\n",
              "    }\n",
              "\n",
              "    .dataframe thead th {\n",
              "        text-align: right;\n",
              "    }\n",
              "</style>\n",
              "<table border=\"1\" class=\"dataframe\">\n",
              "  <thead>\n",
              "    <tr style=\"text-align: right;\">\n",
              "      <th></th>\n",
              "      <th>Source</th>\n",
              "      <th>Date</th>\n",
              "      <th>Hour</th>\n",
              "      <th>Count</th>\n",
              "    </tr>\n",
              "  </thead>\n",
              "  <tbody>\n",
              "    <tr>\n",
              "      <th>0</th>\n",
              "      <td>Person1 iPhone SE</td>\n",
              "      <td>2014-12-07</td>\n",
              "      <td>8</td>\n",
              "      <td>13</td>\n",
              "    </tr>\n",
              "    <tr>\n",
              "      <th>1</th>\n",
              "      <td>Person1 iPhone SE</td>\n",
              "      <td>2014-12-07</td>\n",
              "      <td>8</td>\n",
              "      <td>13</td>\n",
              "    </tr>\n",
              "    <tr>\n",
              "      <th>2</th>\n",
              "      <td>Person1 iPhone SE</td>\n",
              "      <td>2014-12-07</td>\n",
              "      <td>8</td>\n",
              "      <td>1</td>\n",
              "    </tr>\n",
              "    <tr>\n",
              "      <th>3</th>\n",
              "      <td>Person1 iPhone SE</td>\n",
              "      <td>2014-12-07</td>\n",
              "      <td>8</td>\n",
              "      <td>9</td>\n",
              "    </tr>\n",
              "    <tr>\n",
              "      <th>4</th>\n",
              "      <td>Person1 iPhone SE</td>\n",
              "      <td>2014-12-07</td>\n",
              "      <td>8</td>\n",
              "      <td>15</td>\n",
              "    </tr>\n",
              "    <tr>\n",
              "      <th>...</th>\n",
              "      <td>...</td>\n",
              "      <td>...</td>\n",
              "      <td>...</td>\n",
              "      <td>...</td>\n",
              "    </tr>\n",
              "    <tr>\n",
              "      <th>183782</th>\n",
              "      <td>Person1 iPhone SE</td>\n",
              "      <td>2021-09-22</td>\n",
              "      <td>17</td>\n",
              "      <td>1241</td>\n",
              "    </tr>\n",
              "    <tr>\n",
              "      <th>183783</th>\n",
              "      <td>Person1 iPhone SE</td>\n",
              "      <td>2021-09-22</td>\n",
              "      <td>17</td>\n",
              "      <td>1212</td>\n",
              "    </tr>\n",
              "    <tr>\n",
              "      <th>183784</th>\n",
              "      <td>Person1 iPhone SE</td>\n",
              "      <td>2021-09-22</td>\n",
              "      <td>18</td>\n",
              "      <td>808</td>\n",
              "    </tr>\n",
              "    <tr>\n",
              "      <th>183785</th>\n",
              "      <td>Person1 iPhone SE</td>\n",
              "      <td>2021-09-22</td>\n",
              "      <td>18</td>\n",
              "      <td>392</td>\n",
              "    </tr>\n",
              "    <tr>\n",
              "      <th>183786</th>\n",
              "      <td>Person1 iPhone SE</td>\n",
              "      <td>2021-09-22</td>\n",
              "      <td>18</td>\n",
              "      <td>34</td>\n",
              "    </tr>\n",
              "  </tbody>\n",
              "</table>\n",
              "<p>183787 rows × 4 columns</p>\n",
              "</div>"
            ],
            "text/plain": [
              "                   Source        Date  Hour  Count\n",
              "0       Person1 iPhone SE  2014-12-07     8     13\n",
              "1       Person1 iPhone SE  2014-12-07     8     13\n",
              "2       Person1 iPhone SE  2014-12-07     8      1\n",
              "3       Person1 iPhone SE  2014-12-07     8      9\n",
              "4       Person1 iPhone SE  2014-12-07     8     15\n",
              "...                   ...         ...   ...    ...\n",
              "183782  Person1 iPhone SE  2021-09-22    17   1241\n",
              "183783  Person1 iPhone SE  2021-09-22    17   1212\n",
              "183784  Person1 iPhone SE  2021-09-22    18    808\n",
              "183785  Person1 iPhone SE  2021-09-22    18    392\n",
              "183786  Person1 iPhone SE  2021-09-22    18     34\n",
              "\n",
              "[183787 rows x 4 columns]"
            ]
          },
          "metadata": {},
          "execution_count": 345
        }
      ]
    },
    {
      "cell_type": "markdown",
      "metadata": {
        "id": "b2ce3576"
      },
      "source": [
        "As we can see at the above output, there are 183787 rows and 4 columns in this dataset. While the raw data need to be rearranged as there are multiple rows for one day and the step count for one day is scattered among those rows and need to be group by dates."
      ],
      "id": "b2ce3576"
    },
    {
      "cell_type": "code",
      "metadata": {
        "id": "0be45a2c",
        "colab": {
          "base_uri": "https://localhost:8080/"
        },
        "outputId": "4128005d-29a7-41ed-cd16-28ac9851271d"
      },
      "source": [
        "print(rawData['Hour'].max())\n",
        "print(rawData['Hour'].min())"
      ],
      "id": "0be45a2c",
      "execution_count": null,
      "outputs": [
        {
          "output_type": "stream",
          "name": "stdout",
          "text": [
            "23\n",
            "0\n"
          ]
        }
      ]
    },
    {
      "cell_type": "markdown",
      "metadata": {
        "id": "b2c04cf5"
      },
      "source": [
        "The **Hour** column represents the hour interval within a 24-hour time. It has a minimum and maximum value of 0 and 23 respectively."
      ],
      "id": "b2c04cf5"
    },
    {
      "cell_type": "markdown",
      "metadata": {
        "id": "c8557bcb"
      },
      "source": [
        "Now, I start to group the dataset by __*Date*__ and __*Hour*__ to show how many steps did person 1 walked in each time interval within a day. As we can see, the following dataset now categorizes the data by dates and hours in ascending order."
      ],
      "id": "c8557bcb"
    },
    {
      "cell_type": "code",
      "metadata": {
        "id": "3291fda0",
        "colab": {
          "base_uri": "https://localhost:8080/"
        },
        "outputId": "abc923b3-eeb4-4826-8ece-0ffab2ab9f44"
      },
      "source": [
        "Data_Hour = rawData.groupby(['Date','Hour']).sum()\n",
        "Data_Hour.index\n",
        "Data_Hour.sort_values(by=['Date','Hour'], ascending=True)"
      ],
      "id": "3291fda0",
      "execution_count": null,
      "outputs": [
        {
          "output_type": "execute_result",
          "data": {
            "text/html": [
              "<div>\n",
              "<style scoped>\n",
              "    .dataframe tbody tr th:only-of-type {\n",
              "        vertical-align: middle;\n",
              "    }\n",
              "\n",
              "    .dataframe tbody tr th {\n",
              "        vertical-align: top;\n",
              "    }\n",
              "\n",
              "    .dataframe thead th {\n",
              "        text-align: right;\n",
              "    }\n",
              "</style>\n",
              "<table border=\"1\" class=\"dataframe\">\n",
              "  <thead>\n",
              "    <tr style=\"text-align: right;\">\n",
              "      <th></th>\n",
              "      <th></th>\n",
              "      <th>Count</th>\n",
              "    </tr>\n",
              "    <tr>\n",
              "      <th>Date</th>\n",
              "      <th>Hour</th>\n",
              "      <th></th>\n",
              "    </tr>\n",
              "  </thead>\n",
              "  <tbody>\n",
              "    <tr>\n",
              "      <th rowspan=\"5\" valign=\"top\">2014-12-07</th>\n",
              "      <th>8</th>\n",
              "      <td>941</td>\n",
              "    </tr>\n",
              "    <tr>\n",
              "      <th>9</th>\n",
              "      <td>408</td>\n",
              "    </tr>\n",
              "    <tr>\n",
              "      <th>10</th>\n",
              "      <td>157</td>\n",
              "    </tr>\n",
              "    <tr>\n",
              "      <th>11</th>\n",
              "      <td>1017</td>\n",
              "    </tr>\n",
              "    <tr>\n",
              "      <th>14</th>\n",
              "      <td>137</td>\n",
              "    </tr>\n",
              "    <tr>\n",
              "      <th>...</th>\n",
              "      <th>...</th>\n",
              "      <td>...</td>\n",
              "    </tr>\n",
              "    <tr>\n",
              "      <th rowspan=\"5\" valign=\"top\">2021-09-22</th>\n",
              "      <th>12</th>\n",
              "      <td>305</td>\n",
              "    </tr>\n",
              "    <tr>\n",
              "      <th>13</th>\n",
              "      <td>237</td>\n",
              "    </tr>\n",
              "    <tr>\n",
              "      <th>14</th>\n",
              "      <td>9</td>\n",
              "    </tr>\n",
              "    <tr>\n",
              "      <th>17</th>\n",
              "      <td>3560</td>\n",
              "    </tr>\n",
              "    <tr>\n",
              "      <th>18</th>\n",
              "      <td>1234</td>\n",
              "    </tr>\n",
              "  </tbody>\n",
              "</table>\n",
              "<p>19889 rows × 1 columns</p>\n",
              "</div>"
            ],
            "text/plain": [
              "                 Count\n",
              "Date       Hour       \n",
              "2014-12-07 8       941\n",
              "           9       408\n",
              "           10      157\n",
              "           11     1017\n",
              "           14      137\n",
              "...                ...\n",
              "2021-09-22 12      305\n",
              "           13      237\n",
              "           14        9\n",
              "           17     3560\n",
              "           18     1234\n",
              "\n",
              "[19889 rows x 1 columns]"
            ]
          },
          "metadata": {},
          "execution_count": 347
        }
      ]
    },
    {
      "cell_type": "code",
      "metadata": {
        "colab": {
          "base_uri": "https://localhost:8080/"
        },
        "id": "TTzZvOqRbmBM",
        "outputId": "b588a6db-8234-46a8-eba2-8a48e43e7ad9"
      },
      "source": [
        "Data_Hour.info()"
      ],
      "id": "TTzZvOqRbmBM",
      "execution_count": null,
      "outputs": [
        {
          "output_type": "stream",
          "name": "stdout",
          "text": [
            "<class 'pandas.core.frame.DataFrame'>\n",
            "MultiIndex: 19889 entries, ('2014-12-07', 8) to ('2021-09-22', 18)\n",
            "Data columns (total 1 columns):\n",
            " #   Column  Non-Null Count  Dtype\n",
            "---  ------  --------------  -----\n",
            " 0   Count   19889 non-null  int64\n",
            "dtypes: int64(1)\n",
            "memory usage: 231.9+ KB\n"
          ]
        }
      ]
    },
    {
      "cell_type": "markdown",
      "metadata": {
        "id": "00d9e3c1"
      },
      "source": [
        "While the above dataset is only recording the step count in each hour within a day. I would like to see how many total steps count person 1 has in a day. So, I just simply categorize the dataset again but only by __*Date*__ and use the aggregate function to aggregate them."
      ],
      "id": "00d9e3c1"
    },
    {
      "cell_type": "code",
      "metadata": {
        "id": "d01720a8"
      },
      "source": [
        "rawData['Hour'] = rawData['Hour'].astype(object)"
      ],
      "id": "d01720a8",
      "execution_count": null,
      "outputs": []
    },
    {
      "cell_type": "code",
      "metadata": {
        "id": "d2144614",
        "colab": {
          "base_uri": "https://localhost:8080/"
        },
        "outputId": "66df0120-a8ca-4ddc-a4ff-80b353e0688c"
      },
      "source": [
        "Data_Day= rawData.groupby('Date').agg('sum')\n",
        "Data_Day"
      ],
      "id": "d2144614",
      "execution_count": null,
      "outputs": [
        {
          "output_type": "execute_result",
          "data": {
            "text/html": [
              "<div>\n",
              "<style scoped>\n",
              "    .dataframe tbody tr th:only-of-type {\n",
              "        vertical-align: middle;\n",
              "    }\n",
              "\n",
              "    .dataframe tbody tr th {\n",
              "        vertical-align: top;\n",
              "    }\n",
              "\n",
              "    .dataframe thead th {\n",
              "        text-align: right;\n",
              "    }\n",
              "</style>\n",
              "<table border=\"1\" class=\"dataframe\">\n",
              "  <thead>\n",
              "    <tr style=\"text-align: right;\">\n",
              "      <th></th>\n",
              "      <th>Count</th>\n",
              "    </tr>\n",
              "    <tr>\n",
              "      <th>Date</th>\n",
              "      <th></th>\n",
              "    </tr>\n",
              "  </thead>\n",
              "  <tbody>\n",
              "    <tr>\n",
              "      <th>2014-12-07</th>\n",
              "      <td>2693</td>\n",
              "    </tr>\n",
              "    <tr>\n",
              "      <th>2014-12-08</th>\n",
              "      <td>6567</td>\n",
              "    </tr>\n",
              "    <tr>\n",
              "      <th>2014-12-09</th>\n",
              "      <td>6879</td>\n",
              "    </tr>\n",
              "    <tr>\n",
              "      <th>2014-12-10</th>\n",
              "      <td>7845</td>\n",
              "    </tr>\n",
              "    <tr>\n",
              "      <th>2014-12-11</th>\n",
              "      <td>916</td>\n",
              "    </tr>\n",
              "    <tr>\n",
              "      <th>...</th>\n",
              "      <td>...</td>\n",
              "    </tr>\n",
              "    <tr>\n",
              "      <th>2021-09-18</th>\n",
              "      <td>11572</td>\n",
              "    </tr>\n",
              "    <tr>\n",
              "      <th>2021-09-19</th>\n",
              "      <td>10789</td>\n",
              "    </tr>\n",
              "    <tr>\n",
              "      <th>2021-09-20</th>\n",
              "      <td>8800</td>\n",
              "    </tr>\n",
              "    <tr>\n",
              "      <th>2021-09-21</th>\n",
              "      <td>17071</td>\n",
              "    </tr>\n",
              "    <tr>\n",
              "      <th>2021-09-22</th>\n",
              "      <td>10220</td>\n",
              "    </tr>\n",
              "  </tbody>\n",
              "</table>\n",
              "<p>2295 rows × 1 columns</p>\n",
              "</div>"
            ],
            "text/plain": [
              "            Count\n",
              "Date             \n",
              "2014-12-07   2693\n",
              "2014-12-08   6567\n",
              "2014-12-09   6879\n",
              "2014-12-10   7845\n",
              "2014-12-11    916\n",
              "...           ...\n",
              "2021-09-18  11572\n",
              "2021-09-19  10789\n",
              "2021-09-20   8800\n",
              "2021-09-21  17071\n",
              "2021-09-22  10220\n",
              "\n",
              "[2295 rows x 1 columns]"
            ]
          },
          "metadata": {},
          "execution_count": 350
        }
      ]
    },
    {
      "cell_type": "markdown",
      "metadata": {
        "id": "a2b22b1c"
      },
      "source": [
        "Using **groupby** function to group the whole dataset by attribute __*Date*__. Now the step counts for the same day are merged into one row and they represent the total step count within a day. Then I plot the data into a graph to visualize the whole dataset. After plotting the barplot, we can see that there is an outlier that has a one-day step count far more than the rest of the dataset."
      ],
      "id": "a2b22b1c"
    },
    {
      "cell_type": "code",
      "metadata": {
        "id": "baf793e0",
        "colab": {
          "base_uri": "https://localhost:8080/"
        },
        "outputId": "614af221-cbed-4d49-cfc9-1b73473fbbd6"
      },
      "source": [
        "Data_Day.plot()"
      ],
      "id": "baf793e0",
      "execution_count": null,
      "outputs": [
        {
          "output_type": "execute_result",
          "data": {
            "text/plain": [
              "<matplotlib.axes._subplots.AxesSubplot at 0x7f361d623850>"
            ]
          },
          "metadata": {},
          "execution_count": 351
        },
        {
          "output_type": "display_data",
          "data": {
            "image/png": "[encoded data removed]",
            "text/plain": [
              "<Figure size 432x288 with 1 Axes>"
            ]
          },
          "metadata": {
            "needs_background": "light"
          }
        }
      ]
    },
    {
      "cell_type": "code",
      "metadata": {
        "id": "c0da01fc",
        "colab": {
          "base_uri": "https://localhost:8080/"
        },
        "outputId": "a524f892-69dd-4a96-8c71-64d9611bfd6d"
      },
      "source": [
        "Data_Day['Count'].max()"
      ],
      "id": "c0da01fc",
      "execution_count": null,
      "outputs": [
        {
          "output_type": "execute_result",
          "data": {
            "text/plain": [
              "88821"
            ]
          },
          "metadata": {},
          "execution_count": 352
        }
      ]
    },
    {
      "cell_type": "code",
      "metadata": {
        "id": "33b6109d",
        "colab": {
          "base_uri": "https://localhost:8080/"
        },
        "outputId": "454ce964-405f-4a1a-b1a2-a521b07d2be7"
      },
      "source": [
        "Data_Day.loc[Data_Day['Count'] == 88821]"
      ],
      "id": "33b6109d",
      "execution_count": null,
      "outputs": [
        {
          "output_type": "execute_result",
          "data": {
            "text/html": [
              "<div>\n",
              "<style scoped>\n",
              "    .dataframe tbody tr th:only-of-type {\n",
              "        vertical-align: middle;\n",
              "    }\n",
              "\n",
              "    .dataframe tbody tr th {\n",
              "        vertical-align: top;\n",
              "    }\n",
              "\n",
              "    .dataframe thead th {\n",
              "        text-align: right;\n",
              "    }\n",
              "</style>\n",
              "<table border=\"1\" class=\"dataframe\">\n",
              "  <thead>\n",
              "    <tr style=\"text-align: right;\">\n",
              "      <th></th>\n",
              "      <th>Count</th>\n",
              "    </tr>\n",
              "    <tr>\n",
              "      <th>Date</th>\n",
              "      <th></th>\n",
              "    </tr>\n",
              "  </thead>\n",
              "  <tbody>\n",
              "    <tr>\n",
              "      <th>2018-11-08</th>\n",
              "      <td>88821</td>\n",
              "    </tr>\n",
              "  </tbody>\n",
              "</table>\n",
              "</div>"
            ],
            "text/plain": [
              "            Count\n",
              "Date             \n",
              "2018-11-08  88821"
            ]
          },
          "metadata": {},
          "execution_count": 353
        }
      ]
    },
    {
      "cell_type": "markdown",
      "metadata": {
        "id": "33ab63b7"
      },
      "source": [
        "After running the above code, I found that **2018-11-08** has a step count of 88821. I decide to drop this row as this is not making sense for a human to walk 80000+ steps within a day."
      ],
      "id": "33ab63b7"
    },
    {
      "cell_type": "code",
      "metadata": {
        "id": "be8397c5"
      },
      "source": [
        "Data_Day = Data_Day.drop('2018-11-08')\n",
        "Data_Hour = Data_Hour.drop('2018-11-08')"
      ],
      "id": "be8397c5",
      "execution_count": null,
      "outputs": []
    },
    {
      "cell_type": "code",
      "metadata": {
        "id": "6a669523",
        "colab": {
          "base_uri": "https://localhost:8080/"
        },
        "outputId": "3c3fcd58-d3be-41b5-dba8-2d66cc4971b3"
      },
      "source": [
        "print(Data_Day['Count'].max())\n",
        "print(Data_Hour['Count'].max())"
      ],
      "id": "6a669523",
      "execution_count": null,
      "outputs": [
        {
          "output_type": "stream",
          "name": "stdout",
          "text": [
            "58726\n",
            "58726\n"
          ]
        }
      ]
    },
    {
      "cell_type": "code",
      "metadata": {
        "id": "d34fc58f",
        "colab": {
          "base_uri": "https://localhost:8080/"
        },
        "outputId": "f3e965cb-6ee6-4fe9-dba2-bb450d3b1d47"
      },
      "source": [
        "Data_Day.plot(kind='line')"
      ],
      "id": "d34fc58f",
      "execution_count": null,
      "outputs": [
        {
          "output_type": "execute_result",
          "data": {
            "text/plain": [
              "<matplotlib.axes._subplots.AxesSubplot at 0x7f361df19a90>"
            ]
          },
          "metadata": {},
          "execution_count": 356
        },
        {
          "output_type": "display_data",
          "data": {
            "image/png": "[encoded data removed]",
            "text/plain": [
              "<Figure size 432x288 with 1 Axes>"
            ]
          },
          "metadata": {
            "needs_background": "light"
          }
        }
      ]
    },
    {
      "cell_type": "code",
      "metadata": {
        "id": "290938b6",
        "colab": {
          "base_uri": "https://localhost:8080/"
        },
        "outputId": "e7f03d4a-515e-414a-8daf-f2f5e54a8bc0"
      },
      "source": [
        "fig, ax = plt.subplots(figsize = (8,10))\n",
        "Data_Day.boxplot()"
      ],
      "id": "290938b6",
      "execution_count": null,
      "outputs": [
        {
          "output_type": "execute_result",
          "data": {
            "text/plain": [
              "<matplotlib.axes._subplots.AxesSubplot at 0x7f361d55f6d0>"
            ]
          },
          "metadata": {},
          "execution_count": 357
        },
        {
          "output_type": "display_data",
          "data": {
            "image/png": "[encoded data removed]",
            "text/plain": [
              "<Figure size 576x720 with 1 Axes>"
            ]
          },
          "metadata": {
            "needs_background": "light"
          }
        }
      ]
    },
    {
      "cell_type": "markdown",
      "metadata": {
        "id": "7d4bde24"
      },
      "source": [
        "While the data still has some issues as we can see from the above graph, there are multiple days with step counts over 20000. Which can also be considered as abnormal as for normal people, the daily step wouldn't be that much. This problem needs to be discussed in the next group meeting and find a proper solution."
      ],
      "id": "7d4bde24"
    },
    {
      "cell_type": "markdown",
      "metadata": {
        "id": "f9cc05b7"
      },
      "source": [
        "Then I also try to merge these two datasets into one for future analysis to be easy. However, I've encountered a issue that the __*Hour*__ column cannot be displayed properly. This issue also need to be addressed in the future."
      ],
      "id": "f9cc05b7"
    },
    {
      "cell_type": "code",
      "metadata": {
        "id": "00fce23b"
      },
      "source": [
        "#Data_merged = pd.merge(Data_Hour, Data_Day, how=\"left\", on=[\"Date\"])\n",
        "#Data_merged.rename(columns={'Count_x':'Count in each hour', 'Count_y':'Total count within a day'})\n",
        "#Data_merge['count_y']=Data_merge['Count in each hour']\n",
        "#Data.join(Data1.set_index(\"Date\"), how = \"left\", on=\"Date\")"
      ],
      "id": "00fce23b",
      "execution_count": null,
      "outputs": []
    },
    {
      "cell_type": "markdown",
      "metadata": {
        "id": "Et77NlMj8Ns6"
      },
      "source": [
        "# Week 9 Mini-Assignment notebook"
      ],
      "id": "Et77NlMj8Ns6"
    },
    {
      "cell_type": "markdown",
      "metadata": {
        "id": "6aEYIxMT486p"
      },
      "source": [
        "As the driving question for our group is \"**Was I more active in the last 12 months than the 12 months before that?**\", I decide to analyze the monthly average step counts for each year from 2014 to 2021 to see if person 1 is more active in the last 12 months than the 12 months before that."
      ],
      "id": "6aEYIxMT486p"
    },
    {
      "cell_type": "markdown",
      "metadata": {
        "id": "0v_4DkEB6gQM"
      },
      "source": [
        "The first step is to reorganize the raw data and categorize step counts by years. Before reorganizing, we need to check if the data type of the column **Date** is \"_**DateTime**_\". Otherwise, we are unable to use the \"**groupby**\" function on the **Date** attribute."
      ],
      "id": "0v_4DkEB6gQM"
    },
    {
      "cell_type": "code",
      "metadata": {
        "id": "5kHa1zQ58uxP",
        "colab": {
          "base_uri": "https://localhost:8080/"
        },
        "outputId": "02d45752-144a-4564-8bc5-9cc8f7df5f0b"
      },
      "source": [
        "rawData.dtypes"
      ],
      "id": "5kHa1zQ58uxP",
      "execution_count": null,
      "outputs": [
        {
          "output_type": "execute_result",
          "data": {
            "text/plain": [
              "Source    object\n",
              "Date      object\n",
              "Hour      object\n",
              "Count      int64\n",
              "dtype: object"
            ]
          },
          "metadata": {},
          "execution_count": 359
        }
      ]
    },
    {
      "cell_type": "markdown",
      "metadata": {
        "id": "tPBM0fM-9cVT"
      },
      "source": [
        "After checking the data types of each column in the raw data, I found that the type of  _**Date**_ column is \"object\" instead of \"DateTime\". The first step is to transform the object type into **\"DateTime\"**."
      ],
      "id": "tPBM0fM-9cVT"
    },
    {
      "cell_type": "code",
      "metadata": {
        "id": "e5i_POo59zPn",
        "colab": {
          "base_uri": "https://localhost:8080/"
        },
        "outputId": "258f013d-3411-4c24-ec72-469be7932d27"
      },
      "source": [
        "rawData['Date'] = pd.to_datetime(rawData['Date'])\n",
        "rawData.dtypes"
      ],
      "id": "e5i_POo59zPn",
      "execution_count": null,
      "outputs": [
        {
          "output_type": "execute_result",
          "data": {
            "text/plain": [
              "Source            object\n",
              "Date      datetime64[ns]\n",
              "Hour              object\n",
              "Count              int64\n",
              "dtype: object"
            ]
          },
          "metadata": {},
          "execution_count": 360
        }
      ]
    },
    {
      "cell_type": "markdown",
      "metadata": {
        "id": "XJ4XjtOu-VGr"
      },
      "source": [
        "Now the type of the _**Date**_ column has been transformed into **\"DateTime\"**. Then we can start to use \"**groupby**\" function to reorganize the dataset. And I create a new data frame to store the total step counts of person 1 for each year."
      ],
      "id": "XJ4XjtOu-VGr"
    },
    {
      "cell_type": "code",
      "metadata": {
        "id": "yFl6AcdL6XP2",
        "colab": {
          "base_uri": "https://localhost:8080/",
          "height": 328
        },
        "outputId": "9512e9d6-12f0-4bf2-f0cf-b3bbd23f953f"
      },
      "source": [
        "Data_yearTotal = rawData.groupby(rawData.Date.dt.year).sum()\n",
        "Data_yearTotal"
      ],
      "id": "yFl6AcdL6XP2",
      "execution_count": null,
      "outputs": [
        {
          "output_type": "execute_result",
          "data": {
            "text/html": [
              "<div>\n",
              "<style scoped>\n",
              "    .dataframe tbody tr th:only-of-type {\n",
              "        vertical-align: middle;\n",
              "    }\n",
              "\n",
              "    .dataframe tbody tr th {\n",
              "        vertical-align: top;\n",
              "    }\n",
              "\n",
              "    .dataframe thead th {\n",
              "        text-align: right;\n",
              "    }\n",
              "</style>\n",
              "<table border=\"1\" class=\"dataframe\">\n",
              "  <thead>\n",
              "    <tr style=\"text-align: right;\">\n",
              "      <th></th>\n",
              "      <th>Count</th>\n",
              "    </tr>\n",
              "    <tr>\n",
              "      <th>Date</th>\n",
              "      <th></th>\n",
              "    </tr>\n",
              "  </thead>\n",
              "  <tbody>\n",
              "    <tr>\n",
              "      <th>2014</th>\n",
              "      <td>111590</td>\n",
              "    </tr>\n",
              "    <tr>\n",
              "      <th>2015</th>\n",
              "      <td>1582971</td>\n",
              "    </tr>\n",
              "    <tr>\n",
              "      <th>2016</th>\n",
              "      <td>1742364</td>\n",
              "    </tr>\n",
              "    <tr>\n",
              "      <th>2017</th>\n",
              "      <td>1800474</td>\n",
              "    </tr>\n",
              "    <tr>\n",
              "      <th>2018</th>\n",
              "      <td>2339228</td>\n",
              "    </tr>\n",
              "    <tr>\n",
              "      <th>2019</th>\n",
              "      <td>2824389</td>\n",
              "    </tr>\n",
              "    <tr>\n",
              "      <th>2020</th>\n",
              "      <td>1239702</td>\n",
              "    </tr>\n",
              "    <tr>\n",
              "      <th>2021</th>\n",
              "      <td>3023933</td>\n",
              "    </tr>\n",
              "  </tbody>\n",
              "</table>\n",
              "</div>"
            ],
            "text/plain": [
              "        Count\n",
              "Date         \n",
              "2014   111590\n",
              "2015  1582971\n",
              "2016  1742364\n",
              "2017  1800474\n",
              "2018  2339228\n",
              "2019  2824389\n",
              "2020  1239702\n",
              "2021  3023933"
            ]
          },
          "metadata": {},
          "execution_count": 361
        }
      ]
    },
    {
      "cell_type": "code",
      "metadata": {
        "id": "0YJyiG8ZC9Aw",
        "colab": {
          "base_uri": "https://localhost:8080/"
        },
        "outputId": "0debcd93-843f-496e-a63d-ad315c72bb04"
      },
      "source": [
        "Data_yearTotal.dtypes"
      ],
      "id": "0YJyiG8ZC9Aw",
      "execution_count": null,
      "outputs": [
        {
          "output_type": "execute_result",
          "data": {
            "text/plain": [
              "Count    int64\n",
              "dtype: object"
            ]
          },
          "metadata": {},
          "execution_count": 362
        }
      ]
    },
    {
      "cell_type": "markdown",
      "metadata": {
        "id": "0jAIwhnjOX0-"
      },
      "source": [
        "Before plotting the graph and analyzing it, I need to remove the step count of an outlier in the dataset that I discovered previously to make the new dataset consistent with the others. As we know that outlier is the step count of 88821 steps on **2018-11-08**, we need to use the total step counts in 2018 minus the step counts on that specific day."
      ],
      "id": "0jAIwhnjOX0-"
    },
    {
      "cell_type": "code",
      "metadata": {
        "id": "tFZdlOj1Og6i",
        "colab": {
          "base_uri": "https://localhost:8080/",
          "height": 328
        },
        "outputId": "20094d90-5556-4ff5-e23c-ef840e1f5be0"
      },
      "source": [
        "Data_yearTotal.at[2018,'Count']= 2339228-88821\n",
        "Data_yearTotal"
      ],
      "id": "tFZdlOj1Og6i",
      "execution_count": null,
      "outputs": [
        {
          "output_type": "execute_result",
          "data": {
            "text/html": [
              "<div>\n",
              "<style scoped>\n",
              "    .dataframe tbody tr th:only-of-type {\n",
              "        vertical-align: middle;\n",
              "    }\n",
              "\n",
              "    .dataframe tbody tr th {\n",
              "        vertical-align: top;\n",
              "    }\n",
              "\n",
              "    .dataframe thead th {\n",
              "        text-align: right;\n",
              "    }\n",
              "</style>\n",
              "<table border=\"1\" class=\"dataframe\">\n",
              "  <thead>\n",
              "    <tr style=\"text-align: right;\">\n",
              "      <th></th>\n",
              "      <th>Count</th>\n",
              "    </tr>\n",
              "    <tr>\n",
              "      <th>Date</th>\n",
              "      <th></th>\n",
              "    </tr>\n",
              "  </thead>\n",
              "  <tbody>\n",
              "    <tr>\n",
              "      <th>2014</th>\n",
              "      <td>111590</td>\n",
              "    </tr>\n",
              "    <tr>\n",
              "      <th>2015</th>\n",
              "      <td>1582971</td>\n",
              "    </tr>\n",
              "    <tr>\n",
              "      <th>2016</th>\n",
              "      <td>1742364</td>\n",
              "    </tr>\n",
              "    <tr>\n",
              "      <th>2017</th>\n",
              "      <td>1800474</td>\n",
              "    </tr>\n",
              "    <tr>\n",
              "      <th>2018</th>\n",
              "      <td>2250407</td>\n",
              "    </tr>\n",
              "    <tr>\n",
              "      <th>2019</th>\n",
              "      <td>2824389</td>\n",
              "    </tr>\n",
              "    <tr>\n",
              "      <th>2020</th>\n",
              "      <td>1239702</td>\n",
              "    </tr>\n",
              "    <tr>\n",
              "      <th>2021</th>\n",
              "      <td>3023933</td>\n",
              "    </tr>\n",
              "  </tbody>\n",
              "</table>\n",
              "</div>"
            ],
            "text/plain": [
              "        Count\n",
              "Date         \n",
              "2014   111590\n",
              "2015  1582971\n",
              "2016  1742364\n",
              "2017  1800474\n",
              "2018  2250407\n",
              "2019  2824389\n",
              "2020  1239702\n",
              "2021  3023933"
            ]
          },
          "metadata": {},
          "execution_count": 363
        }
      ]
    },
    {
      "cell_type": "markdown",
      "metadata": {
        "id": "4r4hTkhQP-I8"
      },
      "source": [
        "Now the total step count of 2018 has been updated to **2250407**. While the data for 2014 only contains the data in December of 2014. The step count before December of 2014 is missing. So in this exploration, I decide to mutiple the step count of December of 2014 by **12** to simulate the total step count in 2014."
      ],
      "id": "4r4hTkhQP-I8"
    },
    {
      "cell_type": "code",
      "metadata": {
        "colab": {
          "base_uri": "https://localhost:8080/",
          "height": 328
        },
        "id": "LTlvFHy8itOj",
        "outputId": "d8ca264a-8e99-4676-9f6f-60551e539723"
      },
      "source": [
        "Data_yearTotal.at[2014,'Count']= 111590*12\n",
        "Data_yearTotal"
      ],
      "id": "LTlvFHy8itOj",
      "execution_count": null,
      "outputs": [
        {
          "output_type": "execute_result",
          "data": {
            "text/html": [
              "<div>\n",
              "<style scoped>\n",
              "    .dataframe tbody tr th:only-of-type {\n",
              "        vertical-align: middle;\n",
              "    }\n",
              "\n",
              "    .dataframe tbody tr th {\n",
              "        vertical-align: top;\n",
              "    }\n",
              "\n",
              "    .dataframe thead th {\n",
              "        text-align: right;\n",
              "    }\n",
              "</style>\n",
              "<table border=\"1\" class=\"dataframe\">\n",
              "  <thead>\n",
              "    <tr style=\"text-align: right;\">\n",
              "      <th></th>\n",
              "      <th>Count</th>\n",
              "    </tr>\n",
              "    <tr>\n",
              "      <th>Date</th>\n",
              "      <th></th>\n",
              "    </tr>\n",
              "  </thead>\n",
              "  <tbody>\n",
              "    <tr>\n",
              "      <th>2014</th>\n",
              "      <td>1339080</td>\n",
              "    </tr>\n",
              "    <tr>\n",
              "      <th>2015</th>\n",
              "      <td>1582971</td>\n",
              "    </tr>\n",
              "    <tr>\n",
              "      <th>2016</th>\n",
              "      <td>1742364</td>\n",
              "    </tr>\n",
              "    <tr>\n",
              "      <th>2017</th>\n",
              "      <td>1800474</td>\n",
              "    </tr>\n",
              "    <tr>\n",
              "      <th>2018</th>\n",
              "      <td>2250407</td>\n",
              "    </tr>\n",
              "    <tr>\n",
              "      <th>2019</th>\n",
              "      <td>2824389</td>\n",
              "    </tr>\n",
              "    <tr>\n",
              "      <th>2020</th>\n",
              "      <td>1239702</td>\n",
              "    </tr>\n",
              "    <tr>\n",
              "      <th>2021</th>\n",
              "      <td>3023933</td>\n",
              "    </tr>\n",
              "  </tbody>\n",
              "</table>\n",
              "</div>"
            ],
            "text/plain": [
              "        Count\n",
              "Date         \n",
              "2014  1339080\n",
              "2015  1582971\n",
              "2016  1742364\n",
              "2017  1800474\n",
              "2018  2250407\n",
              "2019  2824389\n",
              "2020  1239702\n",
              "2021  3023933"
            ]
          },
          "metadata": {},
          "execution_count": 364
        }
      ]
    },
    {
      "cell_type": "markdown",
      "metadata": {
        "id": "Za4z2jr5l94Q"
      },
      "source": [
        "Now, I can calculate the monthly average step counts for each year and start to visualize the data."
      ],
      "id": "Za4z2jr5l94Q"
    },
    {
      "cell_type": "code",
      "metadata": {
        "id": "P8-XcYjeQR-K",
        "colab": {
          "base_uri": "https://localhost:8080/",
          "height": 328
        },
        "outputId": "b0322d13-fe1e-45a4-9294-1534fb042968"
      },
      "source": [
        "Data_yearAvg = Data_yearTotal\n",
        "Data_yearAvg['Count']=Data_yearAvg['Count']/12\n",
        "Data_yearAvg['Count']=Data_yearAvg['Count'].astype(int)\n",
        "Data_yearAvg"
      ],
      "id": "P8-XcYjeQR-K",
      "execution_count": null,
      "outputs": [
        {
          "output_type": "execute_result",
          "data": {
            "text/html": [
              "<div>\n",
              "<style scoped>\n",
              "    .dataframe tbody tr th:only-of-type {\n",
              "        vertical-align: middle;\n",
              "    }\n",
              "\n",
              "    .dataframe tbody tr th {\n",
              "        vertical-align: top;\n",
              "    }\n",
              "\n",
              "    .dataframe thead th {\n",
              "        text-align: right;\n",
              "    }\n",
              "</style>\n",
              "<table border=\"1\" class=\"dataframe\">\n",
              "  <thead>\n",
              "    <tr style=\"text-align: right;\">\n",
              "      <th></th>\n",
              "      <th>Count</th>\n",
              "    </tr>\n",
              "    <tr>\n",
              "      <th>Date</th>\n",
              "      <th></th>\n",
              "    </tr>\n",
              "  </thead>\n",
              "  <tbody>\n",
              "    <tr>\n",
              "      <th>2014</th>\n",
              "      <td>111590</td>\n",
              "    </tr>\n",
              "    <tr>\n",
              "      <th>2015</th>\n",
              "      <td>131914</td>\n",
              "    </tr>\n",
              "    <tr>\n",
              "      <th>2016</th>\n",
              "      <td>145197</td>\n",
              "    </tr>\n",
              "    <tr>\n",
              "      <th>2017</th>\n",
              "      <td>150039</td>\n",
              "    </tr>\n",
              "    <tr>\n",
              "      <th>2018</th>\n",
              "      <td>187533</td>\n",
              "    </tr>\n",
              "    <tr>\n",
              "      <th>2019</th>\n",
              "      <td>235365</td>\n",
              "    </tr>\n",
              "    <tr>\n",
              "      <th>2020</th>\n",
              "      <td>103308</td>\n",
              "    </tr>\n",
              "    <tr>\n",
              "      <th>2021</th>\n",
              "      <td>251994</td>\n",
              "    </tr>\n",
              "  </tbody>\n",
              "</table>\n",
              "</div>"
            ],
            "text/plain": [
              "       Count\n",
              "Date        \n",
              "2014  111590\n",
              "2015  131914\n",
              "2016  145197\n",
              "2017  150039\n",
              "2018  187533\n",
              "2019  235365\n",
              "2020  103308\n",
              "2021  251994"
            ]
          },
          "metadata": {},
          "execution_count": 365
        }
      ]
    },
    {
      "cell_type": "markdown",
      "metadata": {
        "id": "UUq7PBHhUZeA"
      },
      "source": [
        "Now I can plot a relative graph to analyze the trend of person 1's monthly average step count of each year to see if he/she is more active in the last 12 months than the 12 months before that. Here I plot a trendline and a barplot to visualize the data."
      ],
      "id": "UUq7PBHhUZeA"
    },
    {
      "cell_type": "code",
      "metadata": {
        "id": "pkbOhqe1CYfK",
        "colab": {
          "base_uri": "https://localhost:8080/",
          "height": 557
        },
        "outputId": "29d47e31-cf47-4497-85b2-5a8abbb6f05e"
      },
      "source": [
        "fig, ax = plt.subplots(figsize = (9,4))\n",
        "Data_yearTotal.plot(y='Count', ax=ax)\n",
        "Data_yearTotal.plot.bar(y=\"Count\", figsize = (9,4))\n",
        "fig.show()"
      ],
      "id": "pkbOhqe1CYfK",
      "execution_count": null,
      "outputs": [
        {
          "output_type": "display_data",
          "data": {
            "image/png": "[encoded data removed]",
            "text/plain": [
              "<Figure size 648x288 with 1 Axes>"
            ]
          },
          "metadata": {
            "needs_background": "light"
          }
        },
        {
          "output_type": "display_data",
          "data": {
            "image/png": "[encoded data removed]",
            "text/plain": [
              "<Figure size 648x288 with 1 Axes>"
            ]
          },
          "metadata": {
            "needs_background": "light"
          }
        }
      ]
    },
    {
      "cell_type": "markdown",
      "metadata": {
        "id": "CasiuGWQLC5y"
      },
      "source": [
        "Back to the driving question: **\"Was I more active in the last 12 months than the 12 months before that?\"**. As we can see from the trendline and the barplot, the total step counts from 2014 to 2019 is increasing, which implies that person 1 was more active than the previous year from 2014 to 2020. However, the total step counts of 2020 have decreased enormously compared to the total step counts of 2019. I can assume that person 1 has been impacted by the COVID-19 pandemic and became less active. The step count data in 2020 is complete as it records the data from 2020-01-02 to 2020-12-31. Therefore we can eliminate the possibility of inconsistency of the data.\n",
        "While the total step count of 2021 has increased dramatically, which implies person 1 has recovered mostly from the pandemic and become more active compared to any years from 2014 to 2020."
      ],
      "id": "CasiuGWQLC5y"
    },
    {
      "cell_type": "code",
      "metadata": {
        "colab": {
          "base_uri": "https://localhost:8080/",
          "height": 419
        },
        "id": "1RuJb4fpjWes",
        "outputId": "e41cac00-95cc-4892-984d-c64faf0735f9"
      },
      "source": [
        "mask = rawData['Date'].dt.year == int(2020)\n",
        "include = rawData[mask]\n",
        "include\n",
        "#exclude = df[~mask]"
      ],
      "id": "1RuJb4fpjWes",
      "execution_count": null,
      "outputs": [
        {
          "output_type": "execute_result",
          "data": {
            "text/html": [
              "<div>\n",
              "<style scoped>\n",
              "    .dataframe tbody tr th:only-of-type {\n",
              "        vertical-align: middle;\n",
              "    }\n",
              "\n",
              "    .dataframe tbody tr th {\n",
              "        vertical-align: top;\n",
              "    }\n",
              "\n",
              "    .dataframe thead th {\n",
              "        text-align: right;\n",
              "    }\n",
              "</style>\n",
              "<table border=\"1\" class=\"dataframe\">\n",
              "  <thead>\n",
              "    <tr style=\"text-align: right;\">\n",
              "      <th></th>\n",
              "      <th>Source</th>\n",
              "      <th>Date</th>\n",
              "      <th>Hour</th>\n",
              "      <th>Count</th>\n",
              "    </tr>\n",
              "  </thead>\n",
              "  <tbody>\n",
              "    <tr>\n",
              "      <th>124180</th>\n",
              "      <td>Person1 iPhone SE</td>\n",
              "      <td>2020-01-02</td>\n",
              "      <td>7</td>\n",
              "      <td>10</td>\n",
              "    </tr>\n",
              "    <tr>\n",
              "      <th>124181</th>\n",
              "      <td>Person1 iPhone SE</td>\n",
              "      <td>2020-01-02</td>\n",
              "      <td>8</td>\n",
              "      <td>338</td>\n",
              "    </tr>\n",
              "    <tr>\n",
              "      <th>124182</th>\n",
              "      <td>Person1 iPhone SE</td>\n",
              "      <td>2020-01-02</td>\n",
              "      <td>9</td>\n",
              "      <td>101</td>\n",
              "    </tr>\n",
              "    <tr>\n",
              "      <th>124183</th>\n",
              "      <td>Person1 iPhone SE</td>\n",
              "      <td>2020-01-02</td>\n",
              "      <td>9</td>\n",
              "      <td>509</td>\n",
              "    </tr>\n",
              "    <tr>\n",
              "      <th>124184</th>\n",
              "      <td>Person1 iPhone SE</td>\n",
              "      <td>2020-01-02</td>\n",
              "      <td>9</td>\n",
              "      <td>71</td>\n",
              "    </tr>\n",
              "    <tr>\n",
              "      <th>...</th>\n",
              "      <td>...</td>\n",
              "      <td>...</td>\n",
              "      <td>...</td>\n",
              "      <td>...</td>\n",
              "    </tr>\n",
              "    <tr>\n",
              "      <th>156296</th>\n",
              "      <td>Person1 iPhone SE</td>\n",
              "      <td>2020-12-31</td>\n",
              "      <td>13</td>\n",
              "      <td>9</td>\n",
              "    </tr>\n",
              "    <tr>\n",
              "      <th>156297</th>\n",
              "      <td>Person1 iPhone SE</td>\n",
              "      <td>2020-12-31</td>\n",
              "      <td>13</td>\n",
              "      <td>329</td>\n",
              "    </tr>\n",
              "    <tr>\n",
              "      <th>156298</th>\n",
              "      <td>Person1 iPhone SE</td>\n",
              "      <td>2020-12-31</td>\n",
              "      <td>13</td>\n",
              "      <td>188</td>\n",
              "    </tr>\n",
              "    <tr>\n",
              "      <th>156299</th>\n",
              "      <td>Person1 iPhone SE</td>\n",
              "      <td>2020-12-31</td>\n",
              "      <td>14</td>\n",
              "      <td>36</td>\n",
              "    </tr>\n",
              "    <tr>\n",
              "      <th>156300</th>\n",
              "      <td>Person1 iPhone SE</td>\n",
              "      <td>2020-12-31</td>\n",
              "      <td>15</td>\n",
              "      <td>21</td>\n",
              "    </tr>\n",
              "  </tbody>\n",
              "</table>\n",
              "<p>5273 rows × 4 columns</p>\n",
              "</div>"
            ],
            "text/plain": [
              "                   Source       Date Hour  Count\n",
              "124180  Person1 iPhone SE 2020-01-02    7     10\n",
              "124181  Person1 iPhone SE 2020-01-02    8    338\n",
              "124182  Person1 iPhone SE 2020-01-02    9    101\n",
              "124183  Person1 iPhone SE 2020-01-02    9    509\n",
              "124184  Person1 iPhone SE 2020-01-02    9     71\n",
              "...                   ...        ...  ...    ...\n",
              "156296  Person1 iPhone SE 2020-12-31   13      9\n",
              "156297  Person1 iPhone SE 2020-12-31   13    329\n",
              "156298  Person1 iPhone SE 2020-12-31   13    188\n",
              "156299  Person1 iPhone SE 2020-12-31   14     36\n",
              "156300  Person1 iPhone SE 2020-12-31   15     21\n",
              "\n",
              "[5273 rows x 4 columns]"
            ]
          },
          "metadata": {},
          "execution_count": 367
        }
      ]
    }
  ]
}