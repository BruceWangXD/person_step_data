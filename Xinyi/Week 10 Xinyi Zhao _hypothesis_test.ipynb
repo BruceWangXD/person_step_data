{
  "nbformat": 4,
  "nbformat_minor": 0,
  "metadata": {
    "colab": {
      "name": "hypothesis test.ipynb",
      "provenance": [],
      "collapsed_sections": []
    },
    "kernelspec": {
      "display_name": "Python 3",
      "name": "python3"
    },
    "language_info": {
      "name": "python"
    }
  },
  "cells": [
    {
      "cell_type": "markdown",
      "metadata": {
        "id": "UMTc0Zdb7Wol"
      },
      "source": [
        "# Import Packages"
      ]
    },
    {
      "cell_type": "code",
      "metadata": {
        "id": "_Be6r2px4oJ1"
      },
      "source": [
        "import pandas as pd\n",
        "import numpy as np\n",
        "import datetime\n",
        "import matplotlib.pyplot as plt\n",
        "import seaborn as sns\n",
        "%matplotlib inline\n",
        "from scipy import stats"
      ],
      "execution_count": null,
      "outputs": []
    },
    {
      "cell_type": "markdown",
      "metadata": {
        "id": "o4fenZaa7RL3"
      },
      "source": [
        "# Import Dataset\n"
      ]
    },
    {
      "cell_type": "code",
      "metadata": {
        "colab": {
          "base_uri": "https://localhost:8080/",
          "height": 204
        },
        "id": "xQSHQPy56L57",
        "outputId": "5b3b2e6e-96b7-421d-99cd-62a75bf88aaa"
      },
      "source": [
        "data=pd.read_csv(\"person1-step-data.csv\")\n",
        "data.head()\n"
      ],
      "execution_count": null,
      "outputs": [
        {
          "output_type": "execute_result",
          "data": {
            "text/html": [
              "<div>\n",
              "<style scoped>\n",
              "    .dataframe tbody tr th:only-of-type {\n",
              "        vertical-align: middle;\n",
              "    }\n",
              "\n",
              "    .dataframe tbody tr th {\n",
              "        vertical-align: top;\n",
              "    }\n",
              "\n",
              "    .dataframe thead th {\n",
              "        text-align: right;\n",
              "    }\n",
              "</style>\n",
              "<table border=\"1\" class=\"dataframe\">\n",
              "  <thead>\n",
              "    <tr style=\"text-align: right;\">\n",
              "      <th></th>\n",
              "      <th>Source</th>\n",
              "      <th>Date</th>\n",
              "      <th>Hour</th>\n",
              "      <th>Count</th>\n",
              "    </tr>\n",
              "  </thead>\n",
              "  <tbody>\n",
              "    <tr>\n",
              "      <th>0</th>\n",
              "      <td>Person1 iPhone SE</td>\n",
              "      <td>2014/12/7</td>\n",
              "      <td>8</td>\n",
              "      <td>13</td>\n",
              "    </tr>\n",
              "    <tr>\n",
              "      <th>1</th>\n",
              "      <td>Person1 iPhone SE</td>\n",
              "      <td>2014/12/7</td>\n",
              "      <td>8</td>\n",
              "      <td>13</td>\n",
              "    </tr>\n",
              "    <tr>\n",
              "      <th>2</th>\n",
              "      <td>Person1 iPhone SE</td>\n",
              "      <td>2014/12/7</td>\n",
              "      <td>8</td>\n",
              "      <td>1</td>\n",
              "    </tr>\n",
              "    <tr>\n",
              "      <th>3</th>\n",
              "      <td>Person1 iPhone SE</td>\n",
              "      <td>2014/12/7</td>\n",
              "      <td>8</td>\n",
              "      <td>9</td>\n",
              "    </tr>\n",
              "    <tr>\n",
              "      <th>4</th>\n",
              "      <td>Person1 iPhone SE</td>\n",
              "      <td>2014/12/7</td>\n",
              "      <td>8</td>\n",
              "      <td>15</td>\n",
              "    </tr>\n",
              "  </tbody>\n",
              "</table>\n",
              "</div>"
            ],
            "text/plain": [
              "              Source       Date  Hour  Count\n",
              "0  Person1 iPhone SE  2014/12/7     8     13\n",
              "1  Person1 iPhone SE  2014/12/7     8     13\n",
              "2  Person1 iPhone SE  2014/12/7     8      1\n",
              "3  Person1 iPhone SE  2014/12/7     8      9\n",
              "4  Person1 iPhone SE  2014/12/7     8     15"
            ]
          },
          "metadata": {},
          "execution_count": 2
        }
      ]
    },
    {
      "cell_type": "markdown",
      "metadata": {
        "id": "VycBFxkcKpwP"
      },
      "source": [
        "Checking if there is null value need to clean or fill in."
      ]
    },
    {
      "cell_type": "code",
      "metadata": {
        "colab": {
          "base_uri": "https://localhost:8080/"
        },
        "id": "gbrbUGJA7BWa",
        "outputId": "ae63f487-be7f-405a-c282-1f7be58ad16c"
      },
      "source": [
        "data.isnull().values.any()"
      ],
      "execution_count": null,
      "outputs": [
        {
          "output_type": "execute_result",
          "data": {
            "text/plain": [
              "False"
            ]
          },
          "metadata": {},
          "execution_count": 3
        }
      ]
    },
    {
      "cell_type": "markdown",
      "metadata": {
        "id": "ebJ9Vfu0Ku_l"
      },
      "source": [
        "Change the datetime formate so that pandas can read."
      ]
    },
    {
      "cell_type": "code",
      "metadata": {
        "id": "q6dC5sHL7yBo"
      },
      "source": [
        "data['Date'] = pd.to_datetime(data['Date'])\n",
        "data['month_year'] = data['Date'].dt.to_period('M')"
      ],
      "execution_count": null,
      "outputs": []
    },
    {
      "cell_type": "markdown",
      "metadata": {
        "id": "aHCkoKkjOt40"
      },
      "source": [
        "summarize each month toal steps by month_year"
      ]
    },
    {
      "cell_type": "code",
      "metadata": {
        "colab": {
          "base_uri": "https://localhost:8080/",
          "height": 450
        },
        "id": "Iy3fTDf19STX",
        "outputId": "94456cec-3494-49c2-9af3-2242dc6449cb"
      },
      "source": [
        "data_group=data.groupby('month_year')['Count']\n",
        "data_new=data_group.sum()\n",
        "data_new=pd.DataFrame(data_new)\n",
        "data_new"
      ],
      "execution_count": null,
      "outputs": [
        {
          "output_type": "execute_result",
          "data": {
            "text/html": [
              "<div>\n",
              "<style scoped>\n",
              "    .dataframe tbody tr th:only-of-type {\n",
              "        vertical-align: middle;\n",
              "    }\n",
              "\n",
              "    .dataframe tbody tr th {\n",
              "        vertical-align: top;\n",
              "    }\n",
              "\n",
              "    .dataframe thead th {\n",
              "        text-align: right;\n",
              "    }\n",
              "</style>\n",
              "<table border=\"1\" class=\"dataframe\">\n",
              "  <thead>\n",
              "    <tr style=\"text-align: right;\">\n",
              "      <th></th>\n",
              "      <th>Count</th>\n",
              "    </tr>\n",
              "    <tr>\n",
              "      <th>month_year</th>\n",
              "      <th></th>\n",
              "    </tr>\n",
              "  </thead>\n",
              "  <tbody>\n",
              "    <tr>\n",
              "      <th>2014-12</th>\n",
              "      <td>111590</td>\n",
              "    </tr>\n",
              "    <tr>\n",
              "      <th>2015-01</th>\n",
              "      <td>131321</td>\n",
              "    </tr>\n",
              "    <tr>\n",
              "      <th>2015-02</th>\n",
              "      <td>106851</td>\n",
              "    </tr>\n",
              "    <tr>\n",
              "      <th>2015-03</th>\n",
              "      <td>101621</td>\n",
              "    </tr>\n",
              "    <tr>\n",
              "      <th>2015-04</th>\n",
              "      <td>91726</td>\n",
              "    </tr>\n",
              "    <tr>\n",
              "      <th>...</th>\n",
              "      <td>...</td>\n",
              "    </tr>\n",
              "    <tr>\n",
              "      <th>2021-05</th>\n",
              "      <td>518898</td>\n",
              "    </tr>\n",
              "    <tr>\n",
              "      <th>2021-06</th>\n",
              "      <td>406440</td>\n",
              "    </tr>\n",
              "    <tr>\n",
              "      <th>2021-07</th>\n",
              "      <td>360565</td>\n",
              "    </tr>\n",
              "    <tr>\n",
              "      <th>2021-08</th>\n",
              "      <td>321087</td>\n",
              "    </tr>\n",
              "    <tr>\n",
              "      <th>2021-09</th>\n",
              "      <td>205743</td>\n",
              "    </tr>\n",
              "  </tbody>\n",
              "</table>\n",
              "<p>82 rows × 1 columns</p>\n",
              "</div>"
            ],
            "text/plain": [
              "             Count\n",
              "month_year        \n",
              "2014-12     111590\n",
              "2015-01     131321\n",
              "2015-02     106851\n",
              "2015-03     101621\n",
              "2015-04      91726\n",
              "...            ...\n",
              "2021-05     518898\n",
              "2021-06     406440\n",
              "2021-07     360565\n",
              "2021-08     321087\n",
              "2021-09     205743\n",
              "\n",
              "[82 rows x 1 columns]"
            ]
          },
          "metadata": {},
          "execution_count": 5
        }
      ]
    },
    {
      "cell_type": "markdown",
      "metadata": {
        "id": "GCBHrUs_Osqm"
      },
      "source": [
        "test the data for each month total steps"
      ]
    },
    {
      "cell_type": "code",
      "metadata": {
        "colab": {
          "base_uri": "https://localhost:8080/",
          "height": 452
        },
        "id": "70JwaJcsRpzj",
        "outputId": "392bf23d-0ed4-4e69-f0e0-31859e83abb6"
      },
      "source": [
        "data_2015 = data['Date'].dt.year == int(2015)\n",
        "data_2015 = data[data_2015]\n",
        "data_2015\n",
        "data_2015 = data_2015.groupby(data_2015.Date.dt.month).sum()[\"Count\"]\n",
        "data_2015=pd.DataFrame(data_2015)\n",
        "data_2015"
      ],
      "execution_count": null,
      "outputs": [
        {
          "output_type": "execute_result",
          "data": {
            "text/html": [
              "<div>\n",
              "<style scoped>\n",
              "    .dataframe tbody tr th:only-of-type {\n",
              "        vertical-align: middle;\n",
              "    }\n",
              "\n",
              "    .dataframe tbody tr th {\n",
              "        vertical-align: top;\n",
              "    }\n",
              "\n",
              "    .dataframe thead th {\n",
              "        text-align: right;\n",
              "    }\n",
              "</style>\n",
              "<table border=\"1\" class=\"dataframe\">\n",
              "  <thead>\n",
              "    <tr style=\"text-align: right;\">\n",
              "      <th></th>\n",
              "      <th>Count</th>\n",
              "    </tr>\n",
              "    <tr>\n",
              "      <th>Date</th>\n",
              "      <th></th>\n",
              "    </tr>\n",
              "  </thead>\n",
              "  <tbody>\n",
              "    <tr>\n",
              "      <th>1</th>\n",
              "      <td>131321</td>\n",
              "    </tr>\n",
              "    <tr>\n",
              "      <th>2</th>\n",
              "      <td>106851</td>\n",
              "    </tr>\n",
              "    <tr>\n",
              "      <th>3</th>\n",
              "      <td>101621</td>\n",
              "    </tr>\n",
              "    <tr>\n",
              "      <th>4</th>\n",
              "      <td>91726</td>\n",
              "    </tr>\n",
              "    <tr>\n",
              "      <th>5</th>\n",
              "      <td>177845</td>\n",
              "    </tr>\n",
              "    <tr>\n",
              "      <th>6</th>\n",
              "      <td>169385</td>\n",
              "    </tr>\n",
              "    <tr>\n",
              "      <th>7</th>\n",
              "      <td>202681</td>\n",
              "    </tr>\n",
              "    <tr>\n",
              "      <th>8</th>\n",
              "      <td>138543</td>\n",
              "    </tr>\n",
              "    <tr>\n",
              "      <th>9</th>\n",
              "      <td>118508</td>\n",
              "    </tr>\n",
              "    <tr>\n",
              "      <th>10</th>\n",
              "      <td>114230</td>\n",
              "    </tr>\n",
              "    <tr>\n",
              "      <th>11</th>\n",
              "      <td>136521</td>\n",
              "    </tr>\n",
              "    <tr>\n",
              "      <th>12</th>\n",
              "      <td>93739</td>\n",
              "    </tr>\n",
              "  </tbody>\n",
              "</table>\n",
              "</div>"
            ],
            "text/plain": [
              "       Count\n",
              "Date        \n",
              "1     131321\n",
              "2     106851\n",
              "3     101621\n",
              "4      91726\n",
              "5     177845\n",
              "6     169385\n",
              "7     202681\n",
              "8     138543\n",
              "9     118508\n",
              "10    114230\n",
              "11    136521\n",
              "12     93739"
            ]
          },
          "metadata": {},
          "execution_count": 6
        }
      ]
    },
    {
      "cell_type": "markdown",
      "metadata": {
        "id": "L0904tOWPv-0"
      },
      "source": [
        "setup the loop, storage each month total steps from 2015 to 2021 December for further research."
      ]
    },
    {
      "cell_type": "code",
      "metadata": {
        "id": "qaNt950H-JKB"
      },
      "source": [
        "t=True\n",
        "year_index=2015\n",
        "year_list=[]\n",
        "while t:\n",
        "    temp=data['Date'].dt.year == int(year_index)   \n",
        "    temp=data[temp]\n",
        "    temp = temp.groupby(temp.Date.dt.month).sum()[\"Count\"]\n",
        "    temp=pd.DataFrame(temp)\n",
        "    year_list.append(temp)\n",
        "    year_index+=1\n",
        "    if year_index==2022:\n",
        "        t=False\n"
      ],
      "execution_count": null,
      "outputs": []
    },
    {
      "cell_type": "markdown",
      "metadata": {
        "id": "VDz3p928xOEL"
      },
      "source": [
        "# Hypothesis Test"
      ]
    },
    {
      "cell_type": "markdown",
      "metadata": {
        "id": "mMc_nezUYgOj"
      },
      "source": [
        "#Median-test:\n",
        "**<font color=Red>(1).Hypothesis:</font>** **H<sub>0</sub>**:X<sub>2019·</sub>$\\geq$<sub>·2020</sub> vs **H<sub>1</sub>**:X<sub>2019·</sub>$<$X<sub>2020</sub>\n",
        "\n",
        "**<font color=Red>(2).Assumption:</font>**2019<sub>i</sub> and 2020<sub>i</sub> are independent and identically distributed variables N($\\mu$<sub>2019</sub>,$\\sigma$$^2$) and the test variables are ordinal.\n",
        "\n",
        "**<font color=Red>(3).Test statistic:</font>**$t_0$=8.166\n",
        "\n",
        "\n",
        "**<font color=Red>(4).P-value:</font>**P-value=0.997\n",
        "\n",
        "\n",
        "**<font color=Red>(5).Decision:</font>**The P-value is greater than 0.05,therefore we **<font color=DarkRed>do not reject the null hypothesis</font>** and conclude that there is **<font color=Darkred>no</font>** evidence can show that the person1 was more active in 2020 than in 2019. The median test considers the positional gap of each data relative to the median in the whole, and the data is quantitative which allows to use the median test."
      ]
    },
    {
      "cell_type": "code",
      "metadata": {
        "colab": {
          "base_uri": "https://localhost:8080/"
        },
        "id": "YThXrFt5Wn8z",
        "outputId": "ae3f9890-7164-4110-956f-82bc92d12734"
      },
      "source": [
        "from scipy.stats import median_test\n",
        "result=median_test(year_list[4]['Count'],year_list[5]['Count'], ties = \"above\")\n",
        "if result[0]>0:\n",
        "  pvalue=1-result[1]/2\n",
        "else:\n",
        "  pvalue=result.pvalue[1]/2\n",
        "print(pvalue)\n",
        "statistic=result[0]\n",
        "print(statistic)\n"
      ],
      "execution_count": null,
      "outputs": [
        {
          "output_type": "stream",
          "name": "stdout",
          "text": [
            "0.9978666375889119\n",
            "8.166666666666666\n"
          ]
        }
      ]
    },
    {
      "cell_type": "markdown",
      "metadata": {
        "id": "G2OV5Qp1Yjqu"
      },
      "source": [
        "# Wilcox-Rank-Sum test\n",
        "**<font color=Red>(1).Hypothesis:</font>** **H<sub>0</sub>**:$\\mu$<sub>2019·</sub>$\\geq$$\\mu$<sub>2020</sub> vs **H<sub>1</sub>**:$\\mu$<sub>2019</sub>$<$$\\mu$<sub>2020</sub>\n",
        "\n",
        "**<font color=Red>(2).Assumption:</font>**2019<sub>i</sub> and 2020<sub>i</sub> are independent and follow the same kind of distribution but differ by a shift.\n",
        "\n",
        "**<font color=Red>(3).Test statistic:</font>** W=R<sub>1</sub>+R<sub>1</sub>+...+R<sub>n<sub>2019</sub></sub> Under H<sub>0</sub>,W follows the WRS(12,12) distribution.\n",
        "\n",
        "**<font color=Red>(4).Test statistic:</font>**w=3.117\n",
        "\n",
        "**<font color=Red>(5).P-value:</font>**P(W$\\geq$$w$)=0.999\n",
        "\n",
        "**<font color=Red>(6).Decision:</font>**The P-value is greater than 0.05,therefore we **<font color=DarkRed>do not reject the null hypothesis</font>** and conclude that there is **<font color=Darkred>no</font>** evidence can show that the person1 was more active in 2020 than in 2019. The Wilcox-rank-sum test consider 2019 and 2020 these two independent variables population arrangement.\n"
      ]
    },
    {
      "cell_type": "code",
      "metadata": {
        "colab": {
          "base_uri": "https://localhost:8080/"
        },
        "id": "j5563ZgTYnRl",
        "outputId": "fa8aa352-acda-49ba-dc34-27dcca90e291"
      },
      "source": [
        "from scipy.stats import ranksums\n",
        "result=ranksums(year_list[4]['Count'],year_list[5]['Count'])\n",
        "if result.statistic>0:\n",
        "  pvalue=1-result.pvalue/2\n",
        "else:\n",
        "  pvalue=result.pvalue/2\n",
        "print(pvalue)\n",
        "statistic=result.statistic\n",
        "print(statistic)\n"
      ],
      "execution_count": null,
      "outputs": [
        {
          "output_type": "stream",
          "name": "stdout",
          "text": [
            "0.9990886324168043\n",
            "3.117691453623979\n"
          ]
        }
      ]
    },
    {
      "cell_type": "markdown",
      "metadata": {
        "id": "DhTZo60CZwv-"
      },
      "source": [
        "# Two-sample t-test\n",
        "**<font color=Red>(1).Hypothesis:</font>** **H<sub>0</sub>**:X<sub>2019·</sub>$\\geq$<sub>·2020</sub> vs **H<sub>1</sub>**:X<sub>2019·</sub>$<$X<sub>2020</sub>\n",
        "\n",
        "**<font color=Red>(2).Assumption:</font>**2019<sub>i</sub> and 2020<sub>i</sub> are iid N($\\mu$<sub>2019</sub>,$\\sigma$$^2$) and 2019<sub>i</sub> are independent of 2020<sub>i</sub>\n",
        "\n",
        "**<font color=Red>(3).Test statistic:</font>**$t_0$=3.221\n",
        "\n",
        "\n",
        "**<font color=Red>(4).P-value:</font>**P-value=0.997\n",
        "\n",
        "\n",
        "**<font color=Red>(5).Decision:</font>**The P-value is greater than 0.05,therefore we **<font color=DarkRed>do not reject the null hypothesis</font>** and conclude that there is **<font color=Darkred>no</font>** evidence can show that the person1 was more active in 2020 than in 2019.\n"
      ]
    },
    {
      "cell_type": "markdown",
      "metadata": {
        "id": "yl1wqXgSXlEm"
      },
      "source": [
        "* First, we need to **check whether the variances of the two populations are equal**, if the variances are equal, which means the two sample years with similar or equal avarge steps. Therefore we choose the t-test to verify. In this situation, once the p-value is greater than 0.05,  we can conclude that the variances of the two sample are equal and two sample year have same avarage steps, vice versa."
      ]
    },
    {
      "cell_type": "markdown",
      "metadata": {
        "id": "PZLwIYAxKP7Q"
      },
      "source": [
        "* As the result, p-value = 0.0437, which is **lower than 0.05**. these two sample year with **different** variances. So we need to add the \"equal_var=False\" in the below code."
      ]
    },
    {
      "cell_type": "code",
      "metadata": {
        "colab": {
          "base_uri": "https://localhost:8080/"
        },
        "id": "ILlt9LfsZ0k-",
        "outputId": "e64eb317-ea49-4ebb-c768-629ec7152b95"
      },
      "source": [
        "from scipy import stats\n",
        "stats.levene(year_list[5]['Count'],year_list[4]['Count'])\n"
      ],
      "execution_count": null,
      "outputs": [
        {
          "output_type": "execute_result",
          "data": {
            "text/plain": [
              "LeveneResult(statistic=4.579807268124913, pvalue=0.04369169423054889)"
            ]
          },
          "metadata": {},
          "execution_count": 11
        }
      ]
    },
    {
      "cell_type": "markdown",
      "metadata": {
        "id": "fIMc4FIj_Qa5"
      },
      "source": [
        "* Then we perform the two sample t-test and we get the pvalue"
      ]
    },
    {
      "cell_type": "code",
      "metadata": {
        "colab": {
          "base_uri": "https://localhost:8080/"
        },
        "id": "xVSioEKid5iF",
        "outputId": "4f1fd54d-f2e2-45eb-d92e-ec63c38331c0"
      },
      "source": [
        "from scipy.stats import ttest_ind\n",
        "result=ttest_ind(year_list[4]['Count'],year_list[5]['Count'],equal_var=False)\n",
        "if result.statistic>0:\n",
        "  pvalue=1-result.pvalue/2\n",
        "else:\n",
        "  pvalue=result.pvalue/2\n",
        "print(pvalue)\n",
        "statistic=result.statistic\n",
        "print(statistic)"
      ],
      "execution_count": null,
      "outputs": [
        {
          "output_type": "stream",
          "name": "stdout",
          "text": [
            "0.9965075092589535\n",
            "3.2211951865187656\n"
          ]
        }
      ]
    },
    {
      "cell_type": "code",
      "metadata": {
        "id": "vS69U_QTvbkH"
      },
      "source": [
        ""
      ],
      "execution_count": null,
      "outputs": []
    }
  ]
}