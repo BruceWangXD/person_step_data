{
  "nbformat": 4,
  "nbformat_minor": 0,
  "metadata": {
    "colab": {
      "name": "Week8 Xinyi Zhao.ipynb",
      "provenance": [],
      "collapsed_sections": []
    },
    "kernelspec": {
      "name": "python3",
      "display_name": "Python 3"
    },
    "language_info": {
      "name": "python"
    }
  },
  "cells": [
    {
      "cell_type": "markdown",
      "metadata": {
        "id": "TCKpzoDJ3IWQ"
      },
      "source": [
        "# the Purpose of the notebook:"
      ]
    },
    {
      "cell_type": "markdown",
      "metadata": {
        "id": "pwxYYuYy2nzh"
      },
      "source": [
        "\n",
        "to explore the data analysis in Assignment 2.\n",
        "summarize the questions in my part and prepare the discuss the question in the tutorial with the group members.\n",
        "As the group manager, I am responsible for tracking each part of the assignment and making sure everything is fine.\n",
        "As the checklist for each week to warning myself what I should do in the following classes.\n"
      ]
    },
    {
      "cell_type": "markdown",
      "metadata": {
        "id": "c5Sh5ULW3X1o"
      },
      "source": [
        "# Week 7"
      ]
    },
    {
      "cell_type": "markdown",
      "metadata": {
        "id": "Szp1e_MN3bQN"
      },
      "source": [
        "Understand the meaning of the dataset and select the preference one for the follow steps."
      ]
    },
    {
      "cell_type": "code",
      "metadata": {
        "colab": {
          "base_uri": "https://localhost:8080/",
          "height": 419
        },
        "id": "qvHwJI543muI",
        "outputId": "5337bb5d-88f6-458a-f6bc-2ecb8e4f38f1"
      },
      "source": [
        "import pandas as pd\n",
        "import numpy as np\n",
        "df1 = pd.read_csv(\"person1.csv\")\n",
        "df1\n"
      ],
      "execution_count": null,
      "outputs": [
        {
          "output_type": "execute_result",
          "data": {
            "text/html": [
              "<div>\n",
              "<style scoped>\n",
              "    .dataframe tbody tr th:only-of-type {\n",
              "        vertical-align: middle;\n",
              "    }\n",
              "\n",
              "    .dataframe tbody tr th {\n",
              "        vertical-align: top;\n",
              "    }\n",
              "\n",
              "    .dataframe thead th {\n",
              "        text-align: right;\n",
              "    }\n",
              "</style>\n",
              "<table border=\"1\" class=\"dataframe\">\n",
              "  <thead>\n",
              "    <tr style=\"text-align: right;\">\n",
              "      <th></th>\n",
              "      <th>Source</th>\n",
              "      <th>Date</th>\n",
              "      <th>Hour</th>\n",
              "      <th>Count</th>\n",
              "    </tr>\n",
              "  </thead>\n",
              "  <tbody>\n",
              "    <tr>\n",
              "      <th>0</th>\n",
              "      <td>Person1 iPhone SE</td>\n",
              "      <td>2014-12-07</td>\n",
              "      <td>8</td>\n",
              "      <td>13</td>\n",
              "    </tr>\n",
              "    <tr>\n",
              "      <th>1</th>\n",
              "      <td>Person1 iPhone SE</td>\n",
              "      <td>2014-12-07</td>\n",
              "      <td>8</td>\n",
              "      <td>13</td>\n",
              "    </tr>\n",
              "    <tr>\n",
              "      <th>2</th>\n",
              "      <td>Person1 iPhone SE</td>\n",
              "      <td>2014-12-07</td>\n",
              "      <td>8</td>\n",
              "      <td>1</td>\n",
              "    </tr>\n",
              "    <tr>\n",
              "      <th>3</th>\n",
              "      <td>Person1 iPhone SE</td>\n",
              "      <td>2014-12-07</td>\n",
              "      <td>8</td>\n",
              "      <td>9</td>\n",
              "    </tr>\n",
              "    <tr>\n",
              "      <th>4</th>\n",
              "      <td>Person1 iPhone SE</td>\n",
              "      <td>2014-12-07</td>\n",
              "      <td>8</td>\n",
              "      <td>15</td>\n",
              "    </tr>\n",
              "    <tr>\n",
              "      <th>...</th>\n",
              "      <td>...</td>\n",
              "      <td>...</td>\n",
              "      <td>...</td>\n",
              "      <td>...</td>\n",
              "    </tr>\n",
              "    <tr>\n",
              "      <th>183782</th>\n",
              "      <td>Person1 iPhone SE</td>\n",
              "      <td>2021-09-22</td>\n",
              "      <td>17</td>\n",
              "      <td>1241</td>\n",
              "    </tr>\n",
              "    <tr>\n",
              "      <th>183783</th>\n",
              "      <td>Person1 iPhone SE</td>\n",
              "      <td>2021-09-22</td>\n",
              "      <td>17</td>\n",
              "      <td>1212</td>\n",
              "    </tr>\n",
              "    <tr>\n",
              "      <th>183784</th>\n",
              "      <td>Person1 iPhone SE</td>\n",
              "      <td>2021-09-22</td>\n",
              "      <td>18</td>\n",
              "      <td>808</td>\n",
              "    </tr>\n",
              "    <tr>\n",
              "      <th>183785</th>\n",
              "      <td>Person1 iPhone SE</td>\n",
              "      <td>2021-09-22</td>\n",
              "      <td>18</td>\n",
              "      <td>392</td>\n",
              "    </tr>\n",
              "    <tr>\n",
              "      <th>183786</th>\n",
              "      <td>Person1 iPhone SE</td>\n",
              "      <td>2021-09-22</td>\n",
              "      <td>18</td>\n",
              "      <td>34</td>\n",
              "    </tr>\n",
              "  </tbody>\n",
              "</table>\n",
              "<p>183787 rows × 4 columns</p>\n",
              "</div>"
            ],
            "text/plain": [
              "                   Source        Date  Hour  Count\n",
              "0       Person1 iPhone SE  2014-12-07     8     13\n",
              "1       Person1 iPhone SE  2014-12-07     8     13\n",
              "2       Person1 iPhone SE  2014-12-07     8      1\n",
              "3       Person1 iPhone SE  2014-12-07     8      9\n",
              "4       Person1 iPhone SE  2014-12-07     8     15\n",
              "...                   ...         ...   ...    ...\n",
              "183782  Person1 iPhone SE  2021-09-22    17   1241\n",
              "183783  Person1 iPhone SE  2021-09-22    17   1212\n",
              "183784  Person1 iPhone SE  2021-09-22    18    808\n",
              "183785  Person1 iPhone SE  2021-09-22    18    392\n",
              "183786  Person1 iPhone SE  2021-09-22    18     34\n",
              "\n",
              "[183787 rows x 4 columns]"
            ]
          },
          "metadata": {},
          "execution_count": 3
        }
      ]
    },
    {
      "cell_type": "markdown",
      "metadata": {
        "id": "jyYcB0u-4ysm"
      },
      "source": [
        "import the data"
      ]
    },
    {
      "cell_type": "code",
      "metadata": {
        "colab": {
          "base_uri": "https://localhost:8080/"
        },
        "id": "w3ehHmd944UE",
        "outputId": "801c90f0-706e-403e-9870-d57e84490739"
      },
      "source": [
        "df1.isnull().values.any()"
      ],
      "execution_count": null,
      "outputs": [
        {
          "output_type": "execute_result",
          "data": {
            "text/plain": [
              "False"
            ]
          },
          "metadata": {},
          "execution_count": 4
        }
      ]
    },
    {
      "cell_type": "markdown",
      "metadata": {
        "id": "zkpNlDhs6JJZ"
      },
      "source": [
        "check if there is any NaN value and the answer is no."
      ]
    }
  ]
}